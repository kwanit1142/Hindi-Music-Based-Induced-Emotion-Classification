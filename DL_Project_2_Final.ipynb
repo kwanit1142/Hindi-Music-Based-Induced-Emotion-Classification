{
  "nbformat": 4,
  "nbformat_minor": 0,
  "metadata": {
    "colab": {
      "name": "DL_Project_2.ipynb",
      "provenance": [],
      "collapsed_sections": [
        "WrYMOPn-8K94",
        "00m3EpyT8QhU",
        "vL_ncEE2ckXV",
        "SWqlpq4xbmD_",
        "IJRa2MOfbZ-h",
        "W6tpuZYsbRMC",
        "_XaTmcSdbIuc",
        "ggyXW-VYa-Po",
        "Is9xs4hwa3Pg",
        "IxQwYmV0axWP"
      ],
      "machine_shape": "hm"
    },
    "kernelspec": {
      "name": "python3",
      "display_name": "Python 3"
    },
    "language_info": {
      "name": "python"
    },
    "accelerator": "GPU",
    "widgets": {
      "application/vnd.jupyter.widget-state+json": {
        "a428ff01efb447dda0f11d0ceca15bf4": {
          "model_module": "@jupyter-widgets/controls",
          "model_name": "HBoxModel",
          "model_module_version": "1.5.0",
          "state": {
            "_dom_classes": [],
            "_model_module": "@jupyter-widgets/controls",
            "_model_module_version": "1.5.0",
            "_model_name": "HBoxModel",
            "_view_count": null,
            "_view_module": "@jupyter-widgets/controls",
            "_view_module_version": "1.5.0",
            "_view_name": "HBoxView",
            "box_style": "",
            "children": [
              "IPY_MODEL_c44b65367e3c46bda7aecfd1b9838a5f",
              "IPY_MODEL_59aa95c5545a4e1f82d8186bade5d017",
              "IPY_MODEL_fa769a6df54f44a19dd33862bb59c24a"
            ],
            "layout": "IPY_MODEL_1cd9b497dab0436b8de25b5e6c53c115"
          }
        },
        "c44b65367e3c46bda7aecfd1b9838a5f": {
          "model_module": "@jupyter-widgets/controls",
          "model_name": "HTMLModel",
          "model_module_version": "1.5.0",
          "state": {
            "_dom_classes": [],
            "_model_module": "@jupyter-widgets/controls",
            "_model_module_version": "1.5.0",
            "_model_name": "HTMLModel",
            "_view_count": null,
            "_view_module": "@jupyter-widgets/controls",
            "_view_module_version": "1.5.0",
            "_view_name": "HTMLView",
            "description": "",
            "description_tooltip": null,
            "layout": "IPY_MODEL_5cf888d4b1bb49da9702320996f53e1b",
            "placeholder": "​",
            "style": "IPY_MODEL_cd59ebb7db1e4a97a9faabfddf1a7bc7",
            "value": "100%"
          }
        },
        "59aa95c5545a4e1f82d8186bade5d017": {
          "model_module": "@jupyter-widgets/controls",
          "model_name": "FloatProgressModel",
          "model_module_version": "1.5.0",
          "state": {
            "_dom_classes": [],
            "_model_module": "@jupyter-widgets/controls",
            "_model_module_version": "1.5.0",
            "_model_name": "FloatProgressModel",
            "_view_count": null,
            "_view_module": "@jupyter-widgets/controls",
            "_view_module_version": "1.5.0",
            "_view_name": "ProgressView",
            "bar_style": "success",
            "description": "",
            "description_tooltip": null,
            "layout": "IPY_MODEL_bbd68421ecd24dbcb7d2c7b7c745fec4",
            "max": 10306551,
            "min": 0,
            "orientation": "horizontal",
            "style": "IPY_MODEL_666a9c9f3d004db1baac35164935a894",
            "value": 10306551
          }
        },
        "fa769a6df54f44a19dd33862bb59c24a": {
          "model_module": "@jupyter-widgets/controls",
          "model_name": "HTMLModel",
          "model_module_version": "1.5.0",
          "state": {
            "_dom_classes": [],
            "_model_module": "@jupyter-widgets/controls",
            "_model_module_version": "1.5.0",
            "_model_name": "HTMLModel",
            "_view_count": null,
            "_view_module": "@jupyter-widgets/controls",
            "_view_module_version": "1.5.0",
            "_view_name": "HTMLView",
            "description": "",
            "description_tooltip": null,
            "layout": "IPY_MODEL_77d4754c153840f2bdb0585a21eab2dd",
            "placeholder": "​",
            "style": "IPY_MODEL_2a4c4cadd4c2401ea3b78b9a75a88922",
            "value": " 9.83M/9.83M [00:00&lt;00:00, 38.4MB/s]"
          }
        },
        "1cd9b497dab0436b8de25b5e6c53c115": {
          "model_module": "@jupyter-widgets/base",
          "model_name": "LayoutModel",
          "model_module_version": "1.2.0",
          "state": {
            "_model_module": "@jupyter-widgets/base",
            "_model_module_version": "1.2.0",
            "_model_name": "LayoutModel",
            "_view_count": null,
            "_view_module": "@jupyter-widgets/base",
            "_view_module_version": "1.2.0",
            "_view_name": "LayoutView",
            "align_content": null,
            "align_items": null,
            "align_self": null,
            "border": null,
            "bottom": null,
            "display": null,
            "flex": null,
            "flex_flow": null,
            "grid_area": null,
            "grid_auto_columns": null,
            "grid_auto_flow": null,
            "grid_auto_rows": null,
            "grid_column": null,
            "grid_gap": null,
            "grid_row": null,
            "grid_template_areas": null,
            "grid_template_columns": null,
            "grid_template_rows": null,
            "height": null,
            "justify_content": null,
            "justify_items": null,
            "left": null,
            "margin": null,
            "max_height": null,
            "max_width": null,
            "min_height": null,
            "min_width": null,
            "object_fit": null,
            "object_position": null,
            "order": null,
            "overflow": null,
            "overflow_x": null,
            "overflow_y": null,
            "padding": null,
            "right": null,
            "top": null,
            "visibility": null,
            "width": null
          }
        },
        "5cf888d4b1bb49da9702320996f53e1b": {
          "model_module": "@jupyter-widgets/base",
          "model_name": "LayoutModel",
          "model_module_version": "1.2.0",
          "state": {
            "_model_module": "@jupyter-widgets/base",
            "_model_module_version": "1.2.0",
            "_model_name": "LayoutModel",
            "_view_count": null,
            "_view_module": "@jupyter-widgets/base",
            "_view_module_version": "1.2.0",
            "_view_name": "LayoutView",
            "align_content": null,
            "align_items": null,
            "align_self": null,
            "border": null,
            "bottom": null,
            "display": null,
            "flex": null,
            "flex_flow": null,
            "grid_area": null,
            "grid_auto_columns": null,
            "grid_auto_flow": null,
            "grid_auto_rows": null,
            "grid_column": null,
            "grid_gap": null,
            "grid_row": null,
            "grid_template_areas": null,
            "grid_template_columns": null,
            "grid_template_rows": null,
            "height": null,
            "justify_content": null,
            "justify_items": null,
            "left": null,
            "margin": null,
            "max_height": null,
            "max_width": null,
            "min_height": null,
            "min_width": null,
            "object_fit": null,
            "object_position": null,
            "order": null,
            "overflow": null,
            "overflow_x": null,
            "overflow_y": null,
            "padding": null,
            "right": null,
            "top": null,
            "visibility": null,
            "width": null
          }
        },
        "cd59ebb7db1e4a97a9faabfddf1a7bc7": {
          "model_module": "@jupyter-widgets/controls",
          "model_name": "DescriptionStyleModel",
          "model_module_version": "1.5.0",
          "state": {
            "_model_module": "@jupyter-widgets/controls",
            "_model_module_version": "1.5.0",
            "_model_name": "DescriptionStyleModel",
            "_view_count": null,
            "_view_module": "@jupyter-widgets/base",
            "_view_module_version": "1.2.0",
            "_view_name": "StyleView",
            "description_width": ""
          }
        },
        "bbd68421ecd24dbcb7d2c7b7c745fec4": {
          "model_module": "@jupyter-widgets/base",
          "model_name": "LayoutModel",
          "model_module_version": "1.2.0",
          "state": {
            "_model_module": "@jupyter-widgets/base",
            "_model_module_version": "1.2.0",
            "_model_name": "LayoutModel",
            "_view_count": null,
            "_view_module": "@jupyter-widgets/base",
            "_view_module_version": "1.2.0",
            "_view_name": "LayoutView",
            "align_content": null,
            "align_items": null,
            "align_self": null,
            "border": null,
            "bottom": null,
            "display": null,
            "flex": null,
            "flex_flow": null,
            "grid_area": null,
            "grid_auto_columns": null,
            "grid_auto_flow": null,
            "grid_auto_rows": null,
            "grid_column": null,
            "grid_gap": null,
            "grid_row": null,
            "grid_template_areas": null,
            "grid_template_columns": null,
            "grid_template_rows": null,
            "height": null,
            "justify_content": null,
            "justify_items": null,
            "left": null,
            "margin": null,
            "max_height": null,
            "max_width": null,
            "min_height": null,
            "min_width": null,
            "object_fit": null,
            "object_position": null,
            "order": null,
            "overflow": null,
            "overflow_x": null,
            "overflow_y": null,
            "padding": null,
            "right": null,
            "top": null,
            "visibility": null,
            "width": null
          }
        },
        "666a9c9f3d004db1baac35164935a894": {
          "model_module": "@jupyter-widgets/controls",
          "model_name": "ProgressStyleModel",
          "model_module_version": "1.5.0",
          "state": {
            "_model_module": "@jupyter-widgets/controls",
            "_model_module_version": "1.5.0",
            "_model_name": "ProgressStyleModel",
            "_view_count": null,
            "_view_module": "@jupyter-widgets/base",
            "_view_module_version": "1.2.0",
            "_view_name": "StyleView",
            "bar_color": null,
            "description_width": ""
          }
        },
        "77d4754c153840f2bdb0585a21eab2dd": {
          "model_module": "@jupyter-widgets/base",
          "model_name": "LayoutModel",
          "model_module_version": "1.2.0",
          "state": {
            "_model_module": "@jupyter-widgets/base",
            "_model_module_version": "1.2.0",
            "_model_name": "LayoutModel",
            "_view_count": null,
            "_view_module": "@jupyter-widgets/base",
            "_view_module_version": "1.2.0",
            "_view_name": "LayoutView",
            "align_content": null,
            "align_items": null,
            "align_self": null,
            "border": null,
            "bottom": null,
            "display": null,
            "flex": null,
            "flex_flow": null,
            "grid_area": null,
            "grid_auto_columns": null,
            "grid_auto_flow": null,
            "grid_auto_rows": null,
            "grid_column": null,
            "grid_gap": null,
            "grid_row": null,
            "grid_template_areas": null,
            "grid_template_columns": null,
            "grid_template_rows": null,
            "height": null,
            "justify_content": null,
            "justify_items": null,
            "left": null,
            "margin": null,
            "max_height": null,
            "max_width": null,
            "min_height": null,
            "min_width": null,
            "object_fit": null,
            "object_position": null,
            "order": null,
            "overflow": null,
            "overflow_x": null,
            "overflow_y": null,
            "padding": null,
            "right": null,
            "top": null,
            "visibility": null,
            "width": null
          }
        },
        "2a4c4cadd4c2401ea3b78b9a75a88922": {
          "model_module": "@jupyter-widgets/controls",
          "model_name": "DescriptionStyleModel",
          "model_module_version": "1.5.0",
          "state": {
            "_model_module": "@jupyter-widgets/controls",
            "_model_module_version": "1.5.0",
            "_model_name": "DescriptionStyleModel",
            "_view_count": null,
            "_view_module": "@jupyter-widgets/base",
            "_view_module_version": "1.2.0",
            "_view_name": "StyleView",
            "description_width": ""
          }
        },
        "7f26381524dc4c1c9a43eb385ae46e31": {
          "model_module": "@jupyter-widgets/controls",
          "model_name": "HBoxModel",
          "model_module_version": "1.5.0",
          "state": {
            "_dom_classes": [],
            "_model_module": "@jupyter-widgets/controls",
            "_model_module_version": "1.5.0",
            "_model_name": "HBoxModel",
            "_view_count": null,
            "_view_module": "@jupyter-widgets/controls",
            "_view_module_version": "1.5.0",
            "_view_name": "HBoxView",
            "box_style": "",
            "children": [
              "IPY_MODEL_71a9b533334c4b13b300b7e49484a7f6",
              "IPY_MODEL_568ccbb49ef04e1c8f18a7ed89bc189c",
              "IPY_MODEL_44d8671a02f14baaba6a8e60d61583f0"
            ],
            "layout": "IPY_MODEL_2899e529f2644bb29ac4a3b2fc19bb1b"
          }
        },
        "71a9b533334c4b13b300b7e49484a7f6": {
          "model_module": "@jupyter-widgets/controls",
          "model_name": "HTMLModel",
          "model_module_version": "1.5.0",
          "state": {
            "_dom_classes": [],
            "_model_module": "@jupyter-widgets/controls",
            "_model_module_version": "1.5.0",
            "_model_name": "HTMLModel",
            "_view_count": null,
            "_view_module": "@jupyter-widgets/controls",
            "_view_module_version": "1.5.0",
            "_view_name": "HTMLView",
            "description": "",
            "description_tooltip": null,
            "layout": "IPY_MODEL_2861f210b7a141518798aa332a8a37c4",
            "placeholder": "​",
            "style": "IPY_MODEL_eaa866a3b5bf48f7b3ff49b3a0d9ba74",
            "value": "100%"
          }
        },
        "568ccbb49ef04e1c8f18a7ed89bc189c": {
          "model_module": "@jupyter-widgets/controls",
          "model_name": "FloatProgressModel",
          "model_module_version": "1.5.0",
          "state": {
            "_dom_classes": [],
            "_model_module": "@jupyter-widgets/controls",
            "_model_module_version": "1.5.0",
            "_model_name": "FloatProgressModel",
            "_view_count": null,
            "_view_module": "@jupyter-widgets/controls",
            "_view_module_version": "1.5.0",
            "_view_name": "ProgressView",
            "bar_style": "success",
            "description": "",
            "description_tooltip": null,
            "layout": "IPY_MODEL_1cdc4a0381cd40708015d5e91d896e82",
            "max": 21444401,
            "min": 0,
            "orientation": "horizontal",
            "style": "IPY_MODEL_9a43518a34b24deaa62900c48fa0f6cf",
            "value": 21444401
          }
        },
        "44d8671a02f14baaba6a8e60d61583f0": {
          "model_module": "@jupyter-widgets/controls",
          "model_name": "HTMLModel",
          "model_module_version": "1.5.0",
          "state": {
            "_dom_classes": [],
            "_model_module": "@jupyter-widgets/controls",
            "_model_module_version": "1.5.0",
            "_model_name": "HTMLModel",
            "_view_count": null,
            "_view_module": "@jupyter-widgets/controls",
            "_view_module_version": "1.5.0",
            "_view_name": "HTMLView",
            "description": "",
            "description_tooltip": null,
            "layout": "IPY_MODEL_e08e3c61bc1645ebaca7e5c060a4edfd",
            "placeholder": "​",
            "style": "IPY_MODEL_e5c91554644a4af0be81e8aa25f2e8bd",
            "value": " 20.5M/20.5M [00:00&lt;00:00, 61.7MB/s]"
          }
        },
        "2899e529f2644bb29ac4a3b2fc19bb1b": {
          "model_module": "@jupyter-widgets/base",
          "model_name": "LayoutModel",
          "model_module_version": "1.2.0",
          "state": {
            "_model_module": "@jupyter-widgets/base",
            "_model_module_version": "1.2.0",
            "_model_name": "LayoutModel",
            "_view_count": null,
            "_view_module": "@jupyter-widgets/base",
            "_view_module_version": "1.2.0",
            "_view_name": "LayoutView",
            "align_content": null,
            "align_items": null,
            "align_self": null,
            "border": null,
            "bottom": null,
            "display": null,
            "flex": null,
            "flex_flow": null,
            "grid_area": null,
            "grid_auto_columns": null,
            "grid_auto_flow": null,
            "grid_auto_rows": null,
            "grid_column": null,
            "grid_gap": null,
            "grid_row": null,
            "grid_template_areas": null,
            "grid_template_columns": null,
            "grid_template_rows": null,
            "height": null,
            "justify_content": null,
            "justify_items": null,
            "left": null,
            "margin": null,
            "max_height": null,
            "max_width": null,
            "min_height": null,
            "min_width": null,
            "object_fit": null,
            "object_position": null,
            "order": null,
            "overflow": null,
            "overflow_x": null,
            "overflow_y": null,
            "padding": null,
            "right": null,
            "top": null,
            "visibility": null,
            "width": null
          }
        },
        "2861f210b7a141518798aa332a8a37c4": {
          "model_module": "@jupyter-widgets/base",
          "model_name": "LayoutModel",
          "model_module_version": "1.2.0",
          "state": {
            "_model_module": "@jupyter-widgets/base",
            "_model_module_version": "1.2.0",
            "_model_name": "LayoutModel",
            "_view_count": null,
            "_view_module": "@jupyter-widgets/base",
            "_view_module_version": "1.2.0",
            "_view_name": "LayoutView",
            "align_content": null,
            "align_items": null,
            "align_self": null,
            "border": null,
            "bottom": null,
            "display": null,
            "flex": null,
            "flex_flow": null,
            "grid_area": null,
            "grid_auto_columns": null,
            "grid_auto_flow": null,
            "grid_auto_rows": null,
            "grid_column": null,
            "grid_gap": null,
            "grid_row": null,
            "grid_template_areas": null,
            "grid_template_columns": null,
            "grid_template_rows": null,
            "height": null,
            "justify_content": null,
            "justify_items": null,
            "left": null,
            "margin": null,
            "max_height": null,
            "max_width": null,
            "min_height": null,
            "min_width": null,
            "object_fit": null,
            "object_position": null,
            "order": null,
            "overflow": null,
            "overflow_x": null,
            "overflow_y": null,
            "padding": null,
            "right": null,
            "top": null,
            "visibility": null,
            "width": null
          }
        },
        "eaa866a3b5bf48f7b3ff49b3a0d9ba74": {
          "model_module": "@jupyter-widgets/controls",
          "model_name": "DescriptionStyleModel",
          "model_module_version": "1.5.0",
          "state": {
            "_model_module": "@jupyter-widgets/controls",
            "_model_module_version": "1.5.0",
            "_model_name": "DescriptionStyleModel",
            "_view_count": null,
            "_view_module": "@jupyter-widgets/base",
            "_view_module_version": "1.2.0",
            "_view_name": "StyleView",
            "description_width": ""
          }
        },
        "1cdc4a0381cd40708015d5e91d896e82": {
          "model_module": "@jupyter-widgets/base",
          "model_name": "LayoutModel",
          "model_module_version": "1.2.0",
          "state": {
            "_model_module": "@jupyter-widgets/base",
            "_model_module_version": "1.2.0",
            "_model_name": "LayoutModel",
            "_view_count": null,
            "_view_module": "@jupyter-widgets/base",
            "_view_module_version": "1.2.0",
            "_view_name": "LayoutView",
            "align_content": null,
            "align_items": null,
            "align_self": null,
            "border": null,
            "bottom": null,
            "display": null,
            "flex": null,
            "flex_flow": null,
            "grid_area": null,
            "grid_auto_columns": null,
            "grid_auto_flow": null,
            "grid_auto_rows": null,
            "grid_column": null,
            "grid_gap": null,
            "grid_row": null,
            "grid_template_areas": null,
            "grid_template_columns": null,
            "grid_template_rows": null,
            "height": null,
            "justify_content": null,
            "justify_items": null,
            "left": null,
            "margin": null,
            "max_height": null,
            "max_width": null,
            "min_height": null,
            "min_width": null,
            "object_fit": null,
            "object_position": null,
            "order": null,
            "overflow": null,
            "overflow_x": null,
            "overflow_y": null,
            "padding": null,
            "right": null,
            "top": null,
            "visibility": null,
            "width": null
          }
        },
        "9a43518a34b24deaa62900c48fa0f6cf": {
          "model_module": "@jupyter-widgets/controls",
          "model_name": "ProgressStyleModel",
          "model_module_version": "1.5.0",
          "state": {
            "_model_module": "@jupyter-widgets/controls",
            "_model_module_version": "1.5.0",
            "_model_name": "ProgressStyleModel",
            "_view_count": null,
            "_view_module": "@jupyter-widgets/base",
            "_view_module_version": "1.2.0",
            "_view_name": "StyleView",
            "bar_color": null,
            "description_width": ""
          }
        },
        "e08e3c61bc1645ebaca7e5c060a4edfd": {
          "model_module": "@jupyter-widgets/base",
          "model_name": "LayoutModel",
          "model_module_version": "1.2.0",
          "state": {
            "_model_module": "@jupyter-widgets/base",
            "_model_module_version": "1.2.0",
            "_model_name": "LayoutModel",
            "_view_count": null,
            "_view_module": "@jupyter-widgets/base",
            "_view_module_version": "1.2.0",
            "_view_name": "LayoutView",
            "align_content": null,
            "align_items": null,
            "align_self": null,
            "border": null,
            "bottom": null,
            "display": null,
            "flex": null,
            "flex_flow": null,
            "grid_area": null,
            "grid_auto_columns": null,
            "grid_auto_flow": null,
            "grid_auto_rows": null,
            "grid_column": null,
            "grid_gap": null,
            "grid_row": null,
            "grid_template_areas": null,
            "grid_template_columns": null,
            "grid_template_rows": null,
            "height": null,
            "justify_content": null,
            "justify_items": null,
            "left": null,
            "margin": null,
            "max_height": null,
            "max_width": null,
            "min_height": null,
            "min_width": null,
            "object_fit": null,
            "object_position": null,
            "order": null,
            "overflow": null,
            "overflow_x": null,
            "overflow_y": null,
            "padding": null,
            "right": null,
            "top": null,
            "visibility": null,
            "width": null
          }
        },
        "e5c91554644a4af0be81e8aa25f2e8bd": {
          "model_module": "@jupyter-widgets/controls",
          "model_name": "DescriptionStyleModel",
          "model_module_version": "1.5.0",
          "state": {
            "_model_module": "@jupyter-widgets/controls",
            "_model_module_version": "1.5.0",
            "_model_name": "DescriptionStyleModel",
            "_view_count": null,
            "_view_module": "@jupyter-widgets/base",
            "_view_module_version": "1.2.0",
            "_view_name": "StyleView",
            "description_width": ""
          }
        },
        "8ecf3fb1382e48a1a9bde23bedf88945": {
          "model_module": "@jupyter-widgets/controls",
          "model_name": "HBoxModel",
          "model_module_version": "1.5.0",
          "state": {
            "_dom_classes": [],
            "_model_module": "@jupyter-widgets/controls",
            "_model_module_version": "1.5.0",
            "_model_name": "HBoxModel",
            "_view_count": null,
            "_view_module": "@jupyter-widgets/controls",
            "_view_module_version": "1.5.0",
            "_view_name": "HBoxView",
            "box_style": "",
            "children": [
              "IPY_MODEL_b38e343c1a3d4877acd9d51e8ed6745e",
              "IPY_MODEL_e8cac91bf77f4198840a99e55e2d8e99",
              "IPY_MODEL_bbb221246cdb4bbcaffc5a62ab61a167"
            ],
            "layout": "IPY_MODEL_fd1f884eeb884e76986ffc0780e4cc2c"
          }
        },
        "b38e343c1a3d4877acd9d51e8ed6745e": {
          "model_module": "@jupyter-widgets/controls",
          "model_name": "HTMLModel",
          "model_module_version": "1.5.0",
          "state": {
            "_dom_classes": [],
            "_model_module": "@jupyter-widgets/controls",
            "_model_module_version": "1.5.0",
            "_model_name": "HTMLModel",
            "_view_count": null,
            "_view_module": "@jupyter-widgets/controls",
            "_view_module_version": "1.5.0",
            "_view_name": "HTMLView",
            "description": "",
            "description_tooltip": null,
            "layout": "IPY_MODEL_1a6a2c0debd447299cd5df63fed89644",
            "placeholder": "​",
            "style": "IPY_MODEL_85b571b32e8e4bac96ea00b32f9231a2",
            "value": "100%"
          }
        },
        "e8cac91bf77f4198840a99e55e2d8e99": {
          "model_module": "@jupyter-widgets/controls",
          "model_name": "FloatProgressModel",
          "model_module_version": "1.5.0",
          "state": {
            "_dom_classes": [],
            "_model_module": "@jupyter-widgets/controls",
            "_model_module_version": "1.5.0",
            "_model_name": "FloatProgressModel",
            "_view_count": null,
            "_view_module": "@jupyter-widgets/controls",
            "_view_module_version": "1.5.0",
            "_view_name": "ProgressView",
            "bar_style": "success",
            "description": "",
            "description_tooltip": null,
            "layout": "IPY_MODEL_3510a95d20c0438daef2c5c0b440d2bc",
            "max": 244408911,
            "min": 0,
            "orientation": "horizontal",
            "style": "IPY_MODEL_fef6510cc5c6402ea9c5c7f1c848a33d",
            "value": 244408911
          }
        },
        "bbb221246cdb4bbcaffc5a62ab61a167": {
          "model_module": "@jupyter-widgets/controls",
          "model_name": "HTMLModel",
          "model_module_version": "1.5.0",
          "state": {
            "_dom_classes": [],
            "_model_module": "@jupyter-widgets/controls",
            "_model_module_version": "1.5.0",
            "_model_name": "HTMLModel",
            "_view_count": null,
            "_view_module": "@jupyter-widgets/controls",
            "_view_module_version": "1.5.0",
            "_view_name": "HTMLView",
            "description": "",
            "description_tooltip": null,
            "layout": "IPY_MODEL_2015f85e78c24de094d024056ffa4daf",
            "placeholder": "​",
            "style": "IPY_MODEL_8026bf79b3e84960bb87400085a2da26",
            "value": " 233M/233M [00:01&lt;00:00, 195MB/s]"
          }
        },
        "fd1f884eeb884e76986ffc0780e4cc2c": {
          "model_module": "@jupyter-widgets/base",
          "model_name": "LayoutModel",
          "model_module_version": "1.2.0",
          "state": {
            "_model_module": "@jupyter-widgets/base",
            "_model_module_version": "1.2.0",
            "_model_name": "LayoutModel",
            "_view_count": null,
            "_view_module": "@jupyter-widgets/base",
            "_view_module_version": "1.2.0",
            "_view_name": "LayoutView",
            "align_content": null,
            "align_items": null,
            "align_self": null,
            "border": null,
            "bottom": null,
            "display": null,
            "flex": null,
            "flex_flow": null,
            "grid_area": null,
            "grid_auto_columns": null,
            "grid_auto_flow": null,
            "grid_auto_rows": null,
            "grid_column": null,
            "grid_gap": null,
            "grid_row": null,
            "grid_template_areas": null,
            "grid_template_columns": null,
            "grid_template_rows": null,
            "height": null,
            "justify_content": null,
            "justify_items": null,
            "left": null,
            "margin": null,
            "max_height": null,
            "max_width": null,
            "min_height": null,
            "min_width": null,
            "object_fit": null,
            "object_position": null,
            "order": null,
            "overflow": null,
            "overflow_x": null,
            "overflow_y": null,
            "padding": null,
            "right": null,
            "top": null,
            "visibility": null,
            "width": null
          }
        },
        "1a6a2c0debd447299cd5df63fed89644": {
          "model_module": "@jupyter-widgets/base",
          "model_name": "LayoutModel",
          "model_module_version": "1.2.0",
          "state": {
            "_model_module": "@jupyter-widgets/base",
            "_model_module_version": "1.2.0",
            "_model_name": "LayoutModel",
            "_view_count": null,
            "_view_module": "@jupyter-widgets/base",
            "_view_module_version": "1.2.0",
            "_view_name": "LayoutView",
            "align_content": null,
            "align_items": null,
            "align_self": null,
            "border": null,
            "bottom": null,
            "display": null,
            "flex": null,
            "flex_flow": null,
            "grid_area": null,
            "grid_auto_columns": null,
            "grid_auto_flow": null,
            "grid_auto_rows": null,
            "grid_column": null,
            "grid_gap": null,
            "grid_row": null,
            "grid_template_areas": null,
            "grid_template_columns": null,
            "grid_template_rows": null,
            "height": null,
            "justify_content": null,
            "justify_items": null,
            "left": null,
            "margin": null,
            "max_height": null,
            "max_width": null,
            "min_height": null,
            "min_width": null,
            "object_fit": null,
            "object_position": null,
            "order": null,
            "overflow": null,
            "overflow_x": null,
            "overflow_y": null,
            "padding": null,
            "right": null,
            "top": null,
            "visibility": null,
            "width": null
          }
        },
        "85b571b32e8e4bac96ea00b32f9231a2": {
          "model_module": "@jupyter-widgets/controls",
          "model_name": "DescriptionStyleModel",
          "model_module_version": "1.5.0",
          "state": {
            "_model_module": "@jupyter-widgets/controls",
            "_model_module_version": "1.5.0",
            "_model_name": "DescriptionStyleModel",
            "_view_count": null,
            "_view_module": "@jupyter-widgets/base",
            "_view_module_version": "1.2.0",
            "_view_name": "StyleView",
            "description_width": ""
          }
        },
        "3510a95d20c0438daef2c5c0b440d2bc": {
          "model_module": "@jupyter-widgets/base",
          "model_name": "LayoutModel",
          "model_module_version": "1.2.0",
          "state": {
            "_model_module": "@jupyter-widgets/base",
            "_model_module_version": "1.2.0",
            "_model_name": "LayoutModel",
            "_view_count": null,
            "_view_module": "@jupyter-widgets/base",
            "_view_module_version": "1.2.0",
            "_view_name": "LayoutView",
            "align_content": null,
            "align_items": null,
            "align_self": null,
            "border": null,
            "bottom": null,
            "display": null,
            "flex": null,
            "flex_flow": null,
            "grid_area": null,
            "grid_auto_columns": null,
            "grid_auto_flow": null,
            "grid_auto_rows": null,
            "grid_column": null,
            "grid_gap": null,
            "grid_row": null,
            "grid_template_areas": null,
            "grid_template_columns": null,
            "grid_template_rows": null,
            "height": null,
            "justify_content": null,
            "justify_items": null,
            "left": null,
            "margin": null,
            "max_height": null,
            "max_width": null,
            "min_height": null,
            "min_width": null,
            "object_fit": null,
            "object_position": null,
            "order": null,
            "overflow": null,
            "overflow_x": null,
            "overflow_y": null,
            "padding": null,
            "right": null,
            "top": null,
            "visibility": null,
            "width": null
          }
        },
        "fef6510cc5c6402ea9c5c7f1c848a33d": {
          "model_module": "@jupyter-widgets/controls",
          "model_name": "ProgressStyleModel",
          "model_module_version": "1.5.0",
          "state": {
            "_model_module": "@jupyter-widgets/controls",
            "_model_module_version": "1.5.0",
            "_model_name": "ProgressStyleModel",
            "_view_count": null,
            "_view_module": "@jupyter-widgets/base",
            "_view_module_version": "1.2.0",
            "_view_name": "StyleView",
            "bar_color": null,
            "description_width": ""
          }
        },
        "2015f85e78c24de094d024056ffa4daf": {
          "model_module": "@jupyter-widgets/base",
          "model_name": "LayoutModel",
          "model_module_version": "1.2.0",
          "state": {
            "_model_module": "@jupyter-widgets/base",
            "_model_module_version": "1.2.0",
            "_model_name": "LayoutModel",
            "_view_count": null,
            "_view_module": "@jupyter-widgets/base",
            "_view_module_version": "1.2.0",
            "_view_name": "LayoutView",
            "align_content": null,
            "align_items": null,
            "align_self": null,
            "border": null,
            "bottom": null,
            "display": null,
            "flex": null,
            "flex_flow": null,
            "grid_area": null,
            "grid_auto_columns": null,
            "grid_auto_flow": null,
            "grid_auto_rows": null,
            "grid_column": null,
            "grid_gap": null,
            "grid_row": null,
            "grid_template_areas": null,
            "grid_template_columns": null,
            "grid_template_rows": null,
            "height": null,
            "justify_content": null,
            "justify_items": null,
            "left": null,
            "margin": null,
            "max_height": null,
            "max_width": null,
            "min_height": null,
            "min_width": null,
            "object_fit": null,
            "object_position": null,
            "order": null,
            "overflow": null,
            "overflow_x": null,
            "overflow_y": null,
            "padding": null,
            "right": null,
            "top": null,
            "visibility": null,
            "width": null
          }
        },
        "8026bf79b3e84960bb87400085a2da26": {
          "model_module": "@jupyter-widgets/controls",
          "model_name": "DescriptionStyleModel",
          "model_module_version": "1.5.0",
          "state": {
            "_model_module": "@jupyter-widgets/controls",
            "_model_module_version": "1.5.0",
            "_model_name": "DescriptionStyleModel",
            "_view_count": null,
            "_view_module": "@jupyter-widgets/base",
            "_view_module_version": "1.2.0",
            "_view_name": "StyleView",
            "description_width": ""
          }
        },
        "f27c9f669812421cbc7e998bc9814563": {
          "model_module": "@jupyter-widgets/controls",
          "model_name": "HBoxModel",
          "model_module_version": "1.5.0",
          "state": {
            "_dom_classes": [],
            "_model_module": "@jupyter-widgets/controls",
            "_model_module_version": "1.5.0",
            "_model_name": "HBoxModel",
            "_view_count": null,
            "_view_module": "@jupyter-widgets/controls",
            "_view_module_version": "1.5.0",
            "_view_name": "HBoxView",
            "box_style": "",
            "children": [
              "IPY_MODEL_e50ad5749acf4f18949a6d8bc96f987a",
              "IPY_MODEL_35556492e918415eaa8b0e34ab2b5074",
              "IPY_MODEL_232b2319eed54653a27af94ca64b7610"
            ],
            "layout": "IPY_MODEL_83c52cc77def4c56842bcbd15a856200"
          }
        },
        "e50ad5749acf4f18949a6d8bc96f987a": {
          "model_module": "@jupyter-widgets/controls",
          "model_name": "HTMLModel",
          "model_module_version": "1.5.0",
          "state": {
            "_dom_classes": [],
            "_model_module": "@jupyter-widgets/controls",
            "_model_module_version": "1.5.0",
            "_model_name": "HTMLModel",
            "_view_count": null,
            "_view_module": "@jupyter-widgets/controls",
            "_view_module_version": "1.5.0",
            "_view_name": "HTMLView",
            "description": "",
            "description_tooltip": null,
            "layout": "IPY_MODEL_523cec551c684bc1a0bbb0a3b1a84bcf",
            "placeholder": "​",
            "style": "IPY_MODEL_dbd2447f49ad4209bbcd66135b93c036",
            "value": "100%"
          }
        },
        "35556492e918415eaa8b0e34ab2b5074": {
          "model_module": "@jupyter-widgets/controls",
          "model_name": "FloatProgressModel",
          "model_module_version": "1.5.0",
          "state": {
            "_dom_classes": [],
            "_model_module": "@jupyter-widgets/controls",
            "_model_module_version": "1.5.0",
            "_model_name": "FloatProgressModel",
            "_view_count": null,
            "_view_module": "@jupyter-widgets/controls",
            "_view_module_version": "1.5.0",
            "_view_name": "ProgressView",
            "bar_style": "success",
            "description": "",
            "description_tooltip": null,
            "layout": "IPY_MODEL_6e8dbbdcf8e3466fae856ef820fcd155",
            "max": 46830571,
            "min": 0,
            "orientation": "horizontal",
            "style": "IPY_MODEL_bba9f86208d040cdb6374fd1eb69dd6b",
            "value": 46830571
          }
        },
        "232b2319eed54653a27af94ca64b7610": {
          "model_module": "@jupyter-widgets/controls",
          "model_name": "HTMLModel",
          "model_module_version": "1.5.0",
          "state": {
            "_dom_classes": [],
            "_model_module": "@jupyter-widgets/controls",
            "_model_module_version": "1.5.0",
            "_model_name": "HTMLModel",
            "_view_count": null,
            "_view_module": "@jupyter-widgets/controls",
            "_view_module_version": "1.5.0",
            "_view_name": "HTMLView",
            "description": "",
            "description_tooltip": null,
            "layout": "IPY_MODEL_12a848cdccff48189de11438b2aba8c1",
            "placeholder": "​",
            "style": "IPY_MODEL_d31e0967fd02445fa54a72bd00307fa2",
            "value": " 44.7M/44.7M [00:00&lt;00:00, 93.5MB/s]"
          }
        },
        "83c52cc77def4c56842bcbd15a856200": {
          "model_module": "@jupyter-widgets/base",
          "model_name": "LayoutModel",
          "model_module_version": "1.2.0",
          "state": {
            "_model_module": "@jupyter-widgets/base",
            "_model_module_version": "1.2.0",
            "_model_name": "LayoutModel",
            "_view_count": null,
            "_view_module": "@jupyter-widgets/base",
            "_view_module_version": "1.2.0",
            "_view_name": "LayoutView",
            "align_content": null,
            "align_items": null,
            "align_self": null,
            "border": null,
            "bottom": null,
            "display": null,
            "flex": null,
            "flex_flow": null,
            "grid_area": null,
            "grid_auto_columns": null,
            "grid_auto_flow": null,
            "grid_auto_rows": null,
            "grid_column": null,
            "grid_gap": null,
            "grid_row": null,
            "grid_template_areas": null,
            "grid_template_columns": null,
            "grid_template_rows": null,
            "height": null,
            "justify_content": null,
            "justify_items": null,
            "left": null,
            "margin": null,
            "max_height": null,
            "max_width": null,
            "min_height": null,
            "min_width": null,
            "object_fit": null,
            "object_position": null,
            "order": null,
            "overflow": null,
            "overflow_x": null,
            "overflow_y": null,
            "padding": null,
            "right": null,
            "top": null,
            "visibility": null,
            "width": null
          }
        },
        "523cec551c684bc1a0bbb0a3b1a84bcf": {
          "model_module": "@jupyter-widgets/base",
          "model_name": "LayoutModel",
          "model_module_version": "1.2.0",
          "state": {
            "_model_module": "@jupyter-widgets/base",
            "_model_module_version": "1.2.0",
            "_model_name": "LayoutModel",
            "_view_count": null,
            "_view_module": "@jupyter-widgets/base",
            "_view_module_version": "1.2.0",
            "_view_name": "LayoutView",
            "align_content": null,
            "align_items": null,
            "align_self": null,
            "border": null,
            "bottom": null,
            "display": null,
            "flex": null,
            "flex_flow": null,
            "grid_area": null,
            "grid_auto_columns": null,
            "grid_auto_flow": null,
            "grid_auto_rows": null,
            "grid_column": null,
            "grid_gap": null,
            "grid_row": null,
            "grid_template_areas": null,
            "grid_template_columns": null,
            "grid_template_rows": null,
            "height": null,
            "justify_content": null,
            "justify_items": null,
            "left": null,
            "margin": null,
            "max_height": null,
            "max_width": null,
            "min_height": null,
            "min_width": null,
            "object_fit": null,
            "object_position": null,
            "order": null,
            "overflow": null,
            "overflow_x": null,
            "overflow_y": null,
            "padding": null,
            "right": null,
            "top": null,
            "visibility": null,
            "width": null
          }
        },
        "dbd2447f49ad4209bbcd66135b93c036": {
          "model_module": "@jupyter-widgets/controls",
          "model_name": "DescriptionStyleModel",
          "model_module_version": "1.5.0",
          "state": {
            "_model_module": "@jupyter-widgets/controls",
            "_model_module_version": "1.5.0",
            "_model_name": "DescriptionStyleModel",
            "_view_count": null,
            "_view_module": "@jupyter-widgets/base",
            "_view_module_version": "1.2.0",
            "_view_name": "StyleView",
            "description_width": ""
          }
        },
        "6e8dbbdcf8e3466fae856ef820fcd155": {
          "model_module": "@jupyter-widgets/base",
          "model_name": "LayoutModel",
          "model_module_version": "1.2.0",
          "state": {
            "_model_module": "@jupyter-widgets/base",
            "_model_module_version": "1.2.0",
            "_model_name": "LayoutModel",
            "_view_count": null,
            "_view_module": "@jupyter-widgets/base",
            "_view_module_version": "1.2.0",
            "_view_name": "LayoutView",
            "align_content": null,
            "align_items": null,
            "align_self": null,
            "border": null,
            "bottom": null,
            "display": null,
            "flex": null,
            "flex_flow": null,
            "grid_area": null,
            "grid_auto_columns": null,
            "grid_auto_flow": null,
            "grid_auto_rows": null,
            "grid_column": null,
            "grid_gap": null,
            "grid_row": null,
            "grid_template_areas": null,
            "grid_template_columns": null,
            "grid_template_rows": null,
            "height": null,
            "justify_content": null,
            "justify_items": null,
            "left": null,
            "margin": null,
            "max_height": null,
            "max_width": null,
            "min_height": null,
            "min_width": null,
            "object_fit": null,
            "object_position": null,
            "order": null,
            "overflow": null,
            "overflow_x": null,
            "overflow_y": null,
            "padding": null,
            "right": null,
            "top": null,
            "visibility": null,
            "width": null
          }
        },
        "bba9f86208d040cdb6374fd1eb69dd6b": {
          "model_module": "@jupyter-widgets/controls",
          "model_name": "ProgressStyleModel",
          "model_module_version": "1.5.0",
          "state": {
            "_model_module": "@jupyter-widgets/controls",
            "_model_module_version": "1.5.0",
            "_model_name": "ProgressStyleModel",
            "_view_count": null,
            "_view_module": "@jupyter-widgets/base",
            "_view_module_version": "1.2.0",
            "_view_name": "StyleView",
            "bar_color": null,
            "description_width": ""
          }
        },
        "12a848cdccff48189de11438b2aba8c1": {
          "model_module": "@jupyter-widgets/base",
          "model_name": "LayoutModel",
          "model_module_version": "1.2.0",
          "state": {
            "_model_module": "@jupyter-widgets/base",
            "_model_module_version": "1.2.0",
            "_model_name": "LayoutModel",
            "_view_count": null,
            "_view_module": "@jupyter-widgets/base",
            "_view_module_version": "1.2.0",
            "_view_name": "LayoutView",
            "align_content": null,
            "align_items": null,
            "align_self": null,
            "border": null,
            "bottom": null,
            "display": null,
            "flex": null,
            "flex_flow": null,
            "grid_area": null,
            "grid_auto_columns": null,
            "grid_auto_flow": null,
            "grid_auto_rows": null,
            "grid_column": null,
            "grid_gap": null,
            "grid_row": null,
            "grid_template_areas": null,
            "grid_template_columns": null,
            "grid_template_rows": null,
            "height": null,
            "justify_content": null,
            "justify_items": null,
            "left": null,
            "margin": null,
            "max_height": null,
            "max_width": null,
            "min_height": null,
            "min_width": null,
            "object_fit": null,
            "object_position": null,
            "order": null,
            "overflow": null,
            "overflow_x": null,
            "overflow_y": null,
            "padding": null,
            "right": null,
            "top": null,
            "visibility": null,
            "width": null
          }
        },
        "d31e0967fd02445fa54a72bd00307fa2": {
          "model_module": "@jupyter-widgets/controls",
          "model_name": "DescriptionStyleModel",
          "model_module_version": "1.5.0",
          "state": {
            "_model_module": "@jupyter-widgets/controls",
            "_model_module_version": "1.5.0",
            "_model_name": "DescriptionStyleModel",
            "_view_count": null,
            "_view_module": "@jupyter-widgets/base",
            "_view_module_version": "1.2.0",
            "_view_name": "StyleView",
            "description_width": ""
          }
        },
        "a01de48d0c24442885dffcda58e66182": {
          "model_module": "@jupyter-widgets/controls",
          "model_name": "VBoxModel",
          "model_module_version": "1.5.0",
          "state": {
            "_dom_classes": [],
            "_model_module": "@jupyter-widgets/controls",
            "_model_module_version": "1.5.0",
            "_model_name": "VBoxModel",
            "_view_count": null,
            "_view_module": "@jupyter-widgets/controls",
            "_view_module_version": "1.5.0",
            "_view_name": "VBoxView",
            "box_style": "",
            "children": [
              "IPY_MODEL_ef2df8f4e5764befabaf6a048edd6ccc",
              "IPY_MODEL_b3060b53b4314527a8dd6ecf14ee7225"
            ],
            "layout": "IPY_MODEL_ceb8628dd101426b87def98dcbb46025"
          }
        },
        "ef2df8f4e5764befabaf6a048edd6ccc": {
          "model_module": "@jupyter-widgets/controls",
          "model_name": "LabelModel",
          "model_module_version": "1.5.0",
          "state": {
            "_dom_classes": [],
            "_model_module": "@jupyter-widgets/controls",
            "_model_module_version": "1.5.0",
            "_model_name": "LabelModel",
            "_view_count": null,
            "_view_module": "@jupyter-widgets/controls",
            "_view_module_version": "1.5.0",
            "_view_name": "LabelView",
            "description": "",
            "description_tooltip": null,
            "layout": "IPY_MODEL_0c880df760b547f98828985dfa35f098",
            "placeholder": "​",
            "style": "IPY_MODEL_6d68bc70b3034181a1bfa93f574a0b2b",
            "value": "527.817 MB of 527.817 MB uploaded (0.000 MB deduped)\r"
          }
        },
        "b3060b53b4314527a8dd6ecf14ee7225": {
          "model_module": "@jupyter-widgets/controls",
          "model_name": "FloatProgressModel",
          "model_module_version": "1.5.0",
          "state": {
            "_dom_classes": [],
            "_model_module": "@jupyter-widgets/controls",
            "_model_module_version": "1.5.0",
            "_model_name": "FloatProgressModel",
            "_view_count": null,
            "_view_module": "@jupyter-widgets/controls",
            "_view_module_version": "1.5.0",
            "_view_name": "ProgressView",
            "bar_style": "",
            "description": "",
            "description_tooltip": null,
            "layout": "IPY_MODEL_1a3d0a278f824496ac896c5e9d790715",
            "max": 1,
            "min": 0,
            "orientation": "horizontal",
            "style": "IPY_MODEL_f9d780c9911c4191b45ff20b445e0e00",
            "value": 1
          }
        },
        "ceb8628dd101426b87def98dcbb46025": {
          "model_module": "@jupyter-widgets/base",
          "model_name": "LayoutModel",
          "model_module_version": "1.2.0",
          "state": {
            "_model_module": "@jupyter-widgets/base",
            "_model_module_version": "1.2.0",
            "_model_name": "LayoutModel",
            "_view_count": null,
            "_view_module": "@jupyter-widgets/base",
            "_view_module_version": "1.2.0",
            "_view_name": "LayoutView",
            "align_content": null,
            "align_items": null,
            "align_self": null,
            "border": null,
            "bottom": null,
            "display": null,
            "flex": null,
            "flex_flow": null,
            "grid_area": null,
            "grid_auto_columns": null,
            "grid_auto_flow": null,
            "grid_auto_rows": null,
            "grid_column": null,
            "grid_gap": null,
            "grid_row": null,
            "grid_template_areas": null,
            "grid_template_columns": null,
            "grid_template_rows": null,
            "height": null,
            "justify_content": null,
            "justify_items": null,
            "left": null,
            "margin": null,
            "max_height": null,
            "max_width": null,
            "min_height": null,
            "min_width": null,
            "object_fit": null,
            "object_position": null,
            "order": null,
            "overflow": null,
            "overflow_x": null,
            "overflow_y": null,
            "padding": null,
            "right": null,
            "top": null,
            "visibility": null,
            "width": null
          }
        },
        "0c880df760b547f98828985dfa35f098": {
          "model_module": "@jupyter-widgets/base",
          "model_name": "LayoutModel",
          "model_module_version": "1.2.0",
          "state": {
            "_model_module": "@jupyter-widgets/base",
            "_model_module_version": "1.2.0",
            "_model_name": "LayoutModel",
            "_view_count": null,
            "_view_module": "@jupyter-widgets/base",
            "_view_module_version": "1.2.0",
            "_view_name": "LayoutView",
            "align_content": null,
            "align_items": null,
            "align_self": null,
            "border": null,
            "bottom": null,
            "display": null,
            "flex": null,
            "flex_flow": null,
            "grid_area": null,
            "grid_auto_columns": null,
            "grid_auto_flow": null,
            "grid_auto_rows": null,
            "grid_column": null,
            "grid_gap": null,
            "grid_row": null,
            "grid_template_areas": null,
            "grid_template_columns": null,
            "grid_template_rows": null,
            "height": null,
            "justify_content": null,
            "justify_items": null,
            "left": null,
            "margin": null,
            "max_height": null,
            "max_width": null,
            "min_height": null,
            "min_width": null,
            "object_fit": null,
            "object_position": null,
            "order": null,
            "overflow": null,
            "overflow_x": null,
            "overflow_y": null,
            "padding": null,
            "right": null,
            "top": null,
            "visibility": null,
            "width": null
          }
        },
        "6d68bc70b3034181a1bfa93f574a0b2b": {
          "model_module": "@jupyter-widgets/controls",
          "model_name": "DescriptionStyleModel",
          "model_module_version": "1.5.0",
          "state": {
            "_model_module": "@jupyter-widgets/controls",
            "_model_module_version": "1.5.0",
            "_model_name": "DescriptionStyleModel",
            "_view_count": null,
            "_view_module": "@jupyter-widgets/base",
            "_view_module_version": "1.2.0",
            "_view_name": "StyleView",
            "description_width": ""
          }
        },
        "1a3d0a278f824496ac896c5e9d790715": {
          "model_module": "@jupyter-widgets/base",
          "model_name": "LayoutModel",
          "model_module_version": "1.2.0",
          "state": {
            "_model_module": "@jupyter-widgets/base",
            "_model_module_version": "1.2.0",
            "_model_name": "LayoutModel",
            "_view_count": null,
            "_view_module": "@jupyter-widgets/base",
            "_view_module_version": "1.2.0",
            "_view_name": "LayoutView",
            "align_content": null,
            "align_items": null,
            "align_self": null,
            "border": null,
            "bottom": null,
            "display": null,
            "flex": null,
            "flex_flow": null,
            "grid_area": null,
            "grid_auto_columns": null,
            "grid_auto_flow": null,
            "grid_auto_rows": null,
            "grid_column": null,
            "grid_gap": null,
            "grid_row": null,
            "grid_template_areas": null,
            "grid_template_columns": null,
            "grid_template_rows": null,
            "height": null,
            "justify_content": null,
            "justify_items": null,
            "left": null,
            "margin": null,
            "max_height": null,
            "max_width": null,
            "min_height": null,
            "min_width": null,
            "object_fit": null,
            "object_position": null,
            "order": null,
            "overflow": null,
            "overflow_x": null,
            "overflow_y": null,
            "padding": null,
            "right": null,
            "top": null,
            "visibility": null,
            "width": null
          }
        },
        "f9d780c9911c4191b45ff20b445e0e00": {
          "model_module": "@jupyter-widgets/controls",
          "model_name": "ProgressStyleModel",
          "model_module_version": "1.5.0",
          "state": {
            "_model_module": "@jupyter-widgets/controls",
            "_model_module_version": "1.5.0",
            "_model_name": "ProgressStyleModel",
            "_view_count": null,
            "_view_module": "@jupyter-widgets/base",
            "_view_module_version": "1.2.0",
            "_view_name": "StyleView",
            "bar_color": null,
            "description_width": ""
          }
        },
        "b9e4037fe3d545aebac25c727009771a": {
          "model_module": "@jupyter-widgets/controls",
          "model_name": "VBoxModel",
          "model_module_version": "1.5.0",
          "state": {
            "_dom_classes": [],
            "_model_module": "@jupyter-widgets/controls",
            "_model_module_version": "1.5.0",
            "_model_name": "VBoxModel",
            "_view_count": null,
            "_view_module": "@jupyter-widgets/controls",
            "_view_module_version": "1.5.0",
            "_view_name": "VBoxView",
            "box_style": "",
            "children": [
              "IPY_MODEL_53bf4d59be64425480573b80a5003466",
              "IPY_MODEL_27d9573925724a08b92ed5ab3167c555"
            ],
            "layout": "IPY_MODEL_cfd4020da56c42eaa003a50a631b7656"
          }
        },
        "53bf4d59be64425480573b80a5003466": {
          "model_module": "@jupyter-widgets/controls",
          "model_name": "LabelModel",
          "model_module_version": "1.5.0",
          "state": {
            "_dom_classes": [],
            "_model_module": "@jupyter-widgets/controls",
            "_model_module_version": "1.5.0",
            "_model_name": "LabelModel",
            "_view_count": null,
            "_view_module": "@jupyter-widgets/controls",
            "_view_module_version": "1.5.0",
            "_view_name": "LabelView",
            "description": "",
            "description_tooltip": null,
            "layout": "IPY_MODEL_25e29c1151694b31a4020a65e8032b73",
            "placeholder": "​",
            "style": "IPY_MODEL_b7cec472516341e5bfbec37c30a059c2",
            "value": "233.098 MB of 233.098 MB uploaded (0.000 MB deduped)\r"
          }
        },
        "27d9573925724a08b92ed5ab3167c555": {
          "model_module": "@jupyter-widgets/controls",
          "model_name": "FloatProgressModel",
          "model_module_version": "1.5.0",
          "state": {
            "_dom_classes": [],
            "_model_module": "@jupyter-widgets/controls",
            "_model_module_version": "1.5.0",
            "_model_name": "FloatProgressModel",
            "_view_count": null,
            "_view_module": "@jupyter-widgets/controls",
            "_view_module_version": "1.5.0",
            "_view_name": "ProgressView",
            "bar_style": "",
            "description": "",
            "description_tooltip": null,
            "layout": "IPY_MODEL_9ab220e5998940998a739bd6a9220e30",
            "max": 1,
            "min": 0,
            "orientation": "horizontal",
            "style": "IPY_MODEL_37b223d7ba374f39a1320f0e180ed4f7",
            "value": 1
          }
        },
        "cfd4020da56c42eaa003a50a631b7656": {
          "model_module": "@jupyter-widgets/base",
          "model_name": "LayoutModel",
          "model_module_version": "1.2.0",
          "state": {
            "_model_module": "@jupyter-widgets/base",
            "_model_module_version": "1.2.0",
            "_model_name": "LayoutModel",
            "_view_count": null,
            "_view_module": "@jupyter-widgets/base",
            "_view_module_version": "1.2.0",
            "_view_name": "LayoutView",
            "align_content": null,
            "align_items": null,
            "align_self": null,
            "border": null,
            "bottom": null,
            "display": null,
            "flex": null,
            "flex_flow": null,
            "grid_area": null,
            "grid_auto_columns": null,
            "grid_auto_flow": null,
            "grid_auto_rows": null,
            "grid_column": null,
            "grid_gap": null,
            "grid_row": null,
            "grid_template_areas": null,
            "grid_template_columns": null,
            "grid_template_rows": null,
            "height": null,
            "justify_content": null,
            "justify_items": null,
            "left": null,
            "margin": null,
            "max_height": null,
            "max_width": null,
            "min_height": null,
            "min_width": null,
            "object_fit": null,
            "object_position": null,
            "order": null,
            "overflow": null,
            "overflow_x": null,
            "overflow_y": null,
            "padding": null,
            "right": null,
            "top": null,
            "visibility": null,
            "width": null
          }
        },
        "25e29c1151694b31a4020a65e8032b73": {
          "model_module": "@jupyter-widgets/base",
          "model_name": "LayoutModel",
          "model_module_version": "1.2.0",
          "state": {
            "_model_module": "@jupyter-widgets/base",
            "_model_module_version": "1.2.0",
            "_model_name": "LayoutModel",
            "_view_count": null,
            "_view_module": "@jupyter-widgets/base",
            "_view_module_version": "1.2.0",
            "_view_name": "LayoutView",
            "align_content": null,
            "align_items": null,
            "align_self": null,
            "border": null,
            "bottom": null,
            "display": null,
            "flex": null,
            "flex_flow": null,
            "grid_area": null,
            "grid_auto_columns": null,
            "grid_auto_flow": null,
            "grid_auto_rows": null,
            "grid_column": null,
            "grid_gap": null,
            "grid_row": null,
            "grid_template_areas": null,
            "grid_template_columns": null,
            "grid_template_rows": null,
            "height": null,
            "justify_content": null,
            "justify_items": null,
            "left": null,
            "margin": null,
            "max_height": null,
            "max_width": null,
            "min_height": null,
            "min_width": null,
            "object_fit": null,
            "object_position": null,
            "order": null,
            "overflow": null,
            "overflow_x": null,
            "overflow_y": null,
            "padding": null,
            "right": null,
            "top": null,
            "visibility": null,
            "width": null
          }
        },
        "b7cec472516341e5bfbec37c30a059c2": {
          "model_module": "@jupyter-widgets/controls",
          "model_name": "DescriptionStyleModel",
          "model_module_version": "1.5.0",
          "state": {
            "_model_module": "@jupyter-widgets/controls",
            "_model_module_version": "1.5.0",
            "_model_name": "DescriptionStyleModel",
            "_view_count": null,
            "_view_module": "@jupyter-widgets/base",
            "_view_module_version": "1.2.0",
            "_view_name": "StyleView",
            "description_width": ""
          }
        },
        "9ab220e5998940998a739bd6a9220e30": {
          "model_module": "@jupyter-widgets/base",
          "model_name": "LayoutModel",
          "model_module_version": "1.2.0",
          "state": {
            "_model_module": "@jupyter-widgets/base",
            "_model_module_version": "1.2.0",
            "_model_name": "LayoutModel",
            "_view_count": null,
            "_view_module": "@jupyter-widgets/base",
            "_view_module_version": "1.2.0",
            "_view_name": "LayoutView",
            "align_content": null,
            "align_items": null,
            "align_self": null,
            "border": null,
            "bottom": null,
            "display": null,
            "flex": null,
            "flex_flow": null,
            "grid_area": null,
            "grid_auto_columns": null,
            "grid_auto_flow": null,
            "grid_auto_rows": null,
            "grid_column": null,
            "grid_gap": null,
            "grid_row": null,
            "grid_template_areas": null,
            "grid_template_columns": null,
            "grid_template_rows": null,
            "height": null,
            "justify_content": null,
            "justify_items": null,
            "left": null,
            "margin": null,
            "max_height": null,
            "max_width": null,
            "min_height": null,
            "min_width": null,
            "object_fit": null,
            "object_position": null,
            "order": null,
            "overflow": null,
            "overflow_x": null,
            "overflow_y": null,
            "padding": null,
            "right": null,
            "top": null,
            "visibility": null,
            "width": null
          }
        },
        "37b223d7ba374f39a1320f0e180ed4f7": {
          "model_module": "@jupyter-widgets/controls",
          "model_name": "ProgressStyleModel",
          "model_module_version": "1.5.0",
          "state": {
            "_model_module": "@jupyter-widgets/controls",
            "_model_module_version": "1.5.0",
            "_model_name": "ProgressStyleModel",
            "_view_count": null,
            "_view_module": "@jupyter-widgets/base",
            "_view_module_version": "1.2.0",
            "_view_name": "StyleView",
            "bar_color": null,
            "description_width": ""
          }
        },
        "2d5ad490cf764d63a600489fc9dd80c0": {
          "model_module": "@jupyter-widgets/controls",
          "model_name": "VBoxModel",
          "model_module_version": "1.5.0",
          "state": {
            "_dom_classes": [],
            "_model_module": "@jupyter-widgets/controls",
            "_model_module_version": "1.5.0",
            "_model_name": "VBoxModel",
            "_view_count": null,
            "_view_module": "@jupyter-widgets/controls",
            "_view_module_version": "1.5.0",
            "_view_name": "VBoxView",
            "box_style": "",
            "children": [
              "IPY_MODEL_7cab89def6914cc28e2f58b5a684022e",
              "IPY_MODEL_0d4e20eea6f24c28846c404e556a582b"
            ],
            "layout": "IPY_MODEL_412c41b032414f2c9c981d1be027c767"
          }
        },
        "7cab89def6914cc28e2f58b5a684022e": {
          "model_module": "@jupyter-widgets/controls",
          "model_name": "LabelModel",
          "model_module_version": "1.5.0",
          "state": {
            "_dom_classes": [],
            "_model_module": "@jupyter-widgets/controls",
            "_model_module_version": "1.5.0",
            "_model_name": "LabelModel",
            "_view_count": null,
            "_view_module": "@jupyter-widgets/controls",
            "_view_module_version": "1.5.0",
            "_view_name": "LabelView",
            "description": "",
            "description_tooltip": null,
            "layout": "IPY_MODEL_ec28077a179e490594c26f481b9245fc",
            "placeholder": "​",
            "style": "IPY_MODEL_13a5fd8d094542dca89991e856e8c60d",
            "value": "20.500 MB of 20.500 MB uploaded (0.000 MB deduped)\r"
          }
        },
        "0d4e20eea6f24c28846c404e556a582b": {
          "model_module": "@jupyter-widgets/controls",
          "model_name": "FloatProgressModel",
          "model_module_version": "1.5.0",
          "state": {
            "_dom_classes": [],
            "_model_module": "@jupyter-widgets/controls",
            "_model_module_version": "1.5.0",
            "_model_name": "FloatProgressModel",
            "_view_count": null,
            "_view_module": "@jupyter-widgets/controls",
            "_view_module_version": "1.5.0",
            "_view_name": "ProgressView",
            "bar_style": "",
            "description": "",
            "description_tooltip": null,
            "layout": "IPY_MODEL_22ac771aea5343cbb224d37780a27598",
            "max": 1,
            "min": 0,
            "orientation": "horizontal",
            "style": "IPY_MODEL_459802632d43412590e8761a0253d6e8",
            "value": 1
          }
        },
        "412c41b032414f2c9c981d1be027c767": {
          "model_module": "@jupyter-widgets/base",
          "model_name": "LayoutModel",
          "model_module_version": "1.2.0",
          "state": {
            "_model_module": "@jupyter-widgets/base",
            "_model_module_version": "1.2.0",
            "_model_name": "LayoutModel",
            "_view_count": null,
            "_view_module": "@jupyter-widgets/base",
            "_view_module_version": "1.2.0",
            "_view_name": "LayoutView",
            "align_content": null,
            "align_items": null,
            "align_self": null,
            "border": null,
            "bottom": null,
            "display": null,
            "flex": null,
            "flex_flow": null,
            "grid_area": null,
            "grid_auto_columns": null,
            "grid_auto_flow": null,
            "grid_auto_rows": null,
            "grid_column": null,
            "grid_gap": null,
            "grid_row": null,
            "grid_template_areas": null,
            "grid_template_columns": null,
            "grid_template_rows": null,
            "height": null,
            "justify_content": null,
            "justify_items": null,
            "left": null,
            "margin": null,
            "max_height": null,
            "max_width": null,
            "min_height": null,
            "min_width": null,
            "object_fit": null,
            "object_position": null,
            "order": null,
            "overflow": null,
            "overflow_x": null,
            "overflow_y": null,
            "padding": null,
            "right": null,
            "top": null,
            "visibility": null,
            "width": null
          }
        },
        "ec28077a179e490594c26f481b9245fc": {
          "model_module": "@jupyter-widgets/base",
          "model_name": "LayoutModel",
          "model_module_version": "1.2.0",
          "state": {
            "_model_module": "@jupyter-widgets/base",
            "_model_module_version": "1.2.0",
            "_model_name": "LayoutModel",
            "_view_count": null,
            "_view_module": "@jupyter-widgets/base",
            "_view_module_version": "1.2.0",
            "_view_name": "LayoutView",
            "align_content": null,
            "align_items": null,
            "align_self": null,
            "border": null,
            "bottom": null,
            "display": null,
            "flex": null,
            "flex_flow": null,
            "grid_area": null,
            "grid_auto_columns": null,
            "grid_auto_flow": null,
            "grid_auto_rows": null,
            "grid_column": null,
            "grid_gap": null,
            "grid_row": null,
            "grid_template_areas": null,
            "grid_template_columns": null,
            "grid_template_rows": null,
            "height": null,
            "justify_content": null,
            "justify_items": null,
            "left": null,
            "margin": null,
            "max_height": null,
            "max_width": null,
            "min_height": null,
            "min_width": null,
            "object_fit": null,
            "object_position": null,
            "order": null,
            "overflow": null,
            "overflow_x": null,
            "overflow_y": null,
            "padding": null,
            "right": null,
            "top": null,
            "visibility": null,
            "width": null
          }
        },
        "13a5fd8d094542dca89991e856e8c60d": {
          "model_module": "@jupyter-widgets/controls",
          "model_name": "DescriptionStyleModel",
          "model_module_version": "1.5.0",
          "state": {
            "_model_module": "@jupyter-widgets/controls",
            "_model_module_version": "1.5.0",
            "_model_name": "DescriptionStyleModel",
            "_view_count": null,
            "_view_module": "@jupyter-widgets/base",
            "_view_module_version": "1.2.0",
            "_view_name": "StyleView",
            "description_width": ""
          }
        },
        "22ac771aea5343cbb224d37780a27598": {
          "model_module": "@jupyter-widgets/base",
          "model_name": "LayoutModel",
          "model_module_version": "1.2.0",
          "state": {
            "_model_module": "@jupyter-widgets/base",
            "_model_module_version": "1.2.0",
            "_model_name": "LayoutModel",
            "_view_count": null,
            "_view_module": "@jupyter-widgets/base",
            "_view_module_version": "1.2.0",
            "_view_name": "LayoutView",
            "align_content": null,
            "align_items": null,
            "align_self": null,
            "border": null,
            "bottom": null,
            "display": null,
            "flex": null,
            "flex_flow": null,
            "grid_area": null,
            "grid_auto_columns": null,
            "grid_auto_flow": null,
            "grid_auto_rows": null,
            "grid_column": null,
            "grid_gap": null,
            "grid_row": null,
            "grid_template_areas": null,
            "grid_template_columns": null,
            "grid_template_rows": null,
            "height": null,
            "justify_content": null,
            "justify_items": null,
            "left": null,
            "margin": null,
            "max_height": null,
            "max_width": null,
            "min_height": null,
            "min_width": null,
            "object_fit": null,
            "object_position": null,
            "order": null,
            "overflow": null,
            "overflow_x": null,
            "overflow_y": null,
            "padding": null,
            "right": null,
            "top": null,
            "visibility": null,
            "width": null
          }
        },
        "459802632d43412590e8761a0253d6e8": {
          "model_module": "@jupyter-widgets/controls",
          "model_name": "ProgressStyleModel",
          "model_module_version": "1.5.0",
          "state": {
            "_model_module": "@jupyter-widgets/controls",
            "_model_module_version": "1.5.0",
            "_model_name": "ProgressStyleModel",
            "_view_count": null,
            "_view_module": "@jupyter-widgets/base",
            "_view_module_version": "1.2.0",
            "_view_name": "StyleView",
            "bar_color": null,
            "description_width": ""
          }
        },
        "4784de1d63bd4267829511dd8b24e226": {
          "model_module": "@jupyter-widgets/controls",
          "model_name": "VBoxModel",
          "model_module_version": "1.5.0",
          "state": {
            "_dom_classes": [],
            "_model_module": "@jupyter-widgets/controls",
            "_model_module_version": "1.5.0",
            "_model_name": "VBoxModel",
            "_view_count": null,
            "_view_module": "@jupyter-widgets/controls",
            "_view_module_version": "1.5.0",
            "_view_name": "VBoxView",
            "box_style": "",
            "children": [
              "IPY_MODEL_f82459b7c16e4a738934e6db06e7f32b",
              "IPY_MODEL_b3551ba823b4428ea3f6e48758a7f07e"
            ],
            "layout": "IPY_MODEL_d43f6b2879c040988f13b0e9d3016d76"
          }
        },
        "f82459b7c16e4a738934e6db06e7f32b": {
          "model_module": "@jupyter-widgets/controls",
          "model_name": "LabelModel",
          "model_module_version": "1.5.0",
          "state": {
            "_dom_classes": [],
            "_model_module": "@jupyter-widgets/controls",
            "_model_module_version": "1.5.0",
            "_model_name": "LabelModel",
            "_view_count": null,
            "_view_module": "@jupyter-widgets/controls",
            "_view_module_version": "1.5.0",
            "_view_name": "LabelView",
            "description": "",
            "description_tooltip": null,
            "layout": "IPY_MODEL_ed2553bfa9544059ac8a874bc917cd92",
            "placeholder": "​",
            "style": "IPY_MODEL_a6fe7896d0494c738e430b10e18afee1",
            "value": "9.857 MB of 9.857 MB uploaded (0.000 MB deduped)\r"
          }
        },
        "b3551ba823b4428ea3f6e48758a7f07e": {
          "model_module": "@jupyter-widgets/controls",
          "model_name": "FloatProgressModel",
          "model_module_version": "1.5.0",
          "state": {
            "_dom_classes": [],
            "_model_module": "@jupyter-widgets/controls",
            "_model_module_version": "1.5.0",
            "_model_name": "FloatProgressModel",
            "_view_count": null,
            "_view_module": "@jupyter-widgets/controls",
            "_view_module_version": "1.5.0",
            "_view_name": "ProgressView",
            "bar_style": "",
            "description": "",
            "description_tooltip": null,
            "layout": "IPY_MODEL_6be0d592c47b4357ba83917bdf4cbfe3",
            "max": 1,
            "min": 0,
            "orientation": "horizontal",
            "style": "IPY_MODEL_340879e49f724ee79b11ef61d8b8564c",
            "value": 1
          }
        },
        "d43f6b2879c040988f13b0e9d3016d76": {
          "model_module": "@jupyter-widgets/base",
          "model_name": "LayoutModel",
          "model_module_version": "1.2.0",
          "state": {
            "_model_module": "@jupyter-widgets/base",
            "_model_module_version": "1.2.0",
            "_model_name": "LayoutModel",
            "_view_count": null,
            "_view_module": "@jupyter-widgets/base",
            "_view_module_version": "1.2.0",
            "_view_name": "LayoutView",
            "align_content": null,
            "align_items": null,
            "align_self": null,
            "border": null,
            "bottom": null,
            "display": null,
            "flex": null,
            "flex_flow": null,
            "grid_area": null,
            "grid_auto_columns": null,
            "grid_auto_flow": null,
            "grid_auto_rows": null,
            "grid_column": null,
            "grid_gap": null,
            "grid_row": null,
            "grid_template_areas": null,
            "grid_template_columns": null,
            "grid_template_rows": null,
            "height": null,
            "justify_content": null,
            "justify_items": null,
            "left": null,
            "margin": null,
            "max_height": null,
            "max_width": null,
            "min_height": null,
            "min_width": null,
            "object_fit": null,
            "object_position": null,
            "order": null,
            "overflow": null,
            "overflow_x": null,
            "overflow_y": null,
            "padding": null,
            "right": null,
            "top": null,
            "visibility": null,
            "width": null
          }
        },
        "ed2553bfa9544059ac8a874bc917cd92": {
          "model_module": "@jupyter-widgets/base",
          "model_name": "LayoutModel",
          "model_module_version": "1.2.0",
          "state": {
            "_model_module": "@jupyter-widgets/base",
            "_model_module_version": "1.2.0",
            "_model_name": "LayoutModel",
            "_view_count": null,
            "_view_module": "@jupyter-widgets/base",
            "_view_module_version": "1.2.0",
            "_view_name": "LayoutView",
            "align_content": null,
            "align_items": null,
            "align_self": null,
            "border": null,
            "bottom": null,
            "display": null,
            "flex": null,
            "flex_flow": null,
            "grid_area": null,
            "grid_auto_columns": null,
            "grid_auto_flow": null,
            "grid_auto_rows": null,
            "grid_column": null,
            "grid_gap": null,
            "grid_row": null,
            "grid_template_areas": null,
            "grid_template_columns": null,
            "grid_template_rows": null,
            "height": null,
            "justify_content": null,
            "justify_items": null,
            "left": null,
            "margin": null,
            "max_height": null,
            "max_width": null,
            "min_height": null,
            "min_width": null,
            "object_fit": null,
            "object_position": null,
            "order": null,
            "overflow": null,
            "overflow_x": null,
            "overflow_y": null,
            "padding": null,
            "right": null,
            "top": null,
            "visibility": null,
            "width": null
          }
        },
        "a6fe7896d0494c738e430b10e18afee1": {
          "model_module": "@jupyter-widgets/controls",
          "model_name": "DescriptionStyleModel",
          "model_module_version": "1.5.0",
          "state": {
            "_model_module": "@jupyter-widgets/controls",
            "_model_module_version": "1.5.0",
            "_model_name": "DescriptionStyleModel",
            "_view_count": null,
            "_view_module": "@jupyter-widgets/base",
            "_view_module_version": "1.2.0",
            "_view_name": "StyleView",
            "description_width": ""
          }
        },
        "6be0d592c47b4357ba83917bdf4cbfe3": {
          "model_module": "@jupyter-widgets/base",
          "model_name": "LayoutModel",
          "model_module_version": "1.2.0",
          "state": {
            "_model_module": "@jupyter-widgets/base",
            "_model_module_version": "1.2.0",
            "_model_name": "LayoutModel",
            "_view_count": null,
            "_view_module": "@jupyter-widgets/base",
            "_view_module_version": "1.2.0",
            "_view_name": "LayoutView",
            "align_content": null,
            "align_items": null,
            "align_self": null,
            "border": null,
            "bottom": null,
            "display": null,
            "flex": null,
            "flex_flow": null,
            "grid_area": null,
            "grid_auto_columns": null,
            "grid_auto_flow": null,
            "grid_auto_rows": null,
            "grid_column": null,
            "grid_gap": null,
            "grid_row": null,
            "grid_template_areas": null,
            "grid_template_columns": null,
            "grid_template_rows": null,
            "height": null,
            "justify_content": null,
            "justify_items": null,
            "left": null,
            "margin": null,
            "max_height": null,
            "max_width": null,
            "min_height": null,
            "min_width": null,
            "object_fit": null,
            "object_position": null,
            "order": null,
            "overflow": null,
            "overflow_x": null,
            "overflow_y": null,
            "padding": null,
            "right": null,
            "top": null,
            "visibility": null,
            "width": null
          }
        },
        "340879e49f724ee79b11ef61d8b8564c": {
          "model_module": "@jupyter-widgets/controls",
          "model_name": "ProgressStyleModel",
          "model_module_version": "1.5.0",
          "state": {
            "_model_module": "@jupyter-widgets/controls",
            "_model_module_version": "1.5.0",
            "_model_name": "ProgressStyleModel",
            "_view_count": null,
            "_view_module": "@jupyter-widgets/base",
            "_view_module_version": "1.2.0",
            "_view_name": "StyleView",
            "bar_color": null,
            "description_width": ""
          }
        },
        "cf535c82675f4dd2a9cd810bd34b0d96": {
          "model_module": "@jupyter-widgets/controls",
          "model_name": "VBoxModel",
          "model_module_version": "1.5.0",
          "state": {
            "_dom_classes": [],
            "_model_module": "@jupyter-widgets/controls",
            "_model_module_version": "1.5.0",
            "_model_name": "VBoxModel",
            "_view_count": null,
            "_view_module": "@jupyter-widgets/controls",
            "_view_module_version": "1.5.0",
            "_view_name": "VBoxView",
            "box_style": "",
            "children": [
              "IPY_MODEL_3bcacbe04f114984abe9b50e265ff6e7",
              "IPY_MODEL_6ab1ca1adf664d03ba4d109c86bdcc0d"
            ],
            "layout": "IPY_MODEL_41992c83b4e0410d87f40c1437631a85"
          }
        },
        "3bcacbe04f114984abe9b50e265ff6e7": {
          "model_module": "@jupyter-widgets/controls",
          "model_name": "LabelModel",
          "model_module_version": "1.5.0",
          "state": {
            "_dom_classes": [],
            "_model_module": "@jupyter-widgets/controls",
            "_model_module_version": "1.5.0",
            "_model_name": "LabelModel",
            "_view_count": null,
            "_view_module": "@jupyter-widgets/controls",
            "_view_module_version": "1.5.0",
            "_view_name": "LabelView",
            "description": "",
            "description_tooltip": null,
            "layout": "IPY_MODEL_8c311f831f2943299af76d97359affea",
            "placeholder": "​",
            "style": "IPY_MODEL_7c38eca3091f444999eef9df56d3c9b2",
            "value": "44.683 MB of 44.683 MB uploaded (0.000 MB deduped)\r"
          }
        },
        "6ab1ca1adf664d03ba4d109c86bdcc0d": {
          "model_module": "@jupyter-widgets/controls",
          "model_name": "FloatProgressModel",
          "model_module_version": "1.5.0",
          "state": {
            "_dom_classes": [],
            "_model_module": "@jupyter-widgets/controls",
            "_model_module_version": "1.5.0",
            "_model_name": "FloatProgressModel",
            "_view_count": null,
            "_view_module": "@jupyter-widgets/controls",
            "_view_module_version": "1.5.0",
            "_view_name": "ProgressView",
            "bar_style": "",
            "description": "",
            "description_tooltip": null,
            "layout": "IPY_MODEL_9897b3f9b87a40819cac9cd547dee7cc",
            "max": 1,
            "min": 0,
            "orientation": "horizontal",
            "style": "IPY_MODEL_a6e66ecbaf594edcb85c530a7ee3cd03",
            "value": 1
          }
        },
        "41992c83b4e0410d87f40c1437631a85": {
          "model_module": "@jupyter-widgets/base",
          "model_name": "LayoutModel",
          "model_module_version": "1.2.0",
          "state": {
            "_model_module": "@jupyter-widgets/base",
            "_model_module_version": "1.2.0",
            "_model_name": "LayoutModel",
            "_view_count": null,
            "_view_module": "@jupyter-widgets/base",
            "_view_module_version": "1.2.0",
            "_view_name": "LayoutView",
            "align_content": null,
            "align_items": null,
            "align_self": null,
            "border": null,
            "bottom": null,
            "display": null,
            "flex": null,
            "flex_flow": null,
            "grid_area": null,
            "grid_auto_columns": null,
            "grid_auto_flow": null,
            "grid_auto_rows": null,
            "grid_column": null,
            "grid_gap": null,
            "grid_row": null,
            "grid_template_areas": null,
            "grid_template_columns": null,
            "grid_template_rows": null,
            "height": null,
            "justify_content": null,
            "justify_items": null,
            "left": null,
            "margin": null,
            "max_height": null,
            "max_width": null,
            "min_height": null,
            "min_width": null,
            "object_fit": null,
            "object_position": null,
            "order": null,
            "overflow": null,
            "overflow_x": null,
            "overflow_y": null,
            "padding": null,
            "right": null,
            "top": null,
            "visibility": null,
            "width": null
          }
        },
        "8c311f831f2943299af76d97359affea": {
          "model_module": "@jupyter-widgets/base",
          "model_name": "LayoutModel",
          "model_module_version": "1.2.0",
          "state": {
            "_model_module": "@jupyter-widgets/base",
            "_model_module_version": "1.2.0",
            "_model_name": "LayoutModel",
            "_view_count": null,
            "_view_module": "@jupyter-widgets/base",
            "_view_module_version": "1.2.0",
            "_view_name": "LayoutView",
            "align_content": null,
            "align_items": null,
            "align_self": null,
            "border": null,
            "bottom": null,
            "display": null,
            "flex": null,
            "flex_flow": null,
            "grid_area": null,
            "grid_auto_columns": null,
            "grid_auto_flow": null,
            "grid_auto_rows": null,
            "grid_column": null,
            "grid_gap": null,
            "grid_row": null,
            "grid_template_areas": null,
            "grid_template_columns": null,
            "grid_template_rows": null,
            "height": null,
            "justify_content": null,
            "justify_items": null,
            "left": null,
            "margin": null,
            "max_height": null,
            "max_width": null,
            "min_height": null,
            "min_width": null,
            "object_fit": null,
            "object_position": null,
            "order": null,
            "overflow": null,
            "overflow_x": null,
            "overflow_y": null,
            "padding": null,
            "right": null,
            "top": null,
            "visibility": null,
            "width": null
          }
        },
        "7c38eca3091f444999eef9df56d3c9b2": {
          "model_module": "@jupyter-widgets/controls",
          "model_name": "DescriptionStyleModel",
          "model_module_version": "1.5.0",
          "state": {
            "_model_module": "@jupyter-widgets/controls",
            "_model_module_version": "1.5.0",
            "_model_name": "DescriptionStyleModel",
            "_view_count": null,
            "_view_module": "@jupyter-widgets/base",
            "_view_module_version": "1.2.0",
            "_view_name": "StyleView",
            "description_width": ""
          }
        },
        "9897b3f9b87a40819cac9cd547dee7cc": {
          "model_module": "@jupyter-widgets/base",
          "model_name": "LayoutModel",
          "model_module_version": "1.2.0",
          "state": {
            "_model_module": "@jupyter-widgets/base",
            "_model_module_version": "1.2.0",
            "_model_name": "LayoutModel",
            "_view_count": null,
            "_view_module": "@jupyter-widgets/base",
            "_view_module_version": "1.2.0",
            "_view_name": "LayoutView",
            "align_content": null,
            "align_items": null,
            "align_self": null,
            "border": null,
            "bottom": null,
            "display": null,
            "flex": null,
            "flex_flow": null,
            "grid_area": null,
            "grid_auto_columns": null,
            "grid_auto_flow": null,
            "grid_auto_rows": null,
            "grid_column": null,
            "grid_gap": null,
            "grid_row": null,
            "grid_template_areas": null,
            "grid_template_columns": null,
            "grid_template_rows": null,
            "height": null,
            "justify_content": null,
            "justify_items": null,
            "left": null,
            "margin": null,
            "max_height": null,
            "max_width": null,
            "min_height": null,
            "min_width": null,
            "object_fit": null,
            "object_position": null,
            "order": null,
            "overflow": null,
            "overflow_x": null,
            "overflow_y": null,
            "padding": null,
            "right": null,
            "top": null,
            "visibility": null,
            "width": null
          }
        },
        "a6e66ecbaf594edcb85c530a7ee3cd03": {
          "model_module": "@jupyter-widgets/controls",
          "model_name": "ProgressStyleModel",
          "model_module_version": "1.5.0",
          "state": {
            "_model_module": "@jupyter-widgets/controls",
            "_model_module_version": "1.5.0",
            "_model_name": "ProgressStyleModel",
            "_view_count": null,
            "_view_module": "@jupyter-widgets/base",
            "_view_module_version": "1.2.0",
            "_view_name": "StyleView",
            "bar_color": null,
            "description_width": ""
          }
        },
        "8acc1ea736fc4e07bb5483f94aa024ee": {
          "model_module": "@jupyter-widgets/controls",
          "model_name": "VBoxModel",
          "model_module_version": "1.5.0",
          "state": {
            "_dom_classes": [],
            "_model_module": "@jupyter-widgets/controls",
            "_model_module_version": "1.5.0",
            "_model_name": "VBoxModel",
            "_view_count": null,
            "_view_module": "@jupyter-widgets/controls",
            "_view_module_version": "1.5.0",
            "_view_name": "VBoxView",
            "box_style": "",
            "children": [
              "IPY_MODEL_6d6c97743f1240c594c54878c325bf76",
              "IPY_MODEL_1e4b3c091a764e2881e4d3badc6b055c"
            ],
            "layout": "IPY_MODEL_55daf0a1e09c44818670430a6c6a52cf"
          }
        },
        "6d6c97743f1240c594c54878c325bf76": {
          "model_module": "@jupyter-widgets/controls",
          "model_name": "LabelModel",
          "model_module_version": "1.5.0",
          "state": {
            "_dom_classes": [],
            "_model_module": "@jupyter-widgets/controls",
            "_model_module_version": "1.5.0",
            "_model_name": "LabelModel",
            "_view_count": null,
            "_view_module": "@jupyter-widgets/controls",
            "_view_module_version": "1.5.0",
            "_view_name": "LabelView",
            "description": "",
            "description_tooltip": null,
            "layout": "IPY_MODEL_d123198f27cc4ec698b2cb0dc9b46e0b",
            "placeholder": "​",
            "style": "IPY_MODEL_da9869f9dc6d41ff99ac886e8dd6f6af",
            "value": "31.042 MB of 31.042 MB uploaded (0.000 MB deduped)\r"
          }
        },
        "1e4b3c091a764e2881e4d3badc6b055c": {
          "model_module": "@jupyter-widgets/controls",
          "model_name": "FloatProgressModel",
          "model_module_version": "1.5.0",
          "state": {
            "_dom_classes": [],
            "_model_module": "@jupyter-widgets/controls",
            "_model_module_version": "1.5.0",
            "_model_name": "FloatProgressModel",
            "_view_count": null,
            "_view_module": "@jupyter-widgets/controls",
            "_view_module_version": "1.5.0",
            "_view_name": "ProgressView",
            "bar_style": "",
            "description": "",
            "description_tooltip": null,
            "layout": "IPY_MODEL_f2e64db385d947b497d87e2aa8a030f0",
            "max": 1,
            "min": 0,
            "orientation": "horizontal",
            "style": "IPY_MODEL_212edffb8b504dc7b98bcd90225b3bfb",
            "value": 1
          }
        },
        "55daf0a1e09c44818670430a6c6a52cf": {
          "model_module": "@jupyter-widgets/base",
          "model_name": "LayoutModel",
          "model_module_version": "1.2.0",
          "state": {
            "_model_module": "@jupyter-widgets/base",
            "_model_module_version": "1.2.0",
            "_model_name": "LayoutModel",
            "_view_count": null,
            "_view_module": "@jupyter-widgets/base",
            "_view_module_version": "1.2.0",
            "_view_name": "LayoutView",
            "align_content": null,
            "align_items": null,
            "align_self": null,
            "border": null,
            "bottom": null,
            "display": null,
            "flex": null,
            "flex_flow": null,
            "grid_area": null,
            "grid_auto_columns": null,
            "grid_auto_flow": null,
            "grid_auto_rows": null,
            "grid_column": null,
            "grid_gap": null,
            "grid_row": null,
            "grid_template_areas": null,
            "grid_template_columns": null,
            "grid_template_rows": null,
            "height": null,
            "justify_content": null,
            "justify_items": null,
            "left": null,
            "margin": null,
            "max_height": null,
            "max_width": null,
            "min_height": null,
            "min_width": null,
            "object_fit": null,
            "object_position": null,
            "order": null,
            "overflow": null,
            "overflow_x": null,
            "overflow_y": null,
            "padding": null,
            "right": null,
            "top": null,
            "visibility": null,
            "width": null
          }
        },
        "d123198f27cc4ec698b2cb0dc9b46e0b": {
          "model_module": "@jupyter-widgets/base",
          "model_name": "LayoutModel",
          "model_module_version": "1.2.0",
          "state": {
            "_model_module": "@jupyter-widgets/base",
            "_model_module_version": "1.2.0",
            "_model_name": "LayoutModel",
            "_view_count": null,
            "_view_module": "@jupyter-widgets/base",
            "_view_module_version": "1.2.0",
            "_view_name": "LayoutView",
            "align_content": null,
            "align_items": null,
            "align_self": null,
            "border": null,
            "bottom": null,
            "display": null,
            "flex": null,
            "flex_flow": null,
            "grid_area": null,
            "grid_auto_columns": null,
            "grid_auto_flow": null,
            "grid_auto_rows": null,
            "grid_column": null,
            "grid_gap": null,
            "grid_row": null,
            "grid_template_areas": null,
            "grid_template_columns": null,
            "grid_template_rows": null,
            "height": null,
            "justify_content": null,
            "justify_items": null,
            "left": null,
            "margin": null,
            "max_height": null,
            "max_width": null,
            "min_height": null,
            "min_width": null,
            "object_fit": null,
            "object_position": null,
            "order": null,
            "overflow": null,
            "overflow_x": null,
            "overflow_y": null,
            "padding": null,
            "right": null,
            "top": null,
            "visibility": null,
            "width": null
          }
        },
        "da9869f9dc6d41ff99ac886e8dd6f6af": {
          "model_module": "@jupyter-widgets/controls",
          "model_name": "DescriptionStyleModel",
          "model_module_version": "1.5.0",
          "state": {
            "_model_module": "@jupyter-widgets/controls",
            "_model_module_version": "1.5.0",
            "_model_name": "DescriptionStyleModel",
            "_view_count": null,
            "_view_module": "@jupyter-widgets/base",
            "_view_module_version": "1.2.0",
            "_view_name": "StyleView",
            "description_width": ""
          }
        },
        "f2e64db385d947b497d87e2aa8a030f0": {
          "model_module": "@jupyter-widgets/base",
          "model_name": "LayoutModel",
          "model_module_version": "1.2.0",
          "state": {
            "_model_module": "@jupyter-widgets/base",
            "_model_module_version": "1.2.0",
            "_model_name": "LayoutModel",
            "_view_count": null,
            "_view_module": "@jupyter-widgets/base",
            "_view_module_version": "1.2.0",
            "_view_name": "LayoutView",
            "align_content": null,
            "align_items": null,
            "align_self": null,
            "border": null,
            "bottom": null,
            "display": null,
            "flex": null,
            "flex_flow": null,
            "grid_area": null,
            "grid_auto_columns": null,
            "grid_auto_flow": null,
            "grid_auto_rows": null,
            "grid_column": null,
            "grid_gap": null,
            "grid_row": null,
            "grid_template_areas": null,
            "grid_template_columns": null,
            "grid_template_rows": null,
            "height": null,
            "justify_content": null,
            "justify_items": null,
            "left": null,
            "margin": null,
            "max_height": null,
            "max_width": null,
            "min_height": null,
            "min_width": null,
            "object_fit": null,
            "object_position": null,
            "order": null,
            "overflow": null,
            "overflow_x": null,
            "overflow_y": null,
            "padding": null,
            "right": null,
            "top": null,
            "visibility": null,
            "width": null
          }
        },
        "212edffb8b504dc7b98bcd90225b3bfb": {
          "model_module": "@jupyter-widgets/controls",
          "model_name": "ProgressStyleModel",
          "model_module_version": "1.5.0",
          "state": {
            "_model_module": "@jupyter-widgets/controls",
            "_model_module_version": "1.5.0",
            "_model_name": "ProgressStyleModel",
            "_view_count": null,
            "_view_module": "@jupyter-widgets/base",
            "_view_module_version": "1.2.0",
            "_view_name": "StyleView",
            "bar_color": null,
            "description_width": ""
          }
        }
      }
    }
  },
  "cells": [
    {
      "cell_type": "code",
      "execution_count": 1,
      "metadata": {
        "colab": {
          "base_uri": "https://localhost:8080/"
        },
        "id": "g61AWW6qEGFN",
        "outputId": "9ca13f05-9d72-4ff1-8510-d6ca1a8f50af"
      },
      "outputs": [
        {
          "output_type": "stream",
          "name": "stdout",
          "text": [
            "/content/drive/MyDrive/DL_Project_2\n"
          ]
        }
      ],
      "source": [
        "cd /content/drive/MyDrive/DL_Project_2"
      ]
    },
    {
      "cell_type": "code",
      "source": [
        "import zipfile\n",
        "import pandas as pd\n",
        "import librosa as lib\n",
        "from tqdm import tqdm\n",
        "import numpy as np\n",
        "import cv2\n",
        "import os\n",
        "import matplotlib.pyplot as plt\n",
        "import librosa as lib\n",
        "import torch\n",
        "from torchvision import datasets, transforms, models\n",
        "from torch.utils.data import Dataset\n",
        "device = torch.device('cuda' if torch.cuda.is_available() else 'cpu')\n",
        "device"
      ],
      "metadata": {
        "colab": {
          "base_uri": "https://localhost:8080/"
        },
        "id": "vnEPI4ijE7P5",
        "outputId": "0731c9ff-4811-4ec5-f1eb-cc19bc191d95"
      },
      "execution_count": 109,
      "outputs": [
        {
          "output_type": "execute_result",
          "data": {
            "text/plain": [
              "device(type='cuda')"
            ]
          },
          "metadata": {},
          "execution_count": 109
        }
      ]
    },
    {
      "cell_type": "markdown",
      "source": [
        "#Data-related Code Snippets"
      ],
      "metadata": {
        "id": "WrYMOPn-8K94"
      }
    },
    {
      "cell_type": "code",
      "source": [
        "with zipfile.ZipFile('/content/drive/MyDrive/DL_Project_2/archive.zip', 'r') as zip_ref:\n",
        "  zip_ref.extractall('/content/drive/MyDrive/DL_Project_2')"
      ],
      "metadata": {
        "id": "WrK8L0PzHwVK"
      },
      "execution_count": 110,
      "outputs": []
    },
    {
      "cell_type": "code",
      "source": [
        "def rename_files(root_path):\n",
        "  for emotion in [\"Sad\",\"Romantic\",\"Devotional\",\"Party\",\"Happy\"]:\n",
        "    emotional_path = os.path.join(root_path,str(emotion)+'/'+str(emotion))\n",
        "    list_emotional = os.listdir(emotional_path)\n",
        "    for emotion_piece in list_emotional:\n",
        "      piece = os.path.join(emotional_path,emotion_piece)\n",
        "      new_piece = os.path.join(emotional_path,emotion+str(\"_\")+emotion_piece)\n",
        "      os.rename(piece, new_piece)\n",
        "    print(\"done\")"
      ],
      "metadata": {
        "id": "mDnK0SUVHIhi"
      },
      "execution_count": 111,
      "outputs": []
    },
    {
      "cell_type": "code",
      "source": [
        "rename_files('/content/drive/MyDrive/DL_Project_2')"
      ],
      "metadata": {
        "colab": {
          "base_uri": "https://localhost:8080/"
        },
        "id": "gMbL7N8hIluV",
        "outputId": "21336cde-f7cf-4105-fc3f-0fde7e66f96e"
      },
      "execution_count": 112,
      "outputs": [
        {
          "output_type": "stream",
          "name": "stdout",
          "text": [
            "done\n",
            "done\n",
            "done\n",
            "done\n",
            "done\n"
          ]
        }
      ]
    },
    {
      "cell_type": "code",
      "source": [
        "def dataframe_creation(root_path):\n",
        "  label=0\n",
        "  audio_name = []\n",
        "  label_list = []\n",
        "  for emotion in [\"Sad\",\"Romantic\",\"Devotional\",\"Party\",\"Happy\"]:\n",
        "    emotional_path = os.path.join(root_path,str(emotion)+'/'+str(emotion))\n",
        "    list_emotional = os.listdir(emotional_path)\n",
        "    for emotion_piece in list_emotional:\n",
        "      piece = os.path.join(emotional_path,emotion_piece)\n",
        "      audio_name.append(piece)\n",
        "      label_list.append(label)\n",
        "    label = label+1\n",
        "  df = pd.DataFrame(columns=[\"Audio_Name\",\"Emotion_Name\"])\n",
        "  df[\"Audio_Name\"] = audio_name\n",
        "  df[\"Emotion_Name\"] = label_list\n",
        "  return df"
      ],
      "metadata": {
        "id": "bwObJVWnIuyK"
      },
      "execution_count": 113,
      "outputs": []
    },
    {
      "cell_type": "code",
      "source": [
        "audio_df = dataframe_creation('/content/drive/MyDrive/DL_Project_2')"
      ],
      "metadata": {
        "id": "jSZ6yV4WLwW7"
      },
      "execution_count": 114,
      "outputs": []
    },
    {
      "cell_type": "code",
      "source": [
        "audio_df.to_csv('/content/drive/MyDrive/DL_Project_2/Audio_metafile.csv')"
      ],
      "metadata": {
        "id": "pgoqiNxfL1ai"
      },
      "execution_count": 115,
      "outputs": []
    },
    {
      "cell_type": "markdown",
      "source": [
        "#Main Function"
      ],
      "metadata": {
        "id": "00m3EpyT8QhU"
      }
    },
    {
      "cell_type": "code",
      "source": [
        "audio_df = pd.read_csv('/content/drive/MyDrive/DL_Project_2/Audio_metafile.csv')"
      ],
      "metadata": {
        "id": "3PC-52XUMbz9"
      },
      "execution_count": 116,
      "outputs": []
    },
    {
      "cell_type": "code",
      "source": [
        "audio_df"
      ],
      "metadata": {
        "colab": {
          "base_uri": "https://localhost:8080/",
          "height": 424
        },
        "id": "hvbZSVT19EIU",
        "outputId": "7e48b81b-8cd9-4733-a1c5-5b6612959af5"
      },
      "execution_count": 117,
      "outputs": [
        {
          "output_type": "execute_result",
          "data": {
            "text/plain": [
              "     Unnamed: 0                                         Audio_Name  \\\n",
              "0             0  /content/drive/MyDrive/DL_Project_2/Sad/Sad/Sa...   \n",
              "1             1  /content/drive/MyDrive/DL_Project_2/Sad/Sad/Sa...   \n",
              "2             2  /content/drive/MyDrive/DL_Project_2/Sad/Sad/Sa...   \n",
              "3             3  /content/drive/MyDrive/DL_Project_2/Sad/Sad/Sa...   \n",
              "4             4  /content/drive/MyDrive/DL_Project_2/Sad/Sad/Sa...   \n",
              "..          ...                                                ...   \n",
              "489         489  /content/drive/MyDrive/DL_Project_2/Happy/Happ...   \n",
              "490         490  /content/drive/MyDrive/DL_Project_2/Happy/Happ...   \n",
              "491         491  /content/drive/MyDrive/DL_Project_2/Happy/Happ...   \n",
              "492         492  /content/drive/MyDrive/DL_Project_2/Happy/Happ...   \n",
              "493         493  /content/drive/MyDrive/DL_Project_2/Happy/Happ...   \n",
              "\n",
              "     Emotion_Name  \n",
              "0               0  \n",
              "1               0  \n",
              "2               0  \n",
              "3               0  \n",
              "4               0  \n",
              "..            ...  \n",
              "489             4  \n",
              "490             4  \n",
              "491             4  \n",
              "492             4  \n",
              "493             4  \n",
              "\n",
              "[494 rows x 3 columns]"
            ],
            "text/html": [
              "\n",
              "  <div id=\"df-7af8b323-91be-4efd-9325-016ef8152e4b\">\n",
              "    <div class=\"colab-df-container\">\n",
              "      <div>\n",
              "<style scoped>\n",
              "    .dataframe tbody tr th:only-of-type {\n",
              "        vertical-align: middle;\n",
              "    }\n",
              "\n",
              "    .dataframe tbody tr th {\n",
              "        vertical-align: top;\n",
              "    }\n",
              "\n",
              "    .dataframe thead th {\n",
              "        text-align: right;\n",
              "    }\n",
              "</style>\n",
              "<table border=\"1\" class=\"dataframe\">\n",
              "  <thead>\n",
              "    <tr style=\"text-align: right;\">\n",
              "      <th></th>\n",
              "      <th>Unnamed: 0</th>\n",
              "      <th>Audio_Name</th>\n",
              "      <th>Emotion_Name</th>\n",
              "    </tr>\n",
              "  </thead>\n",
              "  <tbody>\n",
              "    <tr>\n",
              "      <th>0</th>\n",
              "      <td>0</td>\n",
              "      <td>/content/drive/MyDrive/DL_Project_2/Sad/Sad/Sa...</td>\n",
              "      <td>0</td>\n",
              "    </tr>\n",
              "    <tr>\n",
              "      <th>1</th>\n",
              "      <td>1</td>\n",
              "      <td>/content/drive/MyDrive/DL_Project_2/Sad/Sad/Sa...</td>\n",
              "      <td>0</td>\n",
              "    </tr>\n",
              "    <tr>\n",
              "      <th>2</th>\n",
              "      <td>2</td>\n",
              "      <td>/content/drive/MyDrive/DL_Project_2/Sad/Sad/Sa...</td>\n",
              "      <td>0</td>\n",
              "    </tr>\n",
              "    <tr>\n",
              "      <th>3</th>\n",
              "      <td>3</td>\n",
              "      <td>/content/drive/MyDrive/DL_Project_2/Sad/Sad/Sa...</td>\n",
              "      <td>0</td>\n",
              "    </tr>\n",
              "    <tr>\n",
              "      <th>4</th>\n",
              "      <td>4</td>\n",
              "      <td>/content/drive/MyDrive/DL_Project_2/Sad/Sad/Sa...</td>\n",
              "      <td>0</td>\n",
              "    </tr>\n",
              "    <tr>\n",
              "      <th>...</th>\n",
              "      <td>...</td>\n",
              "      <td>...</td>\n",
              "      <td>...</td>\n",
              "    </tr>\n",
              "    <tr>\n",
              "      <th>489</th>\n",
              "      <td>489</td>\n",
              "      <td>/content/drive/MyDrive/DL_Project_2/Happy/Happ...</td>\n",
              "      <td>4</td>\n",
              "    </tr>\n",
              "    <tr>\n",
              "      <th>490</th>\n",
              "      <td>490</td>\n",
              "      <td>/content/drive/MyDrive/DL_Project_2/Happy/Happ...</td>\n",
              "      <td>4</td>\n",
              "    </tr>\n",
              "    <tr>\n",
              "      <th>491</th>\n",
              "      <td>491</td>\n",
              "      <td>/content/drive/MyDrive/DL_Project_2/Happy/Happ...</td>\n",
              "      <td>4</td>\n",
              "    </tr>\n",
              "    <tr>\n",
              "      <th>492</th>\n",
              "      <td>492</td>\n",
              "      <td>/content/drive/MyDrive/DL_Project_2/Happy/Happ...</td>\n",
              "      <td>4</td>\n",
              "    </tr>\n",
              "    <tr>\n",
              "      <th>493</th>\n",
              "      <td>493</td>\n",
              "      <td>/content/drive/MyDrive/DL_Project_2/Happy/Happ...</td>\n",
              "      <td>4</td>\n",
              "    </tr>\n",
              "  </tbody>\n",
              "</table>\n",
              "<p>494 rows × 3 columns</p>\n",
              "</div>\n",
              "      <button class=\"colab-df-convert\" onclick=\"convertToInteractive('df-7af8b323-91be-4efd-9325-016ef8152e4b')\"\n",
              "              title=\"Convert this dataframe to an interactive table.\"\n",
              "              style=\"display:none;\">\n",
              "        \n",
              "  <svg xmlns=\"http://www.w3.org/2000/svg\" height=\"24px\"viewBox=\"0 0 24 24\"\n",
              "       width=\"24px\">\n",
              "    <path d=\"M0 0h24v24H0V0z\" fill=\"none\"/>\n",
              "    <path d=\"M18.56 5.44l.94 2.06.94-2.06 2.06-.94-2.06-.94-.94-2.06-.94 2.06-2.06.94zm-11 1L8.5 8.5l.94-2.06 2.06-.94-2.06-.94L8.5 2.5l-.94 2.06-2.06.94zm10 10l.94 2.06.94-2.06 2.06-.94-2.06-.94-.94-2.06-.94 2.06-2.06.94z\"/><path d=\"M17.41 7.96l-1.37-1.37c-.4-.4-.92-.59-1.43-.59-.52 0-1.04.2-1.43.59L10.3 9.45l-7.72 7.72c-.78.78-.78 2.05 0 2.83L4 21.41c.39.39.9.59 1.41.59.51 0 1.02-.2 1.41-.59l7.78-7.78 2.81-2.81c.8-.78.8-2.07 0-2.86zM5.41 20L4 18.59l7.72-7.72 1.47 1.35L5.41 20z\"/>\n",
              "  </svg>\n",
              "      </button>\n",
              "      \n",
              "  <style>\n",
              "    .colab-df-container {\n",
              "      display:flex;\n",
              "      flex-wrap:wrap;\n",
              "      gap: 12px;\n",
              "    }\n",
              "\n",
              "    .colab-df-convert {\n",
              "      background-color: #E8F0FE;\n",
              "      border: none;\n",
              "      border-radius: 50%;\n",
              "      cursor: pointer;\n",
              "      display: none;\n",
              "      fill: #1967D2;\n",
              "      height: 32px;\n",
              "      padding: 0 0 0 0;\n",
              "      width: 32px;\n",
              "    }\n",
              "\n",
              "    .colab-df-convert:hover {\n",
              "      background-color: #E2EBFA;\n",
              "      box-shadow: 0px 1px 2px rgba(60, 64, 67, 0.3), 0px 1px 3px 1px rgba(60, 64, 67, 0.15);\n",
              "      fill: #174EA6;\n",
              "    }\n",
              "\n",
              "    [theme=dark] .colab-df-convert {\n",
              "      background-color: #3B4455;\n",
              "      fill: #D2E3FC;\n",
              "    }\n",
              "\n",
              "    [theme=dark] .colab-df-convert:hover {\n",
              "      background-color: #434B5C;\n",
              "      box-shadow: 0px 1px 3px 1px rgba(0, 0, 0, 0.15);\n",
              "      filter: drop-shadow(0px 1px 2px rgba(0, 0, 0, 0.3));\n",
              "      fill: #FFFFFF;\n",
              "    }\n",
              "  </style>\n",
              "\n",
              "      <script>\n",
              "        const buttonEl =\n",
              "          document.querySelector('#df-7af8b323-91be-4efd-9325-016ef8152e4b button.colab-df-convert');\n",
              "        buttonEl.style.display =\n",
              "          google.colab.kernel.accessAllowed ? 'block' : 'none';\n",
              "\n",
              "        async function convertToInteractive(key) {\n",
              "          const element = document.querySelector('#df-7af8b323-91be-4efd-9325-016ef8152e4b');\n",
              "          const dataTable =\n",
              "            await google.colab.kernel.invokeFunction('convertToInteractive',\n",
              "                                                     [key], {});\n",
              "          if (!dataTable) return;\n",
              "\n",
              "          const docLinkHtml = 'Like what you see? Visit the ' +\n",
              "            '<a target=\"_blank\" href=https://colab.research.google.com/notebooks/data_table.ipynb>data table notebook</a>'\n",
              "            + ' to learn more about interactive tables.';\n",
              "          element.innerHTML = '';\n",
              "          dataTable['output_type'] = 'display_data';\n",
              "          await google.colab.output.renderOutput(dataTable, element);\n",
              "          const docLink = document.createElement('div');\n",
              "          docLink.innerHTML = docLinkHtml;\n",
              "          element.appendChild(docLink);\n",
              "        }\n",
              "      </script>\n",
              "    </div>\n",
              "  </div>\n",
              "  "
            ]
          },
          "metadata": {},
          "execution_count": 117
        }
      ]
    },
    {
      "cell_type": "code",
      "source": [
        "audio_df = audio_df.drop(columns=['Unnamed: 0'])"
      ],
      "metadata": {
        "id": "v9TlC-i8-HnO"
      },
      "execution_count": 119,
      "outputs": []
    },
    {
      "cell_type": "code",
      "source": [
        "sample_1 = lib.load(audio_df[\"Audio_Name\"][0])\n",
        "x,y = sample_1\n",
        "x.shape"
      ],
      "metadata": {
        "colab": {
          "base_uri": "https://localhost:8080/"
        },
        "id": "8ldkJl_dYlWR",
        "outputId": "93bdeca8-05d7-4cc4-82c2-4cc84d6c7838"
      },
      "execution_count": 10,
      "outputs": [
        {
          "output_type": "execute_result",
          "data": {
            "text/plain": [
              "(485304,)"
            ]
          },
          "metadata": {},
          "execution_count": 10
        }
      ]
    },
    {
      "cell_type": "code",
      "source": [
        "hl = 512 # number of samples per time-step in spectrogram\n",
        "hi = 224 # Height of image\n",
        "wi = 224 # Width of image"
      ],
      "metadata": {
        "id": "USIPuFPbY9LL"
      },
      "execution_count": 13,
      "outputs": []
    },
    {
      "cell_type": "code",
      "source": [
        "window = x[0:wi*hl]"
      ],
      "metadata": {
        "id": "p-F_KBGMZAVx"
      },
      "execution_count": 14,
      "outputs": []
    },
    {
      "cell_type": "code",
      "source": [
        "S = lib.feature.melspectrogram(y=window, sr=y, n_mels=hi, fmax=8000, hop_length=hl)\n",
        "S_dB = lib.power_to_db(S, ref=np.max)"
      ],
      "metadata": {
        "id": "eHBarl5SZP05"
      },
      "execution_count": 15,
      "outputs": []
    },
    {
      "cell_type": "code",
      "source": [
        "plt.imshow(S_dB)"
      ],
      "metadata": {
        "colab": {
          "base_uri": "https://localhost:8080/",
          "height": 287
        },
        "id": "Ycqs1bMnZf57",
        "outputId": "368ebec4-fc37-4f0e-ab1f-2bd3d1701668"
      },
      "execution_count": 16,
      "outputs": [
        {
          "output_type": "execute_result",
          "data": {
            "text/plain": [
              "<matplotlib.image.AxesImage at 0x7fd4d6ba2950>"
            ]
          },
          "metadata": {},
          "execution_count": 16
        },
        {
          "output_type": "display_data",
          "data": {
            "text/plain": [
              "<Figure size 432x288 with 1 Axes>"
            ],
            "image/png": "[encoded data removed]"
          },
          "metadata": {
            "needs_background": "light"
          }
        }
      ]
    },
    {
      "cell_type": "markdown",
      "source": [
        "# Dataset Class and Function"
      ],
      "metadata": {
        "id": "vL_ncEE2ckXV"
      }
    },
    {
      "cell_type": "code",
      "source": [
        "from torch.utils.data.sampler import SubsetRandomSampler\n",
        "\n",
        "class Data_Prepare(Dataset):\n",
        "  \"\"\"\n",
        "  The Class will act as the container for our dataset. It will take your dataframe, the root path, and also the transform function for transforming the dataset.\n",
        "  \"\"\"\n",
        "  def __init__(self, data_frame, transform=None):\n",
        "    self.data_frame = data_frame\n",
        "    self.transform = transform\n",
        "    self.hl = 512 # number of samples per time-step in spectrogram\n",
        "    self.hi = 224 # Height of image\n",
        "    self.wi = 224 # Width of image\n",
        "  def __len__(self):\n",
        "    # Return the length of the dataset\n",
        "    return len(self.data_frame)\n",
        "  def __getitem__(self, idx):\n",
        "    # Return the observation based on an index. Ex. dataset[0] will return the first element from the dataset, in this case the image and the label.\n",
        "    if torch.is_tensor(idx):\n",
        "      idx = idx.tolist()    \n",
        "    audio_name = self.data_frame.iloc[idx, 0]\n",
        "    audio_file, y = lib.load(audio_name)\n",
        "    audio_window = audio_file[0:self.wi*self.hl]\n",
        "    spectrogram = lib.feature.melspectrogram(y=audio_window, sr=y, n_mels=self.hi, fmax=8000, hop_length=self.hl)\n",
        "    plot = lib.power_to_db(spectrogram, ref=np.max)\n",
        "    plot = cv2.resize(cv2.cvtColor(plot,cv2.COLOR_GRAY2RGB),(224,224))\n",
        "    label = (self.data_frame.iloc[idx, -1])\n",
        "    if self.transform:\n",
        "      plot = self.transform(plot)\n",
        "    return (plot, label)\n",
        "\n",
        "def data_preparation(Data_Class, Dataframe, Mean, Std, Batch_Size = 128, Shuffle = False):\n",
        "  transform = transforms.Compose([transforms.ToTensor(),transforms.Normalize(Mean, Std)])\n",
        "  dataset_whole = Data_Class(data_frame=Dataframe,transform = transform)\n",
        "  test_split = 0.2\n",
        "  random_seed= 42\n",
        "  dataset_size = len(dataset_whole)\n",
        "  indices = list(range(dataset_size))\n",
        "  split = int(np.floor(test_split * dataset_size))\n",
        "  if Shuffle==True:\n",
        "    np.random.seed(random_seed)\n",
        "    np.random.shuffle(indices)\n",
        "  train_indices, test_indices = indices[split:], indices[:split]\n",
        "  train_sampler = SubsetRandomSampler(train_indices)\n",
        "  test_sampler = SubsetRandomSampler(test_indices)\n",
        "  train_loader = torch.utils.data.DataLoader(dataset = dataset_whole, batch_size = Batch_Size, pin_memory = True, num_workers=2, sampler=train_sampler)\n",
        "  test_loader = torch.utils.data.DataLoader(dataset = dataset_whole, batch_size = Batch_Size, pin_memory = True, num_workers=2, sampler=test_sampler)\n",
        "  return train_loader, test_loader"
      ],
      "metadata": {
        "id": "jwIkjMqqa6W3"
      },
      "execution_count": 125,
      "outputs": []
    },
    {
      "cell_type": "code",
      "source": [
        "train, test = data_preparation(Data_Prepare, audio_df,(0,0,0),(1,1,1),Batch_Size=64, Shuffle=True)"
      ],
      "metadata": {
        "id": "wwFJTh6GfwbO"
      },
      "execution_count": 126,
      "outputs": []
    },
    {
      "cell_type": "markdown",
      "source": [
        "# Helper Function"
      ],
      "metadata": {
        "id": "tDfKXro6cT47"
      }
    },
    {
      "cell_type": "code",
      "source": [
        "def bifurcation(model_name):\n",
        "  model = model_name(pretrained=True)\n",
        "  param = model.state_dict()\n",
        "  for i in param.keys():\n",
        "    print(i)\n",
        "\n",
        "def selective_finetuning_single_layer(model_name, layer_name):\n",
        "  model = model_name(pretrained=True)\n",
        "  for name, param in model.named_parameters():\n",
        "    if param.requires_grad and layer_name in name:\n",
        "      param.requires_grad = True\n",
        "    else:\n",
        "      param.requires_grad = False\n",
        "  optimizer = torch.optim.Adam(filter(lambda p: p.requires_grad, model.parameters()))\n",
        "  return model.cuda(), torch.nn.CrossEntropyLoss().cuda(), optimizer"
      ],
      "metadata": {
        "id": "_iXQewLXgTf5"
      },
      "execution_count": 94,
      "outputs": []
    },
    {
      "cell_type": "code",
      "source": [
        "def grad_change(Loss_Function, Optimizer, Label = None, Predicted = None):\n",
        "  Optimizer.zero_grad()\n",
        "  loss = Loss_Function(Predicted, Label)\n",
        "  loss.backward()\n",
        "  Optimizer.step()\n",
        "  return loss, Optimizer\n",
        "\n",
        "def model(Train_Loader, Test_Loader, Epochs, Model_Class=None, Loss_Function=None, Optimizer=None):\n",
        "  outputs_train=[]\n",
        "  outputs_test=[]\n",
        "  y_true=[]\n",
        "  y_pred=[]\n",
        "  for Epoch in range(Epochs):\n",
        "    running_loss_train=0\n",
        "    running_loss_test=0\n",
        "    correct_train=0\n",
        "    correct_test=0\n",
        "    for (image, label) in tqdm(Train_Loader):\n",
        "      image = image.cuda()\n",
        "      label = torch.tensor(label).cuda()\n",
        "      out = Model_Class(image)\n",
        "      loss, Optimizer = grad_change(Loss_Function = Loss_Function, Optimizer = Optimizer, Label = label, Predicted = out)\n",
        "      running_loss_train += loss.item()\n",
        "      predicted_train = out.data.max(1, keepdim=True)[1]\n",
        "      correct_train += predicted_train.eq(label.data.view_as(predicted_train)).sum()\n",
        "      outputs_train.append((Epoch, running_loss_train/len(Train_Loader.dataset), 100*correct_train/len(Train_Loader.dataset)))\n",
        "    with torch.no_grad():\n",
        "      for (image, label) in Test_Loader:\n",
        "        image = image.cuda()\n",
        "        label = torch.tensor(label).cuda()\n",
        "        out = Model_Class(image)\n",
        "        loss = Loss_Function(out,label)\n",
        "        running_loss_test += loss.item()\n",
        "        predicted_test = out.data.max(1, keepdim=True)[1]\n",
        "        if Epoch==(Epochs-1):\n",
        "          y_pred.extend(predicted_test.cpu().numpy())\n",
        "          y_true.extend(label.data.cpu().numpy())\n",
        "        correct_test += predicted_test.eq(label.data.view_as(predicted_test)).sum()\n",
        "        outputs_test.append((Epoch, running_loss_test/len(Test_Loader.dataset), 100*correct_test/len(Test_Loader.dataset)))\n",
        "  return Model_Class, outputs_train, outputs_test, y_pred, y_true"
      ],
      "metadata": {
        "id": "UYu0x3fuhRa0"
      },
      "execution_count": 95,
      "outputs": []
    },
    {
      "cell_type": "markdown",
      "source": [
        "# VGG16 Training and Inference"
      ],
      "metadata": {
        "id": "SWqlpq4xbmD_"
      }
    },
    {
      "cell_type": "code",
      "source": [
        "bifurcation(models.vgg16)"
      ],
      "metadata": {
        "colab": {
          "base_uri": "https://localhost:8080/"
        },
        "id": "A13siv7wjmZ8",
        "outputId": "58ecb037-763f-4d50-f0c0-988309516fa0"
      },
      "execution_count": 78,
      "outputs": [
        {
          "output_type": "stream",
          "name": "stdout",
          "text": [
            "features.0.weight\n",
            "features.0.bias\n",
            "features.2.weight\n",
            "features.2.bias\n",
            "features.5.weight\n",
            "features.5.bias\n",
            "features.7.weight\n",
            "features.7.bias\n",
            "features.10.weight\n",
            "features.10.bias\n",
            "features.12.weight\n",
            "features.12.bias\n",
            "features.14.weight\n",
            "features.14.bias\n",
            "features.17.weight\n",
            "features.17.bias\n",
            "features.19.weight\n",
            "features.19.bias\n",
            "features.21.weight\n",
            "features.21.bias\n",
            "features.24.weight\n",
            "features.24.bias\n",
            "features.26.weight\n",
            "features.26.bias\n",
            "features.28.weight\n",
            "features.28.bias\n",
            "classifier.0.weight\n",
            "classifier.0.bias\n",
            "classifier.3.weight\n",
            "classifier.3.bias\n",
            "classifier.6.weight\n",
            "classifier.6.bias\n"
          ]
        }
      ]
    },
    {
      "cell_type": "code",
      "source": [
        "import warnings\n",
        "warnings.filterwarnings(\"ignore\")\n",
        "\n",
        "model_vgg16, loss_vgg16, optim_vgg16 = selective_finetuning_single_layer(models.vgg16, 'classifier')\n",
        "model_vgg16 ,vgg16_train ,vgg16_test, vgg16_pred, vgg16_true = model(train,test,5,model_vgg16, loss_vgg16, optim_vgg16)"
      ],
      "metadata": {
        "colab": {
          "base_uri": "https://localhost:8080/"
        },
        "id": "Jn8fXuiGj8aR",
        "outputId": "c8f17c15-5df7-4438-802c-bbf3c658241f"
      },
      "execution_count": 80,
      "outputs": [
        {
          "output_type": "stream",
          "name": "stderr",
          "text": [
            "100%|██████████| 7/7 [02:32<00:00, 21.76s/it]\n",
            "100%|██████████| 7/7 [01:58<00:00, 16.94s/it]\n",
            "100%|██████████| 7/7 [02:01<00:00, 17.37s/it]\n",
            "100%|██████████| 7/7 [02:11<00:00, 18.77s/it]\n",
            "100%|██████████| 7/7 [03:37<00:00, 31.13s/it]\n"
          ]
        }
      ]
    },
    {
      "cell_type": "code",
      "source": [
        "import seaborn as sns \n",
        "from sklearn.metrics import confusion_matrix\n",
        "cf_matrix=confusion_matrix(vgg16_true,vgg16_pred)\n",
        "cf_matrix"
      ],
      "metadata": {
        "colab": {
          "base_uri": "https://localhost:8080/"
        },
        "id": "fjAlI8Qy6pxE",
        "outputId": "81ca904a-9473-4e59-8626-b4302d3f8f31"
      },
      "execution_count": 81,
      "outputs": [
        {
          "output_type": "execute_result",
          "data": {
            "text/plain": [
              "array([[13,  5,  2,  1,  6,  0,  0],\n",
              "       [11,  1,  2,  0,  2,  0,  0],\n",
              "       [ 6,  4,  3,  0,  0,  2,  1],\n",
              "       [ 7,  0,  3,  2,  3,  0,  0],\n",
              "       [ 8,  3,  4,  3,  6,  0,  0],\n",
              "       [ 0,  0,  0,  0,  0,  0,  0],\n",
              "       [ 0,  0,  0,  0,  0,  0,  0]])"
            ]
          },
          "metadata": {},
          "execution_count": 81
        }
      ]
    },
    {
      "cell_type": "code",
      "source": [
        "plt.figure(figsize=(9,9))\n",
        "sns.heatmap(cf_matrix, cbar=False, fmt='d', annot=True, cmap='Blues')\n",
        "plt.xlabel('Predicted')\n",
        "plt.ylabel('Actual')\n",
        "plt.title('Confusion matrix of the CNN Classifier')\n",
        "plt.show()"
      ],
      "metadata": {
        "colab": {
          "base_uri": "https://localhost:8080/",
          "height": 567
        },
        "id": "NFuIMLMS69Mq",
        "outputId": "2b19ef73-05dd-4464-c6a6-9db2b1ded751"
      },
      "execution_count": 82,
      "outputs": [
        {
          "output_type": "display_data",
          "data": {
            "text/plain": [
              "<Figure size 648x648 with 1 Axes>"
            ],
            "image/png": "[encoded data removed]"
          },
          "metadata": {
            "needs_background": "light"
          }
        }
      ]
    },
    {
      "cell_type": "markdown",
      "source": [
        "# Mobilenet-V3-Small Training and Inference"
      ],
      "metadata": {
        "id": "IJRa2MOfbZ-h"
      }
    },
    {
      "cell_type": "code",
      "source": [
        "bifurcation(models.mobilenet_v3_small)"
      ],
      "metadata": {
        "colab": {
          "base_uri": "https://localhost:8080/",
          "height": 1000,
          "referenced_widgets": [
            "a428ff01efb447dda0f11d0ceca15bf4",
            "c44b65367e3c46bda7aecfd1b9838a5f",
            "59aa95c5545a4e1f82d8186bade5d017",
            "fa769a6df54f44a19dd33862bb59c24a",
            "1cd9b497dab0436b8de25b5e6c53c115",
            "5cf888d4b1bb49da9702320996f53e1b",
            "cd59ebb7db1e4a97a9faabfddf1a7bc7",
            "bbd68421ecd24dbcb7d2c7b7c745fec4",
            "666a9c9f3d004db1baac35164935a894",
            "77d4754c153840f2bdb0585a21eab2dd",
            "2a4c4cadd4c2401ea3b78b9a75a88922"
          ]
        },
        "id": "gOKZE5RwlDbn",
        "outputId": "dbb493b4-59c4-4867-819a-cbddb752e71b"
      },
      "execution_count": 123,
      "outputs": [
        {
          "output_type": "stream",
          "name": "stderr",
          "text": [
            "Downloading: \"https://download.pytorch.org/models/mobilenet_v3_small-047dcff4.pth\" to /root/.cache/torch/hub/checkpoints/mobilenet_v3_small-047dcff4.pth\n"
          ]
        },
        {
          "output_type": "display_data",
          "data": {
            "text/plain": [
              "  0%|          | 0.00/9.83M [00:00<?, ?B/s]"
            ],
            "application/vnd.jupyter.widget-view+json": {
              "version_major": 2,
              "version_minor": 0,
              "model_id": "a428ff01efb447dda0f11d0ceca15bf4"
            }
          },
          "metadata": {}
        },
        {
          "output_type": "stream",
          "name": "stdout",
          "text": [
            "features.0.0.weight\n",
            "features.0.1.weight\n",
            "features.0.1.bias\n",
            "features.0.1.running_mean\n",
            "features.0.1.running_var\n",
            "features.0.1.num_batches_tracked\n",
            "features.1.block.0.0.weight\n",
            "features.1.block.0.1.weight\n",
            "features.1.block.0.1.bias\n",
            "features.1.block.0.1.running_mean\n",
            "features.1.block.0.1.running_var\n",
            "features.1.block.0.1.num_batches_tracked\n",
            "features.1.block.1.fc1.weight\n",
            "features.1.block.1.fc1.bias\n",
            "features.1.block.1.fc2.weight\n",
            "features.1.block.1.fc2.bias\n",
            "features.1.block.2.0.weight\n",
            "features.1.block.2.1.weight\n",
            "features.1.block.2.1.bias\n",
            "features.1.block.2.1.running_mean\n",
            "features.1.block.2.1.running_var\n",
            "features.1.block.2.1.num_batches_tracked\n",
            "features.2.block.0.0.weight\n",
            "features.2.block.0.1.weight\n",
            "features.2.block.0.1.bias\n",
            "features.2.block.0.1.running_mean\n",
            "features.2.block.0.1.running_var\n",
            "features.2.block.0.1.num_batches_tracked\n",
            "features.2.block.1.0.weight\n",
            "features.2.block.1.1.weight\n",
            "features.2.block.1.1.bias\n",
            "features.2.block.1.1.running_mean\n",
            "features.2.block.1.1.running_var\n",
            "features.2.block.1.1.num_batches_tracked\n",
            "features.2.block.2.0.weight\n",
            "features.2.block.2.1.weight\n",
            "features.2.block.2.1.bias\n",
            "features.2.block.2.1.running_mean\n",
            "features.2.block.2.1.running_var\n",
            "features.2.block.2.1.num_batches_tracked\n",
            "features.3.block.0.0.weight\n",
            "features.3.block.0.1.weight\n",
            "features.3.block.0.1.bias\n",
            "features.3.block.0.1.running_mean\n",
            "features.3.block.0.1.running_var\n",
            "features.3.block.0.1.num_batches_tracked\n",
            "features.3.block.1.0.weight\n",
            "features.3.block.1.1.weight\n",
            "features.3.block.1.1.bias\n",
            "features.3.block.1.1.running_mean\n",
            "features.3.block.1.1.running_var\n",
            "features.3.block.1.1.num_batches_tracked\n",
            "features.3.block.2.0.weight\n",
            "features.3.block.2.1.weight\n",
            "features.3.block.2.1.bias\n",
            "features.3.block.2.1.running_mean\n",
            "features.3.block.2.1.running_var\n",
            "features.3.block.2.1.num_batches_tracked\n",
            "features.4.block.0.0.weight\n",
            "features.4.block.0.1.weight\n",
            "features.4.block.0.1.bias\n",
            "features.4.block.0.1.running_mean\n",
            "features.4.block.0.1.running_var\n",
            "features.4.block.0.1.num_batches_tracked\n",
            "features.4.block.1.0.weight\n",
            "features.4.block.1.1.weight\n",
            "features.4.block.1.1.bias\n",
            "features.4.block.1.1.running_mean\n",
            "features.4.block.1.1.running_var\n",
            "features.4.block.1.1.num_batches_tracked\n",
            "features.4.block.2.fc1.weight\n",
            "features.4.block.2.fc1.bias\n",
            "features.4.block.2.fc2.weight\n",
            "features.4.block.2.fc2.bias\n",
            "features.4.block.3.0.weight\n",
            "features.4.block.3.1.weight\n",
            "features.4.block.3.1.bias\n",
            "features.4.block.3.1.running_mean\n",
            "features.4.block.3.1.running_var\n",
            "features.4.block.3.1.num_batches_tracked\n",
            "features.5.block.0.0.weight\n",
            "features.5.block.0.1.weight\n",
            "features.5.block.0.1.bias\n",
            "features.5.block.0.1.running_mean\n",
            "features.5.block.0.1.running_var\n",
            "features.5.block.0.1.num_batches_tracked\n",
            "features.5.block.1.0.weight\n",
            "features.5.block.1.1.weight\n",
            "features.5.block.1.1.bias\n",
            "features.5.block.1.1.running_mean\n",
            "features.5.block.1.1.running_var\n",
            "features.5.block.1.1.num_batches_tracked\n",
            "features.5.block.2.fc1.weight\n",
            "features.5.block.2.fc1.bias\n",
            "features.5.block.2.fc2.weight\n",
            "features.5.block.2.fc2.bias\n",
            "features.5.block.3.0.weight\n",
            "features.5.block.3.1.weight\n",
            "features.5.block.3.1.bias\n",
            "features.5.block.3.1.running_mean\n",
            "features.5.block.3.1.running_var\n",
            "features.5.block.3.1.num_batches_tracked\n",
            "features.6.block.0.0.weight\n",
            "features.6.block.0.1.weight\n",
            "features.6.block.0.1.bias\n",
            "features.6.block.0.1.running_mean\n",
            "features.6.block.0.1.running_var\n",
            "features.6.block.0.1.num_batches_tracked\n",
            "features.6.block.1.0.weight\n",
            "features.6.block.1.1.weight\n",
            "features.6.block.1.1.bias\n",
            "features.6.block.1.1.running_mean\n",
            "features.6.block.1.1.running_var\n",
            "features.6.block.1.1.num_batches_tracked\n",
            "features.6.block.2.fc1.weight\n",
            "features.6.block.2.fc1.bias\n",
            "features.6.block.2.fc2.weight\n",
            "features.6.block.2.fc2.bias\n",
            "features.6.block.3.0.weight\n",
            "features.6.block.3.1.weight\n",
            "features.6.block.3.1.bias\n",
            "features.6.block.3.1.running_mean\n",
            "features.6.block.3.1.running_var\n",
            "features.6.block.3.1.num_batches_tracked\n",
            "features.7.block.0.0.weight\n",
            "features.7.block.0.1.weight\n",
            "features.7.block.0.1.bias\n",
            "features.7.block.0.1.running_mean\n",
            "features.7.block.0.1.running_var\n",
            "features.7.block.0.1.num_batches_tracked\n",
            "features.7.block.1.0.weight\n",
            "features.7.block.1.1.weight\n",
            "features.7.block.1.1.bias\n",
            "features.7.block.1.1.running_mean\n",
            "features.7.block.1.1.running_var\n",
            "features.7.block.1.1.num_batches_tracked\n",
            "features.7.block.2.fc1.weight\n",
            "features.7.block.2.fc1.bias\n",
            "features.7.block.2.fc2.weight\n",
            "features.7.block.2.fc2.bias\n",
            "features.7.block.3.0.weight\n",
            "features.7.block.3.1.weight\n",
            "features.7.block.3.1.bias\n",
            "features.7.block.3.1.running_mean\n",
            "features.7.block.3.1.running_var\n",
            "features.7.block.3.1.num_batches_tracked\n",
            "features.8.block.0.0.weight\n",
            "features.8.block.0.1.weight\n",
            "features.8.block.0.1.bias\n",
            "features.8.block.0.1.running_mean\n",
            "features.8.block.0.1.running_var\n",
            "features.8.block.0.1.num_batches_tracked\n",
            "features.8.block.1.0.weight\n",
            "features.8.block.1.1.weight\n",
            "features.8.block.1.1.bias\n",
            "features.8.block.1.1.running_mean\n",
            "features.8.block.1.1.running_var\n",
            "features.8.block.1.1.num_batches_tracked\n",
            "features.8.block.2.fc1.weight\n",
            "features.8.block.2.fc1.bias\n",
            "features.8.block.2.fc2.weight\n",
            "features.8.block.2.fc2.bias\n",
            "features.8.block.3.0.weight\n",
            "features.8.block.3.1.weight\n",
            "features.8.block.3.1.bias\n",
            "features.8.block.3.1.running_mean\n",
            "features.8.block.3.1.running_var\n",
            "features.8.block.3.1.num_batches_tracked\n",
            "features.9.block.0.0.weight\n",
            "features.9.block.0.1.weight\n",
            "features.9.block.0.1.bias\n",
            "features.9.block.0.1.running_mean\n",
            "features.9.block.0.1.running_var\n",
            "features.9.block.0.1.num_batches_tracked\n",
            "features.9.block.1.0.weight\n",
            "features.9.block.1.1.weight\n",
            "features.9.block.1.1.bias\n",
            "features.9.block.1.1.running_mean\n",
            "features.9.block.1.1.running_var\n",
            "features.9.block.1.1.num_batches_tracked\n",
            "features.9.block.2.fc1.weight\n",
            "features.9.block.2.fc1.bias\n",
            "features.9.block.2.fc2.weight\n",
            "features.9.block.2.fc2.bias\n",
            "features.9.block.3.0.weight\n",
            "features.9.block.3.1.weight\n",
            "features.9.block.3.1.bias\n",
            "features.9.block.3.1.running_mean\n",
            "features.9.block.3.1.running_var\n",
            "features.9.block.3.1.num_batches_tracked\n",
            "features.10.block.0.0.weight\n",
            "features.10.block.0.1.weight\n",
            "features.10.block.0.1.bias\n",
            "features.10.block.0.1.running_mean\n",
            "features.10.block.0.1.running_var\n",
            "features.10.block.0.1.num_batches_tracked\n",
            "features.10.block.1.0.weight\n",
            "features.10.block.1.1.weight\n",
            "features.10.block.1.1.bias\n",
            "features.10.block.1.1.running_mean\n",
            "features.10.block.1.1.running_var\n",
            "features.10.block.1.1.num_batches_tracked\n",
            "features.10.block.2.fc1.weight\n",
            "features.10.block.2.fc1.bias\n",
            "features.10.block.2.fc2.weight\n",
            "features.10.block.2.fc2.bias\n",
            "features.10.block.3.0.weight\n",
            "features.10.block.3.1.weight\n",
            "features.10.block.3.1.bias\n",
            "features.10.block.3.1.running_mean\n",
            "features.10.block.3.1.running_var\n",
            "features.10.block.3.1.num_batches_tracked\n",
            "features.11.block.0.0.weight\n",
            "features.11.block.0.1.weight\n",
            "features.11.block.0.1.bias\n",
            "features.11.block.0.1.running_mean\n",
            "features.11.block.0.1.running_var\n",
            "features.11.block.0.1.num_batches_tracked\n",
            "features.11.block.1.0.weight\n",
            "features.11.block.1.1.weight\n",
            "features.11.block.1.1.bias\n",
            "features.11.block.1.1.running_mean\n",
            "features.11.block.1.1.running_var\n",
            "features.11.block.1.1.num_batches_tracked\n",
            "features.11.block.2.fc1.weight\n",
            "features.11.block.2.fc1.bias\n",
            "features.11.block.2.fc2.weight\n",
            "features.11.block.2.fc2.bias\n",
            "features.11.block.3.0.weight\n",
            "features.11.block.3.1.weight\n",
            "features.11.block.3.1.bias\n",
            "features.11.block.3.1.running_mean\n",
            "features.11.block.3.1.running_var\n",
            "features.11.block.3.1.num_batches_tracked\n",
            "features.12.0.weight\n",
            "features.12.1.weight\n",
            "features.12.1.bias\n",
            "features.12.1.running_mean\n",
            "features.12.1.running_var\n",
            "features.12.1.num_batches_tracked\n",
            "classifier.0.weight\n",
            "classifier.0.bias\n",
            "classifier.3.weight\n",
            "classifier.3.bias\n"
          ]
        }
      ]
    },
    {
      "cell_type": "code",
      "source": [
        "model_mobilenet_v3_small, loss_mobilenet_v3_small, optim_mobilenet_v3_small = selective_finetuning_single_layer(models.mobilenet_v3_small, 'classifier')\n",
        "model_mobilenet_v3_small ,mobilenet_v3_small_train ,mobilenet_v3_small_test, mobilenet_v3_small_pred, mobilenet_v3_small_true = model(train,test,5,model_mobilenet_v3_small, loss_mobilenet_v3_small, optim_mobilenet_v3_small)"
      ],
      "metadata": {
        "colab": {
          "base_uri": "https://localhost:8080/"
        },
        "id": "4oxZjH8c8lJR",
        "outputId": "0b561509-7083-4ed3-e874-99e363287021"
      },
      "execution_count": 127,
      "outputs": [
        {
          "output_type": "stream",
          "name": "stderr",
          "text": [
            "100%|██████████| 7/7 [02:13<00:00, 19.08s/it]\n",
            "100%|██████████| 7/7 [02:15<00:00, 19.42s/it]\n",
            "100%|██████████| 7/7 [02:03<00:00, 17.68s/it]\n",
            "100%|██████████| 7/7 [02:02<00:00, 17.51s/it]\n",
            "100%|██████████| 7/7 [01:58<00:00, 16.93s/it]\n"
          ]
        }
      ]
    },
    {
      "cell_type": "code",
      "source": [
        "cf_matrix_mobilenet=confusion_matrix(mobilenet_v3_small_true,mobilenet_v3_small_pred)\n",
        "cf_matrix_mobilenet"
      ],
      "metadata": {
        "colab": {
          "base_uri": "https://localhost:8080/"
        },
        "id": "r86TDYKD_AE9",
        "outputId": "2ddbf6f8-652a-4a9d-d42e-9cfc095f4b2b"
      },
      "execution_count": 128,
      "outputs": [
        {
          "output_type": "execute_result",
          "data": {
            "text/plain": [
              "array([[14,  5,  6,  1,  1],\n",
              "       [ 3,  6,  5,  2,  0],\n",
              "       [ 1,  5,  7,  2,  1],\n",
              "       [ 2,  3,  1,  8,  1],\n",
              "       [ 1,  5,  3, 12,  3]])"
            ]
          },
          "metadata": {},
          "execution_count": 128
        }
      ]
    },
    {
      "cell_type": "code",
      "source": [
        "plt.figure(figsize=(9,9))\n",
        "sns.heatmap(cf_matrix_mobilenet, cbar=False, fmt='d', annot=True, cmap='Blues')\n",
        "plt.xlabel('Predicted')\n",
        "plt.ylabel('Actual')\n",
        "plt.title('Confusion matrix of the CNN Classifier')\n",
        "plt.show()"
      ],
      "metadata": {
        "colab": {
          "base_uri": "https://localhost:8080/",
          "height": 567
        },
        "id": "tiSynbvB_Rox",
        "outputId": "f008e821-2d9e-4838-a038-214349a3728b"
      },
      "execution_count": 129,
      "outputs": [
        {
          "output_type": "display_data",
          "data": {
            "text/plain": [
              "<Figure size 648x648 with 1 Axes>"
            ],
            "image/png": "[encoded data removed]"
          },
          "metadata": {
            "needs_background": "light"
          }
        }
      ]
    },
    {
      "cell_type": "markdown",
      "source": [
        "# Densenet-121 Training and Inference"
      ],
      "metadata": {
        "id": "W6tpuZYsbRMC"
      }
    },
    {
      "cell_type": "code",
      "source": [
        "bifurcation(models.densenet121)"
      ],
      "metadata": {
        "colab": {
          "base_uri": "https://localhost:8080/"
        },
        "id": "8DVlg5Sk8fhr",
        "outputId": "0f9c481b-fcab-4ff4-cf79-776434ef46a7"
      },
      "execution_count": 130,
      "outputs": [
        {
          "output_type": "stream",
          "name": "stdout",
          "text": [
            "features.conv0.weight\n",
            "features.norm0.weight\n",
            "features.norm0.bias\n",
            "features.norm0.running_mean\n",
            "features.norm0.running_var\n",
            "features.norm0.num_batches_tracked\n",
            "features.denseblock1.denselayer1.norm1.weight\n",
            "features.denseblock1.denselayer1.norm1.bias\n",
            "features.denseblock1.denselayer1.norm1.running_mean\n",
            "features.denseblock1.denselayer1.norm1.running_var\n",
            "features.denseblock1.denselayer1.norm1.num_batches_tracked\n",
            "features.denseblock1.denselayer1.conv1.weight\n",
            "features.denseblock1.denselayer1.norm2.weight\n",
            "features.denseblock1.denselayer1.norm2.bias\n",
            "features.denseblock1.denselayer1.norm2.running_mean\n",
            "features.denseblock1.denselayer1.norm2.running_var\n",
            "features.denseblock1.denselayer1.norm2.num_batches_tracked\n",
            "features.denseblock1.denselayer1.conv2.weight\n",
            "features.denseblock1.denselayer2.norm1.weight\n",
            "features.denseblock1.denselayer2.norm1.bias\n",
            "features.denseblock1.denselayer2.norm1.running_mean\n",
            "features.denseblock1.denselayer2.norm1.running_var\n",
            "features.denseblock1.denselayer2.norm1.num_batches_tracked\n",
            "features.denseblock1.denselayer2.conv1.weight\n",
            "features.denseblock1.denselayer2.norm2.weight\n",
            "features.denseblock1.denselayer2.norm2.bias\n",
            "features.denseblock1.denselayer2.norm2.running_mean\n",
            "features.denseblock1.denselayer2.norm2.running_var\n",
            "features.denseblock1.denselayer2.norm2.num_batches_tracked\n",
            "features.denseblock1.denselayer2.conv2.weight\n",
            "features.denseblock1.denselayer3.norm1.weight\n",
            "features.denseblock1.denselayer3.norm1.bias\n",
            "features.denseblock1.denselayer3.norm1.running_mean\n",
            "features.denseblock1.denselayer3.norm1.running_var\n",
            "features.denseblock1.denselayer3.norm1.num_batches_tracked\n",
            "features.denseblock1.denselayer3.conv1.weight\n",
            "features.denseblock1.denselayer3.norm2.weight\n",
            "features.denseblock1.denselayer3.norm2.bias\n",
            "features.denseblock1.denselayer3.norm2.running_mean\n",
            "features.denseblock1.denselayer3.norm2.running_var\n",
            "features.denseblock1.denselayer3.norm2.num_batches_tracked\n",
            "features.denseblock1.denselayer3.conv2.weight\n",
            "features.denseblock1.denselayer4.norm1.weight\n",
            "features.denseblock1.denselayer4.norm1.bias\n",
            "features.denseblock1.denselayer4.norm1.running_mean\n",
            "features.denseblock1.denselayer4.norm1.running_var\n",
            "features.denseblock1.denselayer4.norm1.num_batches_tracked\n",
            "features.denseblock1.denselayer4.conv1.weight\n",
            "features.denseblock1.denselayer4.norm2.weight\n",
            "features.denseblock1.denselayer4.norm2.bias\n",
            "features.denseblock1.denselayer4.norm2.running_mean\n",
            "features.denseblock1.denselayer4.norm2.running_var\n",
            "features.denseblock1.denselayer4.norm2.num_batches_tracked\n",
            "features.denseblock1.denselayer4.conv2.weight\n",
            "features.denseblock1.denselayer5.norm1.weight\n",
            "features.denseblock1.denselayer5.norm1.bias\n",
            "features.denseblock1.denselayer5.norm1.running_mean\n",
            "features.denseblock1.denselayer5.norm1.running_var\n",
            "features.denseblock1.denselayer5.norm1.num_batches_tracked\n",
            "features.denseblock1.denselayer5.conv1.weight\n",
            "features.denseblock1.denselayer5.norm2.weight\n",
            "features.denseblock1.denselayer5.norm2.bias\n",
            "features.denseblock1.denselayer5.norm2.running_mean\n",
            "features.denseblock1.denselayer5.norm2.running_var\n",
            "features.denseblock1.denselayer5.norm2.num_batches_tracked\n",
            "features.denseblock1.denselayer5.conv2.weight\n",
            "features.denseblock1.denselayer6.norm1.weight\n",
            "features.denseblock1.denselayer6.norm1.bias\n",
            "features.denseblock1.denselayer6.norm1.running_mean\n",
            "features.denseblock1.denselayer6.norm1.running_var\n",
            "features.denseblock1.denselayer6.norm1.num_batches_tracked\n",
            "features.denseblock1.denselayer6.conv1.weight\n",
            "features.denseblock1.denselayer6.norm2.weight\n",
            "features.denseblock1.denselayer6.norm2.bias\n",
            "features.denseblock1.denselayer6.norm2.running_mean\n",
            "features.denseblock1.denselayer6.norm2.running_var\n",
            "features.denseblock1.denselayer6.norm2.num_batches_tracked\n",
            "features.denseblock1.denselayer6.conv2.weight\n",
            "features.transition1.norm.weight\n",
            "features.transition1.norm.bias\n",
            "features.transition1.norm.running_mean\n",
            "features.transition1.norm.running_var\n",
            "features.transition1.norm.num_batches_tracked\n",
            "features.transition1.conv.weight\n",
            "features.denseblock2.denselayer1.norm1.weight\n",
            "features.denseblock2.denselayer1.norm1.bias\n",
            "features.denseblock2.denselayer1.norm1.running_mean\n",
            "features.denseblock2.denselayer1.norm1.running_var\n",
            "features.denseblock2.denselayer1.norm1.num_batches_tracked\n",
            "features.denseblock2.denselayer1.conv1.weight\n",
            "features.denseblock2.denselayer1.norm2.weight\n",
            "features.denseblock2.denselayer1.norm2.bias\n",
            "features.denseblock2.denselayer1.norm2.running_mean\n",
            "features.denseblock2.denselayer1.norm2.running_var\n",
            "features.denseblock2.denselayer1.norm2.num_batches_tracked\n",
            "features.denseblock2.denselayer1.conv2.weight\n",
            "features.denseblock2.denselayer2.norm1.weight\n",
            "features.denseblock2.denselayer2.norm1.bias\n",
            "features.denseblock2.denselayer2.norm1.running_mean\n",
            "features.denseblock2.denselayer2.norm1.running_var\n",
            "features.denseblock2.denselayer2.norm1.num_batches_tracked\n",
            "features.denseblock2.denselayer2.conv1.weight\n",
            "features.denseblock2.denselayer2.norm2.weight\n",
            "features.denseblock2.denselayer2.norm2.bias\n",
            "features.denseblock2.denselayer2.norm2.running_mean\n",
            "features.denseblock2.denselayer2.norm2.running_var\n",
            "features.denseblock2.denselayer2.norm2.num_batches_tracked\n",
            "features.denseblock2.denselayer2.conv2.weight\n",
            "features.denseblock2.denselayer3.norm1.weight\n",
            "features.denseblock2.denselayer3.norm1.bias\n",
            "features.denseblock2.denselayer3.norm1.running_mean\n",
            "features.denseblock2.denselayer3.norm1.running_var\n",
            "features.denseblock2.denselayer3.norm1.num_batches_tracked\n",
            "features.denseblock2.denselayer3.conv1.weight\n",
            "features.denseblock2.denselayer3.norm2.weight\n",
            "features.denseblock2.denselayer3.norm2.bias\n",
            "features.denseblock2.denselayer3.norm2.running_mean\n",
            "features.denseblock2.denselayer3.norm2.running_var\n",
            "features.denseblock2.denselayer3.norm2.num_batches_tracked\n",
            "features.denseblock2.denselayer3.conv2.weight\n",
            "features.denseblock2.denselayer4.norm1.weight\n",
            "features.denseblock2.denselayer4.norm1.bias\n",
            "features.denseblock2.denselayer4.norm1.running_mean\n",
            "features.denseblock2.denselayer4.norm1.running_var\n",
            "features.denseblock2.denselayer4.norm1.num_batches_tracked\n",
            "features.denseblock2.denselayer4.conv1.weight\n",
            "features.denseblock2.denselayer4.norm2.weight\n",
            "features.denseblock2.denselayer4.norm2.bias\n",
            "features.denseblock2.denselayer4.norm2.running_mean\n",
            "features.denseblock2.denselayer4.norm2.running_var\n",
            "features.denseblock2.denselayer4.norm2.num_batches_tracked\n",
            "features.denseblock2.denselayer4.conv2.weight\n",
            "features.denseblock2.denselayer5.norm1.weight\n",
            "features.denseblock2.denselayer5.norm1.bias\n",
            "features.denseblock2.denselayer5.norm1.running_mean\n",
            "features.denseblock2.denselayer5.norm1.running_var\n",
            "features.denseblock2.denselayer5.norm1.num_batches_tracked\n",
            "features.denseblock2.denselayer5.conv1.weight\n",
            "features.denseblock2.denselayer5.norm2.weight\n",
            "features.denseblock2.denselayer5.norm2.bias\n",
            "features.denseblock2.denselayer5.norm2.running_mean\n",
            "features.denseblock2.denselayer5.norm2.running_var\n",
            "features.denseblock2.denselayer5.norm2.num_batches_tracked\n",
            "features.denseblock2.denselayer5.conv2.weight\n",
            "features.denseblock2.denselayer6.norm1.weight\n",
            "features.denseblock2.denselayer6.norm1.bias\n",
            "features.denseblock2.denselayer6.norm1.running_mean\n",
            "features.denseblock2.denselayer6.norm1.running_var\n",
            "features.denseblock2.denselayer6.norm1.num_batches_tracked\n",
            "features.denseblock2.denselayer6.conv1.weight\n",
            "features.denseblock2.denselayer6.norm2.weight\n",
            "features.denseblock2.denselayer6.norm2.bias\n",
            "features.denseblock2.denselayer6.norm2.running_mean\n",
            "features.denseblock2.denselayer6.norm2.running_var\n",
            "features.denseblock2.denselayer6.norm2.num_batches_tracked\n",
            "features.denseblock2.denselayer6.conv2.weight\n",
            "features.denseblock2.denselayer7.norm1.weight\n",
            "features.denseblock2.denselayer7.norm1.bias\n",
            "features.denseblock2.denselayer7.norm1.running_mean\n",
            "features.denseblock2.denselayer7.norm1.running_var\n",
            "features.denseblock2.denselayer7.norm1.num_batches_tracked\n",
            "features.denseblock2.denselayer7.conv1.weight\n",
            "features.denseblock2.denselayer7.norm2.weight\n",
            "features.denseblock2.denselayer7.norm2.bias\n",
            "features.denseblock2.denselayer7.norm2.running_mean\n",
            "features.denseblock2.denselayer7.norm2.running_var\n",
            "features.denseblock2.denselayer7.norm2.num_batches_tracked\n",
            "features.denseblock2.denselayer7.conv2.weight\n",
            "features.denseblock2.denselayer8.norm1.weight\n",
            "features.denseblock2.denselayer8.norm1.bias\n",
            "features.denseblock2.denselayer8.norm1.running_mean\n",
            "features.denseblock2.denselayer8.norm1.running_var\n",
            "features.denseblock2.denselayer8.norm1.num_batches_tracked\n",
            "features.denseblock2.denselayer8.conv1.weight\n",
            "features.denseblock2.denselayer8.norm2.weight\n",
            "features.denseblock2.denselayer8.norm2.bias\n",
            "features.denseblock2.denselayer8.norm2.running_mean\n",
            "features.denseblock2.denselayer8.norm2.running_var\n",
            "features.denseblock2.denselayer8.norm2.num_batches_tracked\n",
            "features.denseblock2.denselayer8.conv2.weight\n",
            "features.denseblock2.denselayer9.norm1.weight\n",
            "features.denseblock2.denselayer9.norm1.bias\n",
            "features.denseblock2.denselayer9.norm1.running_mean\n",
            "features.denseblock2.denselayer9.norm1.running_var\n",
            "features.denseblock2.denselayer9.norm1.num_batches_tracked\n",
            "features.denseblock2.denselayer9.conv1.weight\n",
            "features.denseblock2.denselayer9.norm2.weight\n",
            "features.denseblock2.denselayer9.norm2.bias\n",
            "features.denseblock2.denselayer9.norm2.running_mean\n",
            "features.denseblock2.denselayer9.norm2.running_var\n",
            "features.denseblock2.denselayer9.norm2.num_batches_tracked\n",
            "features.denseblock2.denselayer9.conv2.weight\n",
            "features.denseblock2.denselayer10.norm1.weight\n",
            "features.denseblock2.denselayer10.norm1.bias\n",
            "features.denseblock2.denselayer10.norm1.running_mean\n",
            "features.denseblock2.denselayer10.norm1.running_var\n",
            "features.denseblock2.denselayer10.norm1.num_batches_tracked\n",
            "features.denseblock2.denselayer10.conv1.weight\n",
            "features.denseblock2.denselayer10.norm2.weight\n",
            "features.denseblock2.denselayer10.norm2.bias\n",
            "features.denseblock2.denselayer10.norm2.running_mean\n",
            "features.denseblock2.denselayer10.norm2.running_var\n",
            "features.denseblock2.denselayer10.norm2.num_batches_tracked\n",
            "features.denseblock2.denselayer10.conv2.weight\n",
            "features.denseblock2.denselayer11.norm1.weight\n",
            "features.denseblock2.denselayer11.norm1.bias\n",
            "features.denseblock2.denselayer11.norm1.running_mean\n",
            "features.denseblock2.denselayer11.norm1.running_var\n",
            "features.denseblock2.denselayer11.norm1.num_batches_tracked\n",
            "features.denseblock2.denselayer11.conv1.weight\n",
            "features.denseblock2.denselayer11.norm2.weight\n",
            "features.denseblock2.denselayer11.norm2.bias\n",
            "features.denseblock2.denselayer11.norm2.running_mean\n",
            "features.denseblock2.denselayer11.norm2.running_var\n",
            "features.denseblock2.denselayer11.norm2.num_batches_tracked\n",
            "features.denseblock2.denselayer11.conv2.weight\n",
            "features.denseblock2.denselayer12.norm1.weight\n",
            "features.denseblock2.denselayer12.norm1.bias\n",
            "features.denseblock2.denselayer12.norm1.running_mean\n",
            "features.denseblock2.denselayer12.norm1.running_var\n",
            "features.denseblock2.denselayer12.norm1.num_batches_tracked\n",
            "features.denseblock2.denselayer12.conv1.weight\n",
            "features.denseblock2.denselayer12.norm2.weight\n",
            "features.denseblock2.denselayer12.norm2.bias\n",
            "features.denseblock2.denselayer12.norm2.running_mean\n",
            "features.denseblock2.denselayer12.norm2.running_var\n",
            "features.denseblock2.denselayer12.norm2.num_batches_tracked\n",
            "features.denseblock2.denselayer12.conv2.weight\n",
            "features.transition2.norm.weight\n",
            "features.transition2.norm.bias\n",
            "features.transition2.norm.running_mean\n",
            "features.transition2.norm.running_var\n",
            "features.transition2.norm.num_batches_tracked\n",
            "features.transition2.conv.weight\n",
            "features.denseblock3.denselayer1.norm1.weight\n",
            "features.denseblock3.denselayer1.norm1.bias\n",
            "features.denseblock3.denselayer1.norm1.running_mean\n",
            "features.denseblock3.denselayer1.norm1.running_var\n",
            "features.denseblock3.denselayer1.norm1.num_batches_tracked\n",
            "features.denseblock3.denselayer1.conv1.weight\n",
            "features.denseblock3.denselayer1.norm2.weight\n",
            "features.denseblock3.denselayer1.norm2.bias\n",
            "features.denseblock3.denselayer1.norm2.running_mean\n",
            "features.denseblock3.denselayer1.norm2.running_var\n",
            "features.denseblock3.denselayer1.norm2.num_batches_tracked\n",
            "features.denseblock3.denselayer1.conv2.weight\n",
            "features.denseblock3.denselayer2.norm1.weight\n",
            "features.denseblock3.denselayer2.norm1.bias\n",
            "features.denseblock3.denselayer2.norm1.running_mean\n",
            "features.denseblock3.denselayer2.norm1.running_var\n",
            "features.denseblock3.denselayer2.norm1.num_batches_tracked\n",
            "features.denseblock3.denselayer2.conv1.weight\n",
            "features.denseblock3.denselayer2.norm2.weight\n",
            "features.denseblock3.denselayer2.norm2.bias\n",
            "features.denseblock3.denselayer2.norm2.running_mean\n",
            "features.denseblock3.denselayer2.norm2.running_var\n",
            "features.denseblock3.denselayer2.norm2.num_batches_tracked\n",
            "features.denseblock3.denselayer2.conv2.weight\n",
            "features.denseblock3.denselayer3.norm1.weight\n",
            "features.denseblock3.denselayer3.norm1.bias\n",
            "features.denseblock3.denselayer3.norm1.running_mean\n",
            "features.denseblock3.denselayer3.norm1.running_var\n",
            "features.denseblock3.denselayer3.norm1.num_batches_tracked\n",
            "features.denseblock3.denselayer3.conv1.weight\n",
            "features.denseblock3.denselayer3.norm2.weight\n",
            "features.denseblock3.denselayer3.norm2.bias\n",
            "features.denseblock3.denselayer3.norm2.running_mean\n",
            "features.denseblock3.denselayer3.norm2.running_var\n",
            "features.denseblock3.denselayer3.norm2.num_batches_tracked\n",
            "features.denseblock3.denselayer3.conv2.weight\n",
            "features.denseblock3.denselayer4.norm1.weight\n",
            "features.denseblock3.denselayer4.norm1.bias\n",
            "features.denseblock3.denselayer4.norm1.running_mean\n",
            "features.denseblock3.denselayer4.norm1.running_var\n",
            "features.denseblock3.denselayer4.norm1.num_batches_tracked\n",
            "features.denseblock3.denselayer4.conv1.weight\n",
            "features.denseblock3.denselayer4.norm2.weight\n",
            "features.denseblock3.denselayer4.norm2.bias\n",
            "features.denseblock3.denselayer4.norm2.running_mean\n",
            "features.denseblock3.denselayer4.norm2.running_var\n",
            "features.denseblock3.denselayer4.norm2.num_batches_tracked\n",
            "features.denseblock3.denselayer4.conv2.weight\n",
            "features.denseblock3.denselayer5.norm1.weight\n",
            "features.denseblock3.denselayer5.norm1.bias\n",
            "features.denseblock3.denselayer5.norm1.running_mean\n",
            "features.denseblock3.denselayer5.norm1.running_var\n",
            "features.denseblock3.denselayer5.norm1.num_batches_tracked\n",
            "features.denseblock3.denselayer5.conv1.weight\n",
            "features.denseblock3.denselayer5.norm2.weight\n",
            "features.denseblock3.denselayer5.norm2.bias\n",
            "features.denseblock3.denselayer5.norm2.running_mean\n",
            "features.denseblock3.denselayer5.norm2.running_var\n",
            "features.denseblock3.denselayer5.norm2.num_batches_tracked\n",
            "features.denseblock3.denselayer5.conv2.weight\n",
            "features.denseblock3.denselayer6.norm1.weight\n",
            "features.denseblock3.denselayer6.norm1.bias\n",
            "features.denseblock3.denselayer6.norm1.running_mean\n",
            "features.denseblock3.denselayer6.norm1.running_var\n",
            "features.denseblock3.denselayer6.norm1.num_batches_tracked\n",
            "features.denseblock3.denselayer6.conv1.weight\n",
            "features.denseblock3.denselayer6.norm2.weight\n",
            "features.denseblock3.denselayer6.norm2.bias\n",
            "features.denseblock3.denselayer6.norm2.running_mean\n",
            "features.denseblock3.denselayer6.norm2.running_var\n",
            "features.denseblock3.denselayer6.norm2.num_batches_tracked\n",
            "features.denseblock3.denselayer6.conv2.weight\n",
            "features.denseblock3.denselayer7.norm1.weight\n",
            "features.denseblock3.denselayer7.norm1.bias\n",
            "features.denseblock3.denselayer7.norm1.running_mean\n",
            "features.denseblock3.denselayer7.norm1.running_var\n",
            "features.denseblock3.denselayer7.norm1.num_batches_tracked\n",
            "features.denseblock3.denselayer7.conv1.weight\n",
            "features.denseblock3.denselayer7.norm2.weight\n",
            "features.denseblock3.denselayer7.norm2.bias\n",
            "features.denseblock3.denselayer7.norm2.running_mean\n",
            "features.denseblock3.denselayer7.norm2.running_var\n",
            "features.denseblock3.denselayer7.norm2.num_batches_tracked\n",
            "features.denseblock3.denselayer7.conv2.weight\n",
            "features.denseblock3.denselayer8.norm1.weight\n",
            "features.denseblock3.denselayer8.norm1.bias\n",
            "features.denseblock3.denselayer8.norm1.running_mean\n",
            "features.denseblock3.denselayer8.norm1.running_var\n",
            "features.denseblock3.denselayer8.norm1.num_batches_tracked\n",
            "features.denseblock3.denselayer8.conv1.weight\n",
            "features.denseblock3.denselayer8.norm2.weight\n",
            "features.denseblock3.denselayer8.norm2.bias\n",
            "features.denseblock3.denselayer8.norm2.running_mean\n",
            "features.denseblock3.denselayer8.norm2.running_var\n",
            "features.denseblock3.denselayer8.norm2.num_batches_tracked\n",
            "features.denseblock3.denselayer8.conv2.weight\n",
            "features.denseblock3.denselayer9.norm1.weight\n",
            "features.denseblock3.denselayer9.norm1.bias\n",
            "features.denseblock3.denselayer9.norm1.running_mean\n",
            "features.denseblock3.denselayer9.norm1.running_var\n",
            "features.denseblock3.denselayer9.norm1.num_batches_tracked\n",
            "features.denseblock3.denselayer9.conv1.weight\n",
            "features.denseblock3.denselayer9.norm2.weight\n",
            "features.denseblock3.denselayer9.norm2.bias\n",
            "features.denseblock3.denselayer9.norm2.running_mean\n",
            "features.denseblock3.denselayer9.norm2.running_var\n",
            "features.denseblock3.denselayer9.norm2.num_batches_tracked\n",
            "features.denseblock3.denselayer9.conv2.weight\n",
            "features.denseblock3.denselayer10.norm1.weight\n",
            "features.denseblock3.denselayer10.norm1.bias\n",
            "features.denseblock3.denselayer10.norm1.running_mean\n",
            "features.denseblock3.denselayer10.norm1.running_var\n",
            "features.denseblock3.denselayer10.norm1.num_batches_tracked\n",
            "features.denseblock3.denselayer10.conv1.weight\n",
            "features.denseblock3.denselayer10.norm2.weight\n",
            "features.denseblock3.denselayer10.norm2.bias\n",
            "features.denseblock3.denselayer10.norm2.running_mean\n",
            "features.denseblock3.denselayer10.norm2.running_var\n",
            "features.denseblock3.denselayer10.norm2.num_batches_tracked\n",
            "features.denseblock3.denselayer10.conv2.weight\n",
            "features.denseblock3.denselayer11.norm1.weight\n",
            "features.denseblock3.denselayer11.norm1.bias\n",
            "features.denseblock3.denselayer11.norm1.running_mean\n",
            "features.denseblock3.denselayer11.norm1.running_var\n",
            "features.denseblock3.denselayer11.norm1.num_batches_tracked\n",
            "features.denseblock3.denselayer11.conv1.weight\n",
            "features.denseblock3.denselayer11.norm2.weight\n",
            "features.denseblock3.denselayer11.norm2.bias\n",
            "features.denseblock3.denselayer11.norm2.running_mean\n",
            "features.denseblock3.denselayer11.norm2.running_var\n",
            "features.denseblock3.denselayer11.norm2.num_batches_tracked\n",
            "features.denseblock3.denselayer11.conv2.weight\n",
            "features.denseblock3.denselayer12.norm1.weight\n",
            "features.denseblock3.denselayer12.norm1.bias\n",
            "features.denseblock3.denselayer12.norm1.running_mean\n",
            "features.denseblock3.denselayer12.norm1.running_var\n",
            "features.denseblock3.denselayer12.norm1.num_batches_tracked\n",
            "features.denseblock3.denselayer12.conv1.weight\n",
            "features.denseblock3.denselayer12.norm2.weight\n",
            "features.denseblock3.denselayer12.norm2.bias\n",
            "features.denseblock3.denselayer12.norm2.running_mean\n",
            "features.denseblock3.denselayer12.norm2.running_var\n",
            "features.denseblock3.denselayer12.norm2.num_batches_tracked\n",
            "features.denseblock3.denselayer12.conv2.weight\n",
            "features.denseblock3.denselayer13.norm1.weight\n",
            "features.denseblock3.denselayer13.norm1.bias\n",
            "features.denseblock3.denselayer13.norm1.running_mean\n",
            "features.denseblock3.denselayer13.norm1.running_var\n",
            "features.denseblock3.denselayer13.norm1.num_batches_tracked\n",
            "features.denseblock3.denselayer13.conv1.weight\n",
            "features.denseblock3.denselayer13.norm2.weight\n",
            "features.denseblock3.denselayer13.norm2.bias\n",
            "features.denseblock3.denselayer13.norm2.running_mean\n",
            "features.denseblock3.denselayer13.norm2.running_var\n",
            "features.denseblock3.denselayer13.norm2.num_batches_tracked\n",
            "features.denseblock3.denselayer13.conv2.weight\n",
            "features.denseblock3.denselayer14.norm1.weight\n",
            "features.denseblock3.denselayer14.norm1.bias\n",
            "features.denseblock3.denselayer14.norm1.running_mean\n",
            "features.denseblock3.denselayer14.norm1.running_var\n",
            "features.denseblock3.denselayer14.norm1.num_batches_tracked\n",
            "features.denseblock3.denselayer14.conv1.weight\n",
            "features.denseblock3.denselayer14.norm2.weight\n",
            "features.denseblock3.denselayer14.norm2.bias\n",
            "features.denseblock3.denselayer14.norm2.running_mean\n",
            "features.denseblock3.denselayer14.norm2.running_var\n",
            "features.denseblock3.denselayer14.norm2.num_batches_tracked\n",
            "features.denseblock3.denselayer14.conv2.weight\n",
            "features.denseblock3.denselayer15.norm1.weight\n",
            "features.denseblock3.denselayer15.norm1.bias\n",
            "features.denseblock3.denselayer15.norm1.running_mean\n",
            "features.denseblock3.denselayer15.norm1.running_var\n",
            "features.denseblock3.denselayer15.norm1.num_batches_tracked\n",
            "features.denseblock3.denselayer15.conv1.weight\n",
            "features.denseblock3.denselayer15.norm2.weight\n",
            "features.denseblock3.denselayer15.norm2.bias\n",
            "features.denseblock3.denselayer15.norm2.running_mean\n",
            "features.denseblock3.denselayer15.norm2.running_var\n",
            "features.denseblock3.denselayer15.norm2.num_batches_tracked\n",
            "features.denseblock3.denselayer15.conv2.weight\n",
            "features.denseblock3.denselayer16.norm1.weight\n",
            "features.denseblock3.denselayer16.norm1.bias\n",
            "features.denseblock3.denselayer16.norm1.running_mean\n",
            "features.denseblock3.denselayer16.norm1.running_var\n",
            "features.denseblock3.denselayer16.norm1.num_batches_tracked\n",
            "features.denseblock3.denselayer16.conv1.weight\n",
            "features.denseblock3.denselayer16.norm2.weight\n",
            "features.denseblock3.denselayer16.norm2.bias\n",
            "features.denseblock3.denselayer16.norm2.running_mean\n",
            "features.denseblock3.denselayer16.norm2.running_var\n",
            "features.denseblock3.denselayer16.norm2.num_batches_tracked\n",
            "features.denseblock3.denselayer16.conv2.weight\n",
            "features.denseblock3.denselayer17.norm1.weight\n",
            "features.denseblock3.denselayer17.norm1.bias\n",
            "features.denseblock3.denselayer17.norm1.running_mean\n",
            "features.denseblock3.denselayer17.norm1.running_var\n",
            "features.denseblock3.denselayer17.norm1.num_batches_tracked\n",
            "features.denseblock3.denselayer17.conv1.weight\n",
            "features.denseblock3.denselayer17.norm2.weight\n",
            "features.denseblock3.denselayer17.norm2.bias\n",
            "features.denseblock3.denselayer17.norm2.running_mean\n",
            "features.denseblock3.denselayer17.norm2.running_var\n",
            "features.denseblock3.denselayer17.norm2.num_batches_tracked\n",
            "features.denseblock3.denselayer17.conv2.weight\n",
            "features.denseblock3.denselayer18.norm1.weight\n",
            "features.denseblock3.denselayer18.norm1.bias\n",
            "features.denseblock3.denselayer18.norm1.running_mean\n",
            "features.denseblock3.denselayer18.norm1.running_var\n",
            "features.denseblock3.denselayer18.norm1.num_batches_tracked\n",
            "features.denseblock3.denselayer18.conv1.weight\n",
            "features.denseblock3.denselayer18.norm2.weight\n",
            "features.denseblock3.denselayer18.norm2.bias\n",
            "features.denseblock3.denselayer18.norm2.running_mean\n",
            "features.denseblock3.denselayer18.norm2.running_var\n",
            "features.denseblock3.denselayer18.norm2.num_batches_tracked\n",
            "features.denseblock3.denselayer18.conv2.weight\n",
            "features.denseblock3.denselayer19.norm1.weight\n",
            "features.denseblock3.denselayer19.norm1.bias\n",
            "features.denseblock3.denselayer19.norm1.running_mean\n",
            "features.denseblock3.denselayer19.norm1.running_var\n",
            "features.denseblock3.denselayer19.norm1.num_batches_tracked\n",
            "features.denseblock3.denselayer19.conv1.weight\n",
            "features.denseblock3.denselayer19.norm2.weight\n",
            "features.denseblock3.denselayer19.norm2.bias\n",
            "features.denseblock3.denselayer19.norm2.running_mean\n",
            "features.denseblock3.denselayer19.norm2.running_var\n",
            "features.denseblock3.denselayer19.norm2.num_batches_tracked\n",
            "features.denseblock3.denselayer19.conv2.weight\n",
            "features.denseblock3.denselayer20.norm1.weight\n",
            "features.denseblock3.denselayer20.norm1.bias\n",
            "features.denseblock3.denselayer20.norm1.running_mean\n",
            "features.denseblock3.denselayer20.norm1.running_var\n",
            "features.denseblock3.denselayer20.norm1.num_batches_tracked\n",
            "features.denseblock3.denselayer20.conv1.weight\n",
            "features.denseblock3.denselayer20.norm2.weight\n",
            "features.denseblock3.denselayer20.norm2.bias\n",
            "features.denseblock3.denselayer20.norm2.running_mean\n",
            "features.denseblock3.denselayer20.norm2.running_var\n",
            "features.denseblock3.denselayer20.norm2.num_batches_tracked\n",
            "features.denseblock3.denselayer20.conv2.weight\n",
            "features.denseblock3.denselayer21.norm1.weight\n",
            "features.denseblock3.denselayer21.norm1.bias\n",
            "features.denseblock3.denselayer21.norm1.running_mean\n",
            "features.denseblock3.denselayer21.norm1.running_var\n",
            "features.denseblock3.denselayer21.norm1.num_batches_tracked\n",
            "features.denseblock3.denselayer21.conv1.weight\n",
            "features.denseblock3.denselayer21.norm2.weight\n",
            "features.denseblock3.denselayer21.norm2.bias\n",
            "features.denseblock3.denselayer21.norm2.running_mean\n",
            "features.denseblock3.denselayer21.norm2.running_var\n",
            "features.denseblock3.denselayer21.norm2.num_batches_tracked\n",
            "features.denseblock3.denselayer21.conv2.weight\n",
            "features.denseblock3.denselayer22.norm1.weight\n",
            "features.denseblock3.denselayer22.norm1.bias\n",
            "features.denseblock3.denselayer22.norm1.running_mean\n",
            "features.denseblock3.denselayer22.norm1.running_var\n",
            "features.denseblock3.denselayer22.norm1.num_batches_tracked\n",
            "features.denseblock3.denselayer22.conv1.weight\n",
            "features.denseblock3.denselayer22.norm2.weight\n",
            "features.denseblock3.denselayer22.norm2.bias\n",
            "features.denseblock3.denselayer22.norm2.running_mean\n",
            "features.denseblock3.denselayer22.norm2.running_var\n",
            "features.denseblock3.denselayer22.norm2.num_batches_tracked\n",
            "features.denseblock3.denselayer22.conv2.weight\n",
            "features.denseblock3.denselayer23.norm1.weight\n",
            "features.denseblock3.denselayer23.norm1.bias\n",
            "features.denseblock3.denselayer23.norm1.running_mean\n",
            "features.denseblock3.denselayer23.norm1.running_var\n",
            "features.denseblock3.denselayer23.norm1.num_batches_tracked\n",
            "features.denseblock3.denselayer23.conv1.weight\n",
            "features.denseblock3.denselayer23.norm2.weight\n",
            "features.denseblock3.denselayer23.norm2.bias\n",
            "features.denseblock3.denselayer23.norm2.running_mean\n",
            "features.denseblock3.denselayer23.norm2.running_var\n",
            "features.denseblock3.denselayer23.norm2.num_batches_tracked\n",
            "features.denseblock3.denselayer23.conv2.weight\n",
            "features.denseblock3.denselayer24.norm1.weight\n",
            "features.denseblock3.denselayer24.norm1.bias\n",
            "features.denseblock3.denselayer24.norm1.running_mean\n",
            "features.denseblock3.denselayer24.norm1.running_var\n",
            "features.denseblock3.denselayer24.norm1.num_batches_tracked\n",
            "features.denseblock3.denselayer24.conv1.weight\n",
            "features.denseblock3.denselayer24.norm2.weight\n",
            "features.denseblock3.denselayer24.norm2.bias\n",
            "features.denseblock3.denselayer24.norm2.running_mean\n",
            "features.denseblock3.denselayer24.norm2.running_var\n",
            "features.denseblock3.denselayer24.norm2.num_batches_tracked\n",
            "features.denseblock3.denselayer24.conv2.weight\n",
            "features.transition3.norm.weight\n",
            "features.transition3.norm.bias\n",
            "features.transition3.norm.running_mean\n",
            "features.transition3.norm.running_var\n",
            "features.transition3.norm.num_batches_tracked\n",
            "features.transition3.conv.weight\n",
            "features.denseblock4.denselayer1.norm1.weight\n",
            "features.denseblock4.denselayer1.norm1.bias\n",
            "features.denseblock4.denselayer1.norm1.running_mean\n",
            "features.denseblock4.denselayer1.norm1.running_var\n",
            "features.denseblock4.denselayer1.norm1.num_batches_tracked\n",
            "features.denseblock4.denselayer1.conv1.weight\n",
            "features.denseblock4.denselayer1.norm2.weight\n",
            "features.denseblock4.denselayer1.norm2.bias\n",
            "features.denseblock4.denselayer1.norm2.running_mean\n",
            "features.denseblock4.denselayer1.norm2.running_var\n",
            "features.denseblock4.denselayer1.norm2.num_batches_tracked\n",
            "features.denseblock4.denselayer1.conv2.weight\n",
            "features.denseblock4.denselayer2.norm1.weight\n",
            "features.denseblock4.denselayer2.norm1.bias\n",
            "features.denseblock4.denselayer2.norm1.running_mean\n",
            "features.denseblock4.denselayer2.norm1.running_var\n",
            "features.denseblock4.denselayer2.norm1.num_batches_tracked\n",
            "features.denseblock4.denselayer2.conv1.weight\n",
            "features.denseblock4.denselayer2.norm2.weight\n",
            "features.denseblock4.denselayer2.norm2.bias\n",
            "features.denseblock4.denselayer2.norm2.running_mean\n",
            "features.denseblock4.denselayer2.norm2.running_var\n",
            "features.denseblock4.denselayer2.norm2.num_batches_tracked\n",
            "features.denseblock4.denselayer2.conv2.weight\n",
            "features.denseblock4.denselayer3.norm1.weight\n",
            "features.denseblock4.denselayer3.norm1.bias\n",
            "features.denseblock4.denselayer3.norm1.running_mean\n",
            "features.denseblock4.denselayer3.norm1.running_var\n",
            "features.denseblock4.denselayer3.norm1.num_batches_tracked\n",
            "features.denseblock4.denselayer3.conv1.weight\n",
            "features.denseblock4.denselayer3.norm2.weight\n",
            "features.denseblock4.denselayer3.norm2.bias\n",
            "features.denseblock4.denselayer3.norm2.running_mean\n",
            "features.denseblock4.denselayer3.norm2.running_var\n",
            "features.denseblock4.denselayer3.norm2.num_batches_tracked\n",
            "features.denseblock4.denselayer3.conv2.weight\n",
            "features.denseblock4.denselayer4.norm1.weight\n",
            "features.denseblock4.denselayer4.norm1.bias\n",
            "features.denseblock4.denselayer4.norm1.running_mean\n",
            "features.denseblock4.denselayer4.norm1.running_var\n",
            "features.denseblock4.denselayer4.norm1.num_batches_tracked\n",
            "features.denseblock4.denselayer4.conv1.weight\n",
            "features.denseblock4.denselayer4.norm2.weight\n",
            "features.denseblock4.denselayer4.norm2.bias\n",
            "features.denseblock4.denselayer4.norm2.running_mean\n",
            "features.denseblock4.denselayer4.norm2.running_var\n",
            "features.denseblock4.denselayer4.norm2.num_batches_tracked\n",
            "features.denseblock4.denselayer4.conv2.weight\n",
            "features.denseblock4.denselayer5.norm1.weight\n",
            "features.denseblock4.denselayer5.norm1.bias\n",
            "features.denseblock4.denselayer5.norm1.running_mean\n",
            "features.denseblock4.denselayer5.norm1.running_var\n",
            "features.denseblock4.denselayer5.norm1.num_batches_tracked\n",
            "features.denseblock4.denselayer5.conv1.weight\n",
            "features.denseblock4.denselayer5.norm2.weight\n",
            "features.denseblock4.denselayer5.norm2.bias\n",
            "features.denseblock4.denselayer5.norm2.running_mean\n",
            "features.denseblock4.denselayer5.norm2.running_var\n",
            "features.denseblock4.denselayer5.norm2.num_batches_tracked\n",
            "features.denseblock4.denselayer5.conv2.weight\n",
            "features.denseblock4.denselayer6.norm1.weight\n",
            "features.denseblock4.denselayer6.norm1.bias\n",
            "features.denseblock4.denselayer6.norm1.running_mean\n",
            "features.denseblock4.denselayer6.norm1.running_var\n",
            "features.denseblock4.denselayer6.norm1.num_batches_tracked\n",
            "features.denseblock4.denselayer6.conv1.weight\n",
            "features.denseblock4.denselayer6.norm2.weight\n",
            "features.denseblock4.denselayer6.norm2.bias\n",
            "features.denseblock4.denselayer6.norm2.running_mean\n",
            "features.denseblock4.denselayer6.norm2.running_var\n",
            "features.denseblock4.denselayer6.norm2.num_batches_tracked\n",
            "features.denseblock4.denselayer6.conv2.weight\n",
            "features.denseblock4.denselayer7.norm1.weight\n",
            "features.denseblock4.denselayer7.norm1.bias\n",
            "features.denseblock4.denselayer7.norm1.running_mean\n",
            "features.denseblock4.denselayer7.norm1.running_var\n",
            "features.denseblock4.denselayer7.norm1.num_batches_tracked\n",
            "features.denseblock4.denselayer7.conv1.weight\n",
            "features.denseblock4.denselayer7.norm2.weight\n",
            "features.denseblock4.denselayer7.norm2.bias\n",
            "features.denseblock4.denselayer7.norm2.running_mean\n",
            "features.denseblock4.denselayer7.norm2.running_var\n",
            "features.denseblock4.denselayer7.norm2.num_batches_tracked\n",
            "features.denseblock4.denselayer7.conv2.weight\n",
            "features.denseblock4.denselayer8.norm1.weight\n",
            "features.denseblock4.denselayer8.norm1.bias\n",
            "features.denseblock4.denselayer8.norm1.running_mean\n",
            "features.denseblock4.denselayer8.norm1.running_var\n",
            "features.denseblock4.denselayer8.norm1.num_batches_tracked\n",
            "features.denseblock4.denselayer8.conv1.weight\n",
            "features.denseblock4.denselayer8.norm2.weight\n",
            "features.denseblock4.denselayer8.norm2.bias\n",
            "features.denseblock4.denselayer8.norm2.running_mean\n",
            "features.denseblock4.denselayer8.norm2.running_var\n",
            "features.denseblock4.denselayer8.norm2.num_batches_tracked\n",
            "features.denseblock4.denselayer8.conv2.weight\n",
            "features.denseblock4.denselayer9.norm1.weight\n",
            "features.denseblock4.denselayer9.norm1.bias\n",
            "features.denseblock4.denselayer9.norm1.running_mean\n",
            "features.denseblock4.denselayer9.norm1.running_var\n",
            "features.denseblock4.denselayer9.norm1.num_batches_tracked\n",
            "features.denseblock4.denselayer9.conv1.weight\n",
            "features.denseblock4.denselayer9.norm2.weight\n",
            "features.denseblock4.denselayer9.norm2.bias\n",
            "features.denseblock4.denselayer9.norm2.running_mean\n",
            "features.denseblock4.denselayer9.norm2.running_var\n",
            "features.denseblock4.denselayer9.norm2.num_batches_tracked\n",
            "features.denseblock4.denselayer9.conv2.weight\n",
            "features.denseblock4.denselayer10.norm1.weight\n",
            "features.denseblock4.denselayer10.norm1.bias\n",
            "features.denseblock4.denselayer10.norm1.running_mean\n",
            "features.denseblock4.denselayer10.norm1.running_var\n",
            "features.denseblock4.denselayer10.norm1.num_batches_tracked\n",
            "features.denseblock4.denselayer10.conv1.weight\n",
            "features.denseblock4.denselayer10.norm2.weight\n",
            "features.denseblock4.denselayer10.norm2.bias\n",
            "features.denseblock4.denselayer10.norm2.running_mean\n",
            "features.denseblock4.denselayer10.norm2.running_var\n",
            "features.denseblock4.denselayer10.norm2.num_batches_tracked\n",
            "features.denseblock4.denselayer10.conv2.weight\n",
            "features.denseblock4.denselayer11.norm1.weight\n",
            "features.denseblock4.denselayer11.norm1.bias\n",
            "features.denseblock4.denselayer11.norm1.running_mean\n",
            "features.denseblock4.denselayer11.norm1.running_var\n",
            "features.denseblock4.denselayer11.norm1.num_batches_tracked\n",
            "features.denseblock4.denselayer11.conv1.weight\n",
            "features.denseblock4.denselayer11.norm2.weight\n",
            "features.denseblock4.denselayer11.norm2.bias\n",
            "features.denseblock4.denselayer11.norm2.running_mean\n",
            "features.denseblock4.denselayer11.norm2.running_var\n",
            "features.denseblock4.denselayer11.norm2.num_batches_tracked\n",
            "features.denseblock4.denselayer11.conv2.weight\n",
            "features.denseblock4.denselayer12.norm1.weight\n",
            "features.denseblock4.denselayer12.norm1.bias\n",
            "features.denseblock4.denselayer12.norm1.running_mean\n",
            "features.denseblock4.denselayer12.norm1.running_var\n",
            "features.denseblock4.denselayer12.norm1.num_batches_tracked\n",
            "features.denseblock4.denselayer12.conv1.weight\n",
            "features.denseblock4.denselayer12.norm2.weight\n",
            "features.denseblock4.denselayer12.norm2.bias\n",
            "features.denseblock4.denselayer12.norm2.running_mean\n",
            "features.denseblock4.denselayer12.norm2.running_var\n",
            "features.denseblock4.denselayer12.norm2.num_batches_tracked\n",
            "features.denseblock4.denselayer12.conv2.weight\n",
            "features.denseblock4.denselayer13.norm1.weight\n",
            "features.denseblock4.denselayer13.norm1.bias\n",
            "features.denseblock4.denselayer13.norm1.running_mean\n",
            "features.denseblock4.denselayer13.norm1.running_var\n",
            "features.denseblock4.denselayer13.norm1.num_batches_tracked\n",
            "features.denseblock4.denselayer13.conv1.weight\n",
            "features.denseblock4.denselayer13.norm2.weight\n",
            "features.denseblock4.denselayer13.norm2.bias\n",
            "features.denseblock4.denselayer13.norm2.running_mean\n",
            "features.denseblock4.denselayer13.norm2.running_var\n",
            "features.denseblock4.denselayer13.norm2.num_batches_tracked\n",
            "features.denseblock4.denselayer13.conv2.weight\n",
            "features.denseblock4.denselayer14.norm1.weight\n",
            "features.denseblock4.denselayer14.norm1.bias\n",
            "features.denseblock4.denselayer14.norm1.running_mean\n",
            "features.denseblock4.denselayer14.norm1.running_var\n",
            "features.denseblock4.denselayer14.norm1.num_batches_tracked\n",
            "features.denseblock4.denselayer14.conv1.weight\n",
            "features.denseblock4.denselayer14.norm2.weight\n",
            "features.denseblock4.denselayer14.norm2.bias\n",
            "features.denseblock4.denselayer14.norm2.running_mean\n",
            "features.denseblock4.denselayer14.norm2.running_var\n",
            "features.denseblock4.denselayer14.norm2.num_batches_tracked\n",
            "features.denseblock4.denselayer14.conv2.weight\n",
            "features.denseblock4.denselayer15.norm1.weight\n",
            "features.denseblock4.denselayer15.norm1.bias\n",
            "features.denseblock4.denselayer15.norm1.running_mean\n",
            "features.denseblock4.denselayer15.norm1.running_var\n",
            "features.denseblock4.denselayer15.norm1.num_batches_tracked\n",
            "features.denseblock4.denselayer15.conv1.weight\n",
            "features.denseblock4.denselayer15.norm2.weight\n",
            "features.denseblock4.denselayer15.norm2.bias\n",
            "features.denseblock4.denselayer15.norm2.running_mean\n",
            "features.denseblock4.denselayer15.norm2.running_var\n",
            "features.denseblock4.denselayer15.norm2.num_batches_tracked\n",
            "features.denseblock4.denselayer15.conv2.weight\n",
            "features.denseblock4.denselayer16.norm1.weight\n",
            "features.denseblock4.denselayer16.norm1.bias\n",
            "features.denseblock4.denselayer16.norm1.running_mean\n",
            "features.denseblock4.denselayer16.norm1.running_var\n",
            "features.denseblock4.denselayer16.norm1.num_batches_tracked\n",
            "features.denseblock4.denselayer16.conv1.weight\n",
            "features.denseblock4.denselayer16.norm2.weight\n",
            "features.denseblock4.denselayer16.norm2.bias\n",
            "features.denseblock4.denselayer16.norm2.running_mean\n",
            "features.denseblock4.denselayer16.norm2.running_var\n",
            "features.denseblock4.denselayer16.norm2.num_batches_tracked\n",
            "features.denseblock4.denselayer16.conv2.weight\n",
            "features.norm5.weight\n",
            "features.norm5.bias\n",
            "features.norm5.running_mean\n",
            "features.norm5.running_var\n",
            "features.norm5.num_batches_tracked\n",
            "classifier.weight\n",
            "classifier.bias\n"
          ]
        }
      ]
    },
    {
      "cell_type": "code",
      "source": [
        "model_densenet121, loss_densenet121, optim_densenet121 = selective_finetuning_single_layer(models.densenet121, 'classifier')\n",
        "model_densenet121 ,densenet121_train ,densenet121_test, densenet121_pred, densenet121_true = model(train,test,5,model_densenet121, loss_densenet121, optim_densenet121)"
      ],
      "metadata": {
        "colab": {
          "base_uri": "https://localhost:8080/"
        },
        "id": "84QJLBao_j9t",
        "outputId": "45bafee5-dc0e-40f3-d823-bd7c6b2ceb8c"
      },
      "execution_count": 131,
      "outputs": [
        {
          "output_type": "stream",
          "name": "stderr",
          "text": [
            "100%|██████████| 7/7 [01:57<00:00, 16.85s/it]\n",
            "100%|██████████| 7/7 [02:02<00:00, 17.47s/it]\n",
            "100%|██████████| 7/7 [02:13<00:00, 19.13s/it]\n",
            "100%|██████████| 7/7 [02:12<00:00, 18.93s/it]\n",
            "100%|██████████| 7/7 [02:07<00:00, 18.20s/it]\n"
          ]
        }
      ]
    },
    {
      "cell_type": "code",
      "source": [
        "cf_matrix_densenet=confusion_matrix(densenet121_true,densenet121_pred)\n",
        "cf_matrix_densenet"
      ],
      "metadata": {
        "colab": {
          "base_uri": "https://localhost:8080/"
        },
        "id": "E_qr1Zbq_W_5",
        "outputId": "40219f4c-00e9-4aa0-ac0d-2f845756683a"
      },
      "execution_count": 132,
      "outputs": [
        {
          "output_type": "execute_result",
          "data": {
            "text/plain": [
              "array([[ 9,  3,  2,  2, 11],\n",
              "       [ 4,  2,  4,  2,  4],\n",
              "       [ 4,  2,  5,  3,  2],\n",
              "       [ 1,  5,  2,  3,  4],\n",
              "       [ 4,  7,  7,  3,  3]])"
            ]
          },
          "metadata": {},
          "execution_count": 132
        }
      ]
    },
    {
      "cell_type": "code",
      "source": [
        "plt.figure(figsize=(9,9))\n",
        "sns.heatmap(cf_matrix_densenet, cbar=False, fmt='d', annot=True, cmap='Blues')\n",
        "plt.xlabel('Predicted')\n",
        "plt.ylabel('Actual')\n",
        "plt.title('Confusion matrix of the CNN Classifier')\n",
        "plt.show()"
      ],
      "metadata": {
        "colab": {
          "base_uri": "https://localhost:8080/",
          "height": 567
        },
        "id": "ccL4YArZ_b-Y",
        "outputId": "912a96d4-f42e-4f50-c1ed-6888bd0fc9f5"
      },
      "execution_count": 133,
      "outputs": [
        {
          "output_type": "display_data",
          "data": {
            "text/plain": [
              "<Figure size 648x648 with 1 Axes>"
            ],
            "image/png": "[encoded data removed]"
          },
          "metadata": {
            "needs_background": "light"
          }
        }
      ]
    },
    {
      "cell_type": "markdown",
      "source": [
        "# Efficientnet-B0 Training and Inference"
      ],
      "metadata": {
        "id": "_XaTmcSdbIuc"
      }
    },
    {
      "cell_type": "code",
      "source": [
        "bifurcation(models.efficientnet.efficientnet_b0)"
      ],
      "metadata": {
        "colab": {
          "base_uri": "https://localhost:8080/",
          "height": 1000,
          "referenced_widgets": [
            "7f26381524dc4c1c9a43eb385ae46e31",
            "71a9b533334c4b13b300b7e49484a7f6",
            "568ccbb49ef04e1c8f18a7ed89bc189c",
            "44d8671a02f14baaba6a8e60d61583f0",
            "2899e529f2644bb29ac4a3b2fc19bb1b",
            "2861f210b7a141518798aa332a8a37c4",
            "eaa866a3b5bf48f7b3ff49b3a0d9ba74",
            "1cdc4a0381cd40708015d5e91d896e82",
            "9a43518a34b24deaa62900c48fa0f6cf",
            "e08e3c61bc1645ebaca7e5c060a4edfd",
            "e5c91554644a4af0be81e8aa25f2e8bd"
          ]
        },
        "id": "qSvNvqGr8fTZ",
        "outputId": "c80ed64e-bf5d-4d59-bfb0-9c24ada0f529"
      },
      "execution_count": 137,
      "outputs": [
        {
          "output_type": "stream",
          "name": "stderr",
          "text": [
            "Downloading: \"https://download.pytorch.org/models/efficientnet_b0_rwightman-3dd342df.pth\" to /root/.cache/torch/hub/checkpoints/efficientnet_b0_rwightman-3dd342df.pth\n"
          ]
        },
        {
          "output_type": "display_data",
          "data": {
            "text/plain": [
              "  0%|          | 0.00/20.5M [00:00<?, ?B/s]"
            ],
            "application/vnd.jupyter.widget-view+json": {
              "version_major": 2,
              "version_minor": 0,
              "model_id": "7f26381524dc4c1c9a43eb385ae46e31"
            }
          },
          "metadata": {}
        },
        {
          "output_type": "stream",
          "name": "stdout",
          "text": [
            "features.0.0.weight\n",
            "features.0.1.weight\n",
            "features.0.1.bias\n",
            "features.0.1.running_mean\n",
            "features.0.1.running_var\n",
            "features.0.1.num_batches_tracked\n",
            "features.1.0.block.0.0.weight\n",
            "features.1.0.block.0.1.weight\n",
            "features.1.0.block.0.1.bias\n",
            "features.1.0.block.0.1.running_mean\n",
            "features.1.0.block.0.1.running_var\n",
            "features.1.0.block.0.1.num_batches_tracked\n",
            "features.1.0.block.1.fc1.weight\n",
            "features.1.0.block.1.fc1.bias\n",
            "features.1.0.block.1.fc2.weight\n",
            "features.1.0.block.1.fc2.bias\n",
            "features.1.0.block.2.0.weight\n",
            "features.1.0.block.2.1.weight\n",
            "features.1.0.block.2.1.bias\n",
            "features.1.0.block.2.1.running_mean\n",
            "features.1.0.block.2.1.running_var\n",
            "features.1.0.block.2.1.num_batches_tracked\n",
            "features.2.0.block.0.0.weight\n",
            "features.2.0.block.0.1.weight\n",
            "features.2.0.block.0.1.bias\n",
            "features.2.0.block.0.1.running_mean\n",
            "features.2.0.block.0.1.running_var\n",
            "features.2.0.block.0.1.num_batches_tracked\n",
            "features.2.0.block.1.0.weight\n",
            "features.2.0.block.1.1.weight\n",
            "features.2.0.block.1.1.bias\n",
            "features.2.0.block.1.1.running_mean\n",
            "features.2.0.block.1.1.running_var\n",
            "features.2.0.block.1.1.num_batches_tracked\n",
            "features.2.0.block.2.fc1.weight\n",
            "features.2.0.block.2.fc1.bias\n",
            "features.2.0.block.2.fc2.weight\n",
            "features.2.0.block.2.fc2.bias\n",
            "features.2.0.block.3.0.weight\n",
            "features.2.0.block.3.1.weight\n",
            "features.2.0.block.3.1.bias\n",
            "features.2.0.block.3.1.running_mean\n",
            "features.2.0.block.3.1.running_var\n",
            "features.2.0.block.3.1.num_batches_tracked\n",
            "features.2.1.block.0.0.weight\n",
            "features.2.1.block.0.1.weight\n",
            "features.2.1.block.0.1.bias\n",
            "features.2.1.block.0.1.running_mean\n",
            "features.2.1.block.0.1.running_var\n",
            "features.2.1.block.0.1.num_batches_tracked\n",
            "features.2.1.block.1.0.weight\n",
            "features.2.1.block.1.1.weight\n",
            "features.2.1.block.1.1.bias\n",
            "features.2.1.block.1.1.running_mean\n",
            "features.2.1.block.1.1.running_var\n",
            "features.2.1.block.1.1.num_batches_tracked\n",
            "features.2.1.block.2.fc1.weight\n",
            "features.2.1.block.2.fc1.bias\n",
            "features.2.1.block.2.fc2.weight\n",
            "features.2.1.block.2.fc2.bias\n",
            "features.2.1.block.3.0.weight\n",
            "features.2.1.block.3.1.weight\n",
            "features.2.1.block.3.1.bias\n",
            "features.2.1.block.3.1.running_mean\n",
            "features.2.1.block.3.1.running_var\n",
            "features.2.1.block.3.1.num_batches_tracked\n",
            "features.3.0.block.0.0.weight\n",
            "features.3.0.block.0.1.weight\n",
            "features.3.0.block.0.1.bias\n",
            "features.3.0.block.0.1.running_mean\n",
            "features.3.0.block.0.1.running_var\n",
            "features.3.0.block.0.1.num_batches_tracked\n",
            "features.3.0.block.1.0.weight\n",
            "features.3.0.block.1.1.weight\n",
            "features.3.0.block.1.1.bias\n",
            "features.3.0.block.1.1.running_mean\n",
            "features.3.0.block.1.1.running_var\n",
            "features.3.0.block.1.1.num_batches_tracked\n",
            "features.3.0.block.2.fc1.weight\n",
            "features.3.0.block.2.fc1.bias\n",
            "features.3.0.block.2.fc2.weight\n",
            "features.3.0.block.2.fc2.bias\n",
            "features.3.0.block.3.0.weight\n",
            "features.3.0.block.3.1.weight\n",
            "features.3.0.block.3.1.bias\n",
            "features.3.0.block.3.1.running_mean\n",
            "features.3.0.block.3.1.running_var\n",
            "features.3.0.block.3.1.num_batches_tracked\n",
            "features.3.1.block.0.0.weight\n",
            "features.3.1.block.0.1.weight\n",
            "features.3.1.block.0.1.bias\n",
            "features.3.1.block.0.1.running_mean\n",
            "features.3.1.block.0.1.running_var\n",
            "features.3.1.block.0.1.num_batches_tracked\n",
            "features.3.1.block.1.0.weight\n",
            "features.3.1.block.1.1.weight\n",
            "features.3.1.block.1.1.bias\n",
            "features.3.1.block.1.1.running_mean\n",
            "features.3.1.block.1.1.running_var\n",
            "features.3.1.block.1.1.num_batches_tracked\n",
            "features.3.1.block.2.fc1.weight\n",
            "features.3.1.block.2.fc1.bias\n",
            "features.3.1.block.2.fc2.weight\n",
            "features.3.1.block.2.fc2.bias\n",
            "features.3.1.block.3.0.weight\n",
            "features.3.1.block.3.1.weight\n",
            "features.3.1.block.3.1.bias\n",
            "features.3.1.block.3.1.running_mean\n",
            "features.3.1.block.3.1.running_var\n",
            "features.3.1.block.3.1.num_batches_tracked\n",
            "features.4.0.block.0.0.weight\n",
            "features.4.0.block.0.1.weight\n",
            "features.4.0.block.0.1.bias\n",
            "features.4.0.block.0.1.running_mean\n",
            "features.4.0.block.0.1.running_var\n",
            "features.4.0.block.0.1.num_batches_tracked\n",
            "features.4.0.block.1.0.weight\n",
            "features.4.0.block.1.1.weight\n",
            "features.4.0.block.1.1.bias\n",
            "features.4.0.block.1.1.running_mean\n",
            "features.4.0.block.1.1.running_var\n",
            "features.4.0.block.1.1.num_batches_tracked\n",
            "features.4.0.block.2.fc1.weight\n",
            "features.4.0.block.2.fc1.bias\n",
            "features.4.0.block.2.fc2.weight\n",
            "features.4.0.block.2.fc2.bias\n",
            "features.4.0.block.3.0.weight\n",
            "features.4.0.block.3.1.weight\n",
            "features.4.0.block.3.1.bias\n",
            "features.4.0.block.3.1.running_mean\n",
            "features.4.0.block.3.1.running_var\n",
            "features.4.0.block.3.1.num_batches_tracked\n",
            "features.4.1.block.0.0.weight\n",
            "features.4.1.block.0.1.weight\n",
            "features.4.1.block.0.1.bias\n",
            "features.4.1.block.0.1.running_mean\n",
            "features.4.1.block.0.1.running_var\n",
            "features.4.1.block.0.1.num_batches_tracked\n",
            "features.4.1.block.1.0.weight\n",
            "features.4.1.block.1.1.weight\n",
            "features.4.1.block.1.1.bias\n",
            "features.4.1.block.1.1.running_mean\n",
            "features.4.1.block.1.1.running_var\n",
            "features.4.1.block.1.1.num_batches_tracked\n",
            "features.4.1.block.2.fc1.weight\n",
            "features.4.1.block.2.fc1.bias\n",
            "features.4.1.block.2.fc2.weight\n",
            "features.4.1.block.2.fc2.bias\n",
            "features.4.1.block.3.0.weight\n",
            "features.4.1.block.3.1.weight\n",
            "features.4.1.block.3.1.bias\n",
            "features.4.1.block.3.1.running_mean\n",
            "features.4.1.block.3.1.running_var\n",
            "features.4.1.block.3.1.num_batches_tracked\n",
            "features.4.2.block.0.0.weight\n",
            "features.4.2.block.0.1.weight\n",
            "features.4.2.block.0.1.bias\n",
            "features.4.2.block.0.1.running_mean\n",
            "features.4.2.block.0.1.running_var\n",
            "features.4.2.block.0.1.num_batches_tracked\n",
            "features.4.2.block.1.0.weight\n",
            "features.4.2.block.1.1.weight\n",
            "features.4.2.block.1.1.bias\n",
            "features.4.2.block.1.1.running_mean\n",
            "features.4.2.block.1.1.running_var\n",
            "features.4.2.block.1.1.num_batches_tracked\n",
            "features.4.2.block.2.fc1.weight\n",
            "features.4.2.block.2.fc1.bias\n",
            "features.4.2.block.2.fc2.weight\n",
            "features.4.2.block.2.fc2.bias\n",
            "features.4.2.block.3.0.weight\n",
            "features.4.2.block.3.1.weight\n",
            "features.4.2.block.3.1.bias\n",
            "features.4.2.block.3.1.running_mean\n",
            "features.4.2.block.3.1.running_var\n",
            "features.4.2.block.3.1.num_batches_tracked\n",
            "features.5.0.block.0.0.weight\n",
            "features.5.0.block.0.1.weight\n",
            "features.5.0.block.0.1.bias\n",
            "features.5.0.block.0.1.running_mean\n",
            "features.5.0.block.0.1.running_var\n",
            "features.5.0.block.0.1.num_batches_tracked\n",
            "features.5.0.block.1.0.weight\n",
            "features.5.0.block.1.1.weight\n",
            "features.5.0.block.1.1.bias\n",
            "features.5.0.block.1.1.running_mean\n",
            "features.5.0.block.1.1.running_var\n",
            "features.5.0.block.1.1.num_batches_tracked\n",
            "features.5.0.block.2.fc1.weight\n",
            "features.5.0.block.2.fc1.bias\n",
            "features.5.0.block.2.fc2.weight\n",
            "features.5.0.block.2.fc2.bias\n",
            "features.5.0.block.3.0.weight\n",
            "features.5.0.block.3.1.weight\n",
            "features.5.0.block.3.1.bias\n",
            "features.5.0.block.3.1.running_mean\n",
            "features.5.0.block.3.1.running_var\n",
            "features.5.0.block.3.1.num_batches_tracked\n",
            "features.5.1.block.0.0.weight\n",
            "features.5.1.block.0.1.weight\n",
            "features.5.1.block.0.1.bias\n",
            "features.5.1.block.0.1.running_mean\n",
            "features.5.1.block.0.1.running_var\n",
            "features.5.1.block.0.1.num_batches_tracked\n",
            "features.5.1.block.1.0.weight\n",
            "features.5.1.block.1.1.weight\n",
            "features.5.1.block.1.1.bias\n",
            "features.5.1.block.1.1.running_mean\n",
            "features.5.1.block.1.1.running_var\n",
            "features.5.1.block.1.1.num_batches_tracked\n",
            "features.5.1.block.2.fc1.weight\n",
            "features.5.1.block.2.fc1.bias\n",
            "features.5.1.block.2.fc2.weight\n",
            "features.5.1.block.2.fc2.bias\n",
            "features.5.1.block.3.0.weight\n",
            "features.5.1.block.3.1.weight\n",
            "features.5.1.block.3.1.bias\n",
            "features.5.1.block.3.1.running_mean\n",
            "features.5.1.block.3.1.running_var\n",
            "features.5.1.block.3.1.num_batches_tracked\n",
            "features.5.2.block.0.0.weight\n",
            "features.5.2.block.0.1.weight\n",
            "features.5.2.block.0.1.bias\n",
            "features.5.2.block.0.1.running_mean\n",
            "features.5.2.block.0.1.running_var\n",
            "features.5.2.block.0.1.num_batches_tracked\n",
            "features.5.2.block.1.0.weight\n",
            "features.5.2.block.1.1.weight\n",
            "features.5.2.block.1.1.bias\n",
            "features.5.2.block.1.1.running_mean\n",
            "features.5.2.block.1.1.running_var\n",
            "features.5.2.block.1.1.num_batches_tracked\n",
            "features.5.2.block.2.fc1.weight\n",
            "features.5.2.block.2.fc1.bias\n",
            "features.5.2.block.2.fc2.weight\n",
            "features.5.2.block.2.fc2.bias\n",
            "features.5.2.block.3.0.weight\n",
            "features.5.2.block.3.1.weight\n",
            "features.5.2.block.3.1.bias\n",
            "features.5.2.block.3.1.running_mean\n",
            "features.5.2.block.3.1.running_var\n",
            "features.5.2.block.3.1.num_batches_tracked\n",
            "features.6.0.block.0.0.weight\n",
            "features.6.0.block.0.1.weight\n",
            "features.6.0.block.0.1.bias\n",
            "features.6.0.block.0.1.running_mean\n",
            "features.6.0.block.0.1.running_var\n",
            "features.6.0.block.0.1.num_batches_tracked\n",
            "features.6.0.block.1.0.weight\n",
            "features.6.0.block.1.1.weight\n",
            "features.6.0.block.1.1.bias\n",
            "features.6.0.block.1.1.running_mean\n",
            "features.6.0.block.1.1.running_var\n",
            "features.6.0.block.1.1.num_batches_tracked\n",
            "features.6.0.block.2.fc1.weight\n",
            "features.6.0.block.2.fc1.bias\n",
            "features.6.0.block.2.fc2.weight\n",
            "features.6.0.block.2.fc2.bias\n",
            "features.6.0.block.3.0.weight\n",
            "features.6.0.block.3.1.weight\n",
            "features.6.0.block.3.1.bias\n",
            "features.6.0.block.3.1.running_mean\n",
            "features.6.0.block.3.1.running_var\n",
            "features.6.0.block.3.1.num_batches_tracked\n",
            "features.6.1.block.0.0.weight\n",
            "features.6.1.block.0.1.weight\n",
            "features.6.1.block.0.1.bias\n",
            "features.6.1.block.0.1.running_mean\n",
            "features.6.1.block.0.1.running_var\n",
            "features.6.1.block.0.1.num_batches_tracked\n",
            "features.6.1.block.1.0.weight\n",
            "features.6.1.block.1.1.weight\n",
            "features.6.1.block.1.1.bias\n",
            "features.6.1.block.1.1.running_mean\n",
            "features.6.1.block.1.1.running_var\n",
            "features.6.1.block.1.1.num_batches_tracked\n",
            "features.6.1.block.2.fc1.weight\n",
            "features.6.1.block.2.fc1.bias\n",
            "features.6.1.block.2.fc2.weight\n",
            "features.6.1.block.2.fc2.bias\n",
            "features.6.1.block.3.0.weight\n",
            "features.6.1.block.3.1.weight\n",
            "features.6.1.block.3.1.bias\n",
            "features.6.1.block.3.1.running_mean\n",
            "features.6.1.block.3.1.running_var\n",
            "features.6.1.block.3.1.num_batches_tracked\n",
            "features.6.2.block.0.0.weight\n",
            "features.6.2.block.0.1.weight\n",
            "features.6.2.block.0.1.bias\n",
            "features.6.2.block.0.1.running_mean\n",
            "features.6.2.block.0.1.running_var\n",
            "features.6.2.block.0.1.num_batches_tracked\n",
            "features.6.2.block.1.0.weight\n",
            "features.6.2.block.1.1.weight\n",
            "features.6.2.block.1.1.bias\n",
            "features.6.2.block.1.1.running_mean\n",
            "features.6.2.block.1.1.running_var\n",
            "features.6.2.block.1.1.num_batches_tracked\n",
            "features.6.2.block.2.fc1.weight\n",
            "features.6.2.block.2.fc1.bias\n",
            "features.6.2.block.2.fc2.weight\n",
            "features.6.2.block.2.fc2.bias\n",
            "features.6.2.block.3.0.weight\n",
            "features.6.2.block.3.1.weight\n",
            "features.6.2.block.3.1.bias\n",
            "features.6.2.block.3.1.running_mean\n",
            "features.6.2.block.3.1.running_var\n",
            "features.6.2.block.3.1.num_batches_tracked\n",
            "features.6.3.block.0.0.weight\n",
            "features.6.3.block.0.1.weight\n",
            "features.6.3.block.0.1.bias\n",
            "features.6.3.block.0.1.running_mean\n",
            "features.6.3.block.0.1.running_var\n",
            "features.6.3.block.0.1.num_batches_tracked\n",
            "features.6.3.block.1.0.weight\n",
            "features.6.3.block.1.1.weight\n",
            "features.6.3.block.1.1.bias\n",
            "features.6.3.block.1.1.running_mean\n",
            "features.6.3.block.1.1.running_var\n",
            "features.6.3.block.1.1.num_batches_tracked\n",
            "features.6.3.block.2.fc1.weight\n",
            "features.6.3.block.2.fc1.bias\n",
            "features.6.3.block.2.fc2.weight\n",
            "features.6.3.block.2.fc2.bias\n",
            "features.6.3.block.3.0.weight\n",
            "features.6.3.block.3.1.weight\n",
            "features.6.3.block.3.1.bias\n",
            "features.6.3.block.3.1.running_mean\n",
            "features.6.3.block.3.1.running_var\n",
            "features.6.3.block.3.1.num_batches_tracked\n",
            "features.7.0.block.0.0.weight\n",
            "features.7.0.block.0.1.weight\n",
            "features.7.0.block.0.1.bias\n",
            "features.7.0.block.0.1.running_mean\n",
            "features.7.0.block.0.1.running_var\n",
            "features.7.0.block.0.1.num_batches_tracked\n",
            "features.7.0.block.1.0.weight\n",
            "features.7.0.block.1.1.weight\n",
            "features.7.0.block.1.1.bias\n",
            "features.7.0.block.1.1.running_mean\n",
            "features.7.0.block.1.1.running_var\n",
            "features.7.0.block.1.1.num_batches_tracked\n",
            "features.7.0.block.2.fc1.weight\n",
            "features.7.0.block.2.fc1.bias\n",
            "features.7.0.block.2.fc2.weight\n",
            "features.7.0.block.2.fc2.bias\n",
            "features.7.0.block.3.0.weight\n",
            "features.7.0.block.3.1.weight\n",
            "features.7.0.block.3.1.bias\n",
            "features.7.0.block.3.1.running_mean\n",
            "features.7.0.block.3.1.running_var\n",
            "features.7.0.block.3.1.num_batches_tracked\n",
            "features.8.0.weight\n",
            "features.8.1.weight\n",
            "features.8.1.bias\n",
            "features.8.1.running_mean\n",
            "features.8.1.running_var\n",
            "features.8.1.num_batches_tracked\n",
            "classifier.1.weight\n",
            "classifier.1.bias\n"
          ]
        }
      ]
    },
    {
      "cell_type": "code",
      "source": [
        "model_efficientnet_b0, loss_efficientnet_b0, optim_efficientnet_b0 = selective_finetuning_single_layer(models.efficientnet_b0, 'classifier')\n",
        "model_efficientnet_b0 ,efficientnet_b0_train ,efficientnet_b0_test, efficientnet_b0_pred, efficientnet_b0_true = model(train,test,5,model_efficientnet_b0, loss_efficientnet_b0, optim_efficientnet_b0)"
      ],
      "metadata": {
        "colab": {
          "base_uri": "https://localhost:8080/"
        },
        "id": "eX-p5yzz_wwF",
        "outputId": "31c73c46-459d-491f-97af-44994a147e7b"
      },
      "execution_count": 138,
      "outputs": [
        {
          "output_type": "stream",
          "name": "stderr",
          "text": [
            "100%|██████████| 7/7 [02:02<00:00, 17.54s/it]\n",
            "100%|██████████| 7/7 [02:03<00:00, 17.71s/it]\n",
            "100%|██████████| 7/7 [02:00<00:00, 17.24s/it]\n",
            "100%|██████████| 7/7 [02:00<00:00, 17.16s/it]\n",
            "100%|██████████| 7/7 [01:58<00:00, 16.99s/it]\n"
          ]
        }
      ]
    },
    {
      "cell_type": "code",
      "source": [
        "cf_matrix_efficientnet_b0=confusion_matrix(efficientnet_b0_true,efficientnet_b0_pred)\n",
        "cf_matrix_efficientnet_b0"
      ],
      "metadata": {
        "colab": {
          "base_uri": "https://localhost:8080/"
        },
        "id": "ynQwmlGe_wwF",
        "outputId": "212d4030-4d9e-4b2d-e40b-07b24484d956"
      },
      "execution_count": 139,
      "outputs": [
        {
          "output_type": "execute_result",
          "data": {
            "text/plain": [
              "array([[ 8, 10,  2,  3,  4,  0,  0,  0],\n",
              "       [ 3,  2,  4,  2,  4,  1,  0,  0],\n",
              "       [ 4,  0,  8,  1,  1,  0,  1,  1],\n",
              "       [ 3,  4,  1,  4,  3,  0,  0,  0],\n",
              "       [ 0,  3,  2, 14,  5,  0,  0,  0],\n",
              "       [ 0,  0,  0,  0,  0,  0,  0,  0],\n",
              "       [ 0,  0,  0,  0,  0,  0,  0,  0],\n",
              "       [ 0,  0,  0,  0,  0,  0,  0,  0]])"
            ]
          },
          "metadata": {},
          "execution_count": 139
        }
      ]
    },
    {
      "cell_type": "code",
      "source": [
        "plt.figure(figsize=(9,9))\n",
        "sns.heatmap(cf_matrix_efficientnet_b0, cbar=False, fmt='d', annot=True, cmap='Blues')\n",
        "plt.xlabel('Predicted')\n",
        "plt.ylabel('Actual')\n",
        "plt.title('Confusion matrix of the CNN Classifier')\n",
        "plt.show()"
      ],
      "metadata": {
        "colab": {
          "base_uri": "https://localhost:8080/",
          "height": 567
        },
        "id": "AyAAPkXl_wwF",
        "outputId": "a4e5acf6-538e-4e19-ea3d-a936b2deb98b"
      },
      "execution_count": 140,
      "outputs": [
        {
          "output_type": "display_data",
          "data": {
            "text/plain": [
              "<Figure size 648x648 with 1 Axes>"
            ],
            "image/png": "[encoded data removed]"
          },
          "metadata": {
            "needs_background": "light"
          }
        }
      ]
    },
    {
      "cell_type": "markdown",
      "source": [
        "# Alexnet Training and Inference"
      ],
      "metadata": {
        "id": "ggyXW-VYa-Po"
      }
    },
    {
      "cell_type": "code",
      "source": [
        "bifurcation(models.alexnet)"
      ],
      "metadata": {
        "colab": {
          "base_uri": "https://localhost:8080/",
          "height": 359,
          "referenced_widgets": [
            "8ecf3fb1382e48a1a9bde23bedf88945",
            "b38e343c1a3d4877acd9d51e8ed6745e",
            "e8cac91bf77f4198840a99e55e2d8e99",
            "bbb221246cdb4bbcaffc5a62ab61a167",
            "fd1f884eeb884e76986ffc0780e4cc2c",
            "1a6a2c0debd447299cd5df63fed89644",
            "85b571b32e8e4bac96ea00b32f9231a2",
            "3510a95d20c0438daef2c5c0b440d2bc",
            "fef6510cc5c6402ea9c5c7f1c848a33d",
            "2015f85e78c24de094d024056ffa4daf",
            "8026bf79b3e84960bb87400085a2da26"
          ]
        },
        "id": "S2jGUrVk_tal",
        "outputId": "6a9c4387-720e-4fda-a355-5e92619b9cc1"
      },
      "execution_count": 148,
      "outputs": [
        {
          "output_type": "stream",
          "name": "stderr",
          "text": [
            "Downloading: \"https://download.pytorch.org/models/alexnet-owt-7be5be79.pth\" to /root/.cache/torch/hub/checkpoints/alexnet-owt-7be5be79.pth\n"
          ]
        },
        {
          "output_type": "display_data",
          "data": {
            "text/plain": [
              "  0%|          | 0.00/233M [00:00<?, ?B/s]"
            ],
            "application/vnd.jupyter.widget-view+json": {
              "version_major": 2,
              "version_minor": 0,
              "model_id": "8ecf3fb1382e48a1a9bde23bedf88945"
            }
          },
          "metadata": {}
        },
        {
          "output_type": "stream",
          "name": "stdout",
          "text": [
            "features.0.weight\n",
            "features.0.bias\n",
            "features.3.weight\n",
            "features.3.bias\n",
            "features.6.weight\n",
            "features.6.bias\n",
            "features.8.weight\n",
            "features.8.bias\n",
            "features.10.weight\n",
            "features.10.bias\n",
            "classifier.1.weight\n",
            "classifier.1.bias\n",
            "classifier.4.weight\n",
            "classifier.4.bias\n",
            "classifier.6.weight\n",
            "classifier.6.bias\n"
          ]
        }
      ]
    },
    {
      "cell_type": "code",
      "source": [
        "model_alexnet, loss_alexnet, optim_alexnet = selective_finetuning_single_layer(models.alexnet, 'classifier')\n",
        "model_alexnet ,alexnet_train ,alexnet_test, alexnet_pred, alexnet_true = model(train,test,5,model_alexnet, loss_alexnet, optim_alexnet)"
      ],
      "metadata": {
        "colab": {
          "base_uri": "https://localhost:8080/"
        },
        "id": "18rfgdIf_x8R",
        "outputId": "9ea813a6-02e5-422d-9998-72d219c7dc72"
      },
      "execution_count": 149,
      "outputs": [
        {
          "output_type": "stream",
          "name": "stderr",
          "text": [
            "100%|██████████| 7/7 [02:06<00:00, 18.02s/it]\n",
            "100%|██████████| 7/7 [01:59<00:00, 17.02s/it]\n",
            "100%|██████████| 7/7 [01:57<00:00, 16.76s/it]\n",
            "100%|██████████| 7/7 [02:11<00:00, 18.76s/it]\n",
            "100%|██████████| 7/7 [02:05<00:00, 17.90s/it]\n"
          ]
        }
      ]
    },
    {
      "cell_type": "code",
      "source": [
        "cf_matrix_alexnet=confusion_matrix(alexnet_true,alexnet_pred)\n",
        "cf_matrix_alexnet"
      ],
      "metadata": {
        "colab": {
          "base_uri": "https://localhost:8080/"
        },
        "id": "JnQxatrV_x8S",
        "outputId": "e75fc4c2-4689-4e17-d84e-00fbbcb50334"
      },
      "execution_count": 150,
      "outputs": [
        {
          "output_type": "execute_result",
          "data": {
            "text/plain": [
              "array([[10,  5, 10,  0,  2],\n",
              "       [ 3,  3,  6,  0,  4],\n",
              "       [ 0,  1, 11,  0,  4],\n",
              "       [ 1,  1,  6,  2,  5],\n",
              "       [ 1,  2, 11,  0, 10]])"
            ]
          },
          "metadata": {},
          "execution_count": 150
        }
      ]
    },
    {
      "cell_type": "code",
      "source": [
        "plt.figure(figsize=(9,9))\n",
        "sns.heatmap(cf_matrix_alexnet, cbar=False, fmt='d', annot=True, cmap='Blues')\n",
        "plt.xlabel('Predicted')\n",
        "plt.ylabel('Actual')\n",
        "plt.title('Confusion matrix of the CNN Classifier')\n",
        "plt.show()"
      ],
      "metadata": {
        "colab": {
          "base_uri": "https://localhost:8080/",
          "height": 567
        },
        "id": "FA_estjm_x8S",
        "outputId": "f4908888-f3c7-48c3-a24a-f2982eb1620e"
      },
      "execution_count": 151,
      "outputs": [
        {
          "output_type": "display_data",
          "data": {
            "text/plain": [
              "<Figure size 648x648 with 1 Axes>"
            ],
            "image/png": "[encoded data removed]"
          },
          "metadata": {
            "needs_background": "light"
          }
        }
      ]
    },
    {
      "cell_type": "markdown",
      "source": [
        "# ResNet18 Training and Inference"
      ],
      "metadata": {
        "id": "Is9xs4hwa3Pg"
      }
    },
    {
      "cell_type": "code",
      "source": [
        "bifurcation(models.resnet18)"
      ],
      "metadata": {
        "colab": {
          "base_uri": "https://localhost:8080/",
          "height": 1000,
          "referenced_widgets": [
            "f27c9f669812421cbc7e998bc9814563",
            "e50ad5749acf4f18949a6d8bc96f987a",
            "35556492e918415eaa8b0e34ab2b5074",
            "232b2319eed54653a27af94ca64b7610",
            "83c52cc77def4c56842bcbd15a856200",
            "523cec551c684bc1a0bbb0a3b1a84bcf",
            "dbd2447f49ad4209bbcd66135b93c036",
            "6e8dbbdcf8e3466fae856ef820fcd155",
            "bba9f86208d040cdb6374fd1eb69dd6b",
            "12a848cdccff48189de11438b2aba8c1",
            "d31e0967fd02445fa54a72bd00307fa2"
          ]
        },
        "id": "A1iPt3HlDbxe",
        "outputId": "f510803b-1524-417f-aefb-916b570bc323"
      },
      "execution_count": 134,
      "outputs": [
        {
          "output_type": "stream",
          "name": "stderr",
          "text": [
            "Downloading: \"https://download.pytorch.org/models/resnet18-f37072fd.pth\" to /root/.cache/torch/hub/checkpoints/resnet18-f37072fd.pth\n"
          ]
        },
        {
          "output_type": "display_data",
          "data": {
            "text/plain": [
              "  0%|          | 0.00/44.7M [00:00<?, ?B/s]"
            ],
            "application/vnd.jupyter.widget-view+json": {
              "version_major": 2,
              "version_minor": 0,
              "model_id": "f27c9f669812421cbc7e998bc9814563"
            }
          },
          "metadata": {}
        },
        {
          "output_type": "stream",
          "name": "stdout",
          "text": [
            "conv1.weight\n",
            "bn1.weight\n",
            "bn1.bias\n",
            "bn1.running_mean\n",
            "bn1.running_var\n",
            "bn1.num_batches_tracked\n",
            "layer1.0.conv1.weight\n",
            "layer1.0.bn1.weight\n",
            "layer1.0.bn1.bias\n",
            "layer1.0.bn1.running_mean\n",
            "layer1.0.bn1.running_var\n",
            "layer1.0.bn1.num_batches_tracked\n",
            "layer1.0.conv2.weight\n",
            "layer1.0.bn2.weight\n",
            "layer1.0.bn2.bias\n",
            "layer1.0.bn2.running_mean\n",
            "layer1.0.bn2.running_var\n",
            "layer1.0.bn2.num_batches_tracked\n",
            "layer1.1.conv1.weight\n",
            "layer1.1.bn1.weight\n",
            "layer1.1.bn1.bias\n",
            "layer1.1.bn1.running_mean\n",
            "layer1.1.bn1.running_var\n",
            "layer1.1.bn1.num_batches_tracked\n",
            "layer1.1.conv2.weight\n",
            "layer1.1.bn2.weight\n",
            "layer1.1.bn2.bias\n",
            "layer1.1.bn2.running_mean\n",
            "layer1.1.bn2.running_var\n",
            "layer1.1.bn2.num_batches_tracked\n",
            "layer2.0.conv1.weight\n",
            "layer2.0.bn1.weight\n",
            "layer2.0.bn1.bias\n",
            "layer2.0.bn1.running_mean\n",
            "layer2.0.bn1.running_var\n",
            "layer2.0.bn1.num_batches_tracked\n",
            "layer2.0.conv2.weight\n",
            "layer2.0.bn2.weight\n",
            "layer2.0.bn2.bias\n",
            "layer2.0.bn2.running_mean\n",
            "layer2.0.bn2.running_var\n",
            "layer2.0.bn2.num_batches_tracked\n",
            "layer2.0.downsample.0.weight\n",
            "layer2.0.downsample.1.weight\n",
            "layer2.0.downsample.1.bias\n",
            "layer2.0.downsample.1.running_mean\n",
            "layer2.0.downsample.1.running_var\n",
            "layer2.0.downsample.1.num_batches_tracked\n",
            "layer2.1.conv1.weight\n",
            "layer2.1.bn1.weight\n",
            "layer2.1.bn1.bias\n",
            "layer2.1.bn1.running_mean\n",
            "layer2.1.bn1.running_var\n",
            "layer2.1.bn1.num_batches_tracked\n",
            "layer2.1.conv2.weight\n",
            "layer2.1.bn2.weight\n",
            "layer2.1.bn2.bias\n",
            "layer2.1.bn2.running_mean\n",
            "layer2.1.bn2.running_var\n",
            "layer2.1.bn2.num_batches_tracked\n",
            "layer3.0.conv1.weight\n",
            "layer3.0.bn1.weight\n",
            "layer3.0.bn1.bias\n",
            "layer3.0.bn1.running_mean\n",
            "layer3.0.bn1.running_var\n",
            "layer3.0.bn1.num_batches_tracked\n",
            "layer3.0.conv2.weight\n",
            "layer3.0.bn2.weight\n",
            "layer3.0.bn2.bias\n",
            "layer3.0.bn2.running_mean\n",
            "layer3.0.bn2.running_var\n",
            "layer3.0.bn2.num_batches_tracked\n",
            "layer3.0.downsample.0.weight\n",
            "layer3.0.downsample.1.weight\n",
            "layer3.0.downsample.1.bias\n",
            "layer3.0.downsample.1.running_mean\n",
            "layer3.0.downsample.1.running_var\n",
            "layer3.0.downsample.1.num_batches_tracked\n",
            "layer3.1.conv1.weight\n",
            "layer3.1.bn1.weight\n",
            "layer3.1.bn1.bias\n",
            "layer3.1.bn1.running_mean\n",
            "layer3.1.bn1.running_var\n",
            "layer3.1.bn1.num_batches_tracked\n",
            "layer3.1.conv2.weight\n",
            "layer3.1.bn2.weight\n",
            "layer3.1.bn2.bias\n",
            "layer3.1.bn2.running_mean\n",
            "layer3.1.bn2.running_var\n",
            "layer3.1.bn2.num_batches_tracked\n",
            "layer4.0.conv1.weight\n",
            "layer4.0.bn1.weight\n",
            "layer4.0.bn1.bias\n",
            "layer4.0.bn1.running_mean\n",
            "layer4.0.bn1.running_var\n",
            "layer4.0.bn1.num_batches_tracked\n",
            "layer4.0.conv2.weight\n",
            "layer4.0.bn2.weight\n",
            "layer4.0.bn2.bias\n",
            "layer4.0.bn2.running_mean\n",
            "layer4.0.bn2.running_var\n",
            "layer4.0.bn2.num_batches_tracked\n",
            "layer4.0.downsample.0.weight\n",
            "layer4.0.downsample.1.weight\n",
            "layer4.0.downsample.1.bias\n",
            "layer4.0.downsample.1.running_mean\n",
            "layer4.0.downsample.1.running_var\n",
            "layer4.0.downsample.1.num_batches_tracked\n",
            "layer4.1.conv1.weight\n",
            "layer4.1.bn1.weight\n",
            "layer4.1.bn1.bias\n",
            "layer4.1.bn1.running_mean\n",
            "layer4.1.bn1.running_var\n",
            "layer4.1.bn1.num_batches_tracked\n",
            "layer4.1.conv2.weight\n",
            "layer4.1.bn2.weight\n",
            "layer4.1.bn2.bias\n",
            "layer4.1.bn2.running_mean\n",
            "layer4.1.bn2.running_var\n",
            "layer4.1.bn2.num_batches_tracked\n",
            "fc.weight\n",
            "fc.bias\n"
          ]
        }
      ]
    },
    {
      "cell_type": "code",
      "source": [
        "model_resnet18, loss_resnet18, optim_resnet18 = selective_finetuning_single_layer(models.resnet18, 'fc')\n",
        "model_resnet18 ,resnet18_train ,resnet18_test, resnet18_pred, resnet18_true = model(train,test,5,model_resnet18, loss_resnet18, optim_resnet18)"
      ],
      "metadata": {
        "colab": {
          "base_uri": "https://localhost:8080/"
        },
        "id": "eoGJ2l1sDgDJ",
        "outputId": "56bc958e-a400-481a-dcd3-2e5197476503"
      },
      "execution_count": 135,
      "outputs": [
        {
          "output_type": "stream",
          "name": "stderr",
          "text": [
            "100%|██████████| 7/7 [01:59<00:00, 17.14s/it]\n",
            "100%|██████████| 7/7 [01:59<00:00, 17.06s/it]\n",
            "100%|██████████| 7/7 [01:57<00:00, 16.81s/it]\n",
            "100%|██████████| 7/7 [01:59<00:00, 17.05s/it]\n",
            "100%|██████████| 7/7 [01:57<00:00, 16.79s/it]\n"
          ]
        }
      ]
    },
    {
      "cell_type": "code",
      "source": [
        "cf_matrix_resnet18=confusion_matrix(resnet18_true,resnet18_pred)\n",
        "cf_matrix_resnet18"
      ],
      "metadata": {
        "colab": {
          "base_uri": "https://localhost:8080/"
        },
        "id": "zveb66BzDhIg",
        "outputId": "0219549d-dfb4-4b14-8c7a-9e5d970af30f"
      },
      "execution_count": 136,
      "outputs": [
        {
          "output_type": "execute_result",
          "data": {
            "text/plain": [
              "array([[5, 7, 5, 4, 6],\n",
              "       [4, 2, 4, 1, 5],\n",
              "       [4, 5, 1, 2, 4],\n",
              "       [4, 3, 1, 4, 3],\n",
              "       [6, 7, 3, 6, 2]])"
            ]
          },
          "metadata": {},
          "execution_count": 136
        }
      ]
    },
    {
      "cell_type": "code",
      "source": [
        "plt.figure(figsize=(9,9))\n",
        "sns.heatmap(cf_matrix_resnet18, cbar=False, fmt='d', annot=True, cmap='Blues')\n",
        "plt.xlabel('Predicted')\n",
        "plt.ylabel('Actual')\n",
        "plt.title('Confusion matrix of the CNN Classifier')\n",
        "plt.show()"
      ],
      "metadata": {
        "colab": {
          "base_uri": "https://localhost:8080/",
          "height": 567
        },
        "id": "u2GedBoYDiRd",
        "outputId": "d3dd1ccf-13d3-4cf0-c859-47c644d4b58a"
      },
      "execution_count": 143,
      "outputs": [
        {
          "output_type": "display_data",
          "data": {
            "text/plain": [
              "<Figure size 648x648 with 1 Axes>"
            ],
            "image/png": "[encoded data removed]"
          },
          "metadata": {
            "needs_background": "light"
          }
        }
      ]
    },
    {
      "cell_type": "markdown",
      "source": [
        "# Loss v/s Epochs and Accuracy v/s Epochs Curves"
      ],
      "metadata": {
        "id": "IxQwYmV0axWP"
      }
    },
    {
      "cell_type": "code",
      "source": [
        "plt.figure(figsize=(10,5))\n",
        "plt.plot([j for j in range(1,6)],[resnet18_train[i][1] for i in range(0,5)])\n",
        "plt.plot([j for j in range(1,6)],[vgg16_train[i][1] for i in range(0,5)])\n",
        "plt.plot([j for j in range(1,6)],[densenet121_train[i][1] for i in range(0,5)])\n",
        "plt.plot([j for j in range(1,6)],[mobilenet_v3_small_train[i][1] for i in range(0,5)])\n",
        "plt.plot([j for j in range(1,6)],[efficientnet_b0_train[i][1] for i in range(0,5)])\n",
        "plt.plot([j for j in range(1,6)],[alexnet_train[i][1] for i in range(0,5)])\n",
        "plt.xlabel(\"Epochs\")\n",
        "plt.ylabel(\"Average Loss\")\n",
        "plt.title(\"Loss v/s Epochs for Training\")\n",
        "plt.legend([\"ResNet18\",\"VGG16\",\"DenseNet121\",\"Mobilenet_v3_small\",\"Efficientnet_b0\",\"Alexnet\"])\n",
        "plt.show()"
      ],
      "metadata": {
        "colab": {
          "base_uri": "https://localhost:8080/",
          "height": 350
        },
        "id": "pDjBr3UkCym1",
        "outputId": "6abf2ebb-28af-4525-ca9b-bf934c716b42"
      },
      "execution_count": 152,
      "outputs": [
        {
          "output_type": "display_data",
          "data": {
            "text/plain": [
              "<Figure size 720x360 with 1 Axes>"
            ],
            "image/png": "[encoded data removed]"
          },
          "metadata": {
            "needs_background": "light"
          }
        }
      ]
    },
    {
      "cell_type": "code",
      "source": [
        "plt.figure(figsize=(10,5))\n",
        "plt.plot([j for j in range(1,6)],[resnet18_test[i][1] for i in range(0,5)])\n",
        "plt.plot([j for j in range(1,6)],[vgg16_test[i][1] for i in range(0,5)])\n",
        "plt.plot([j for j in range(1,6)],[densenet121_test[i][1] for i in range(0,5)])\n",
        "plt.plot([j for j in range(1,6)],[mobilenet_v3_small_test[i][1] for i in range(0,5)])\n",
        "plt.plot([j for j in range(1,6)],[efficientnet_b0_test[i][1] for i in range(0,5)])\n",
        "plt.plot([j for j in range(1,6)],[alexnet_test[i][1] for i in range(0,5)])\n",
        "plt.xlabel(\"Epochs\")\n",
        "plt.ylabel(\"Average Loss\")\n",
        "plt.title(\"Loss v/s Epochs for Testing\")\n",
        "plt.legend([\"ResNet18\",\"VGG16\",\"DenseNet121\",\"Mobilenet_v3_small\",\"Efficientnet_b0\",\"Alexnet\"])\n",
        "plt.show()"
      ],
      "metadata": {
        "colab": {
          "base_uri": "https://localhost:8080/",
          "height": 350
        },
        "id": "lHjLVb7SCzB3",
        "outputId": "bde4cc1e-36f0-494c-ba86-3020ecda6e26"
      },
      "execution_count": 153,
      "outputs": [
        {
          "output_type": "display_data",
          "data": {
            "text/plain": [
              "<Figure size 720x360 with 1 Axes>"
            ],
            "image/png": "[encoded data removed]"
          },
          "metadata": {
            "needs_background": "light"
          }
        }
      ]
    },
    {
      "cell_type": "code",
      "source": [
        "plt.figure(figsize=(10,5))\n",
        "plt.plot([j for j in range(1,6)],[resnet18_train[i][2].cpu().numpy() for i in range(0,5)])\n",
        "plt.plot([j for j in range(1,6)],[vgg16_train[i][2].cpu().numpy() for i in range(0,5)])\n",
        "plt.plot([j for j in range(1,6)],[densenet121_train[i][2].cpu().numpy() for i in range(0,5)])\n",
        "plt.plot([j for j in range(1,6)],[mobilenet_v3_small_train[i][2].cpu().numpy() for i in range(0,5)])\n",
        "plt.plot([j for j in range(1,6)],[efficientnet_b0_train[i][2].cpu().numpy() for i in range(0,5)])\n",
        "plt.plot([j for j in range(1,6)],[alexnet_train[i][2].cpu().numpy() for i in range(0,5)])\n",
        "plt.xlabel(\"Epochs\")\n",
        "plt.ylabel(\"Accuracy\")\n",
        "plt.title(\"Accuracy v/s Epochs for Training\")\n",
        "plt.legend([\"ResNet18\",\"VGG16\",\"DenseNet121\",\"Mobilenet_v3_small\",\"Efficientnet_b0\",\"Alexnet\"])\n",
        "plt.show()"
      ],
      "metadata": {
        "colab": {
          "base_uri": "https://localhost:8080/",
          "height": 350
        },
        "id": "5af6Yo1sCzLf",
        "outputId": "17886838-d1df-48c6-ef0e-910d4c9c367a"
      },
      "execution_count": 154,
      "outputs": [
        {
          "output_type": "display_data",
          "data": {
            "text/plain": [
              "<Figure size 720x360 with 1 Axes>"
            ],
            "image/png": "[encoded data removed]"
          },
          "metadata": {
            "needs_background": "light"
          }
        }
      ]
    },
    {
      "cell_type": "code",
      "source": [
        "plt.figure(figsize=(10,5))\n",
        "plt.plot([j for j in range(1,6)],[resnet18_test[i][2].cpu().numpy() for i in range(0,5)])\n",
        "plt.plot([j for j in range(1,6)],[vgg16_test[i][2].cpu().numpy() for i in range(0,5)])\n",
        "plt.plot([j for j in range(1,6)],[densenet121_test[i][2].cpu().numpy() for i in range(0,5)])\n",
        "plt.plot([j for j in range(1,6)],[mobilenet_v3_small_test[i][2].cpu().numpy() for i in range(0,5)])\n",
        "plt.plot([j for j in range(1,6)],[efficientnet_b0_test[i][2].cpu().numpy() for i in range(0,5)])\n",
        "plt.plot([j for j in range(1,6)],[alexnet_test[i][2].cpu().numpy() for i in range(0,5)])\n",
        "plt.xlabel(\"Epochs\")\n",
        "plt.ylabel(\"Accuracy\")\n",
        "plt.title(\"Accuracy v/s Epochs for Testing\")\n",
        "plt.legend([\"ResNet18\",\"VGG16\",\"DenseNet121\",\"Mobilenet_v3_small\",\"Efficientnet_b0\",\"Alexnet\"])\n",
        "plt.show()"
      ],
      "metadata": {
        "colab": {
          "base_uri": "https://localhost:8080/",
          "height": 350
        },
        "id": "Pzz2iWU4CzTo",
        "outputId": "fbe8d744-01e6-4f2d-d99f-fb508d121c2c"
      },
      "execution_count": 155,
      "outputs": [
        {
          "output_type": "display_data",
          "data": {
            "text/plain": [
              "<Figure size 720x360 with 1 Axes>"
            ],
            "image/png": "[encoded data removed]"
          },
          "metadata": {
            "needs_background": "light"
          }
        }
      ]
    },
    {
      "cell_type": "markdown",
      "source": [
        "#Wandb Saves"
      ],
      "metadata": {
        "id": "UKuG0U1wan_h"
      }
    },
    {
      "cell_type": "code",
      "source": [
        "import wandb\n",
        "\n",
        "torch.save(model_vgg16, '/content/drive/MyDrive/DL_Project_2/model_vgg16.pth')\n",
        "run = wandb.init(project='DL_Project_2')\n",
        "artifact = wandb.Artifact('VGG16', type='VGG16')\n",
        "artifact.add_file('/content/drive/MyDrive/DL_Project_2/model_vgg16.pth')\n",
        "run.log_artifact(artifact)\n",
        "run.join()"
      ],
      "metadata": {
        "colab": {
          "base_uri": "https://localhost:8080/",
          "height": 140,
          "referenced_widgets": [
            "a01de48d0c24442885dffcda58e66182",
            "ef2df8f4e5764befabaf6a048edd6ccc",
            "b3060b53b4314527a8dd6ecf14ee7225",
            "ceb8628dd101426b87def98dcbb46025",
            "0c880df760b547f98828985dfa35f098",
            "6d68bc70b3034181a1bfa93f574a0b2b",
            "1a3d0a278f824496ac896c5e9d790715",
            "f9d780c9911c4191b45ff20b445e0e00"
          ]
        },
        "id": "wD2JriC_Uci7",
        "outputId": "2458d637-6e99-4cf8-dcf9-5665f06fa2da"
      },
      "execution_count": 177,
      "outputs": [
        {
          "output_type": "display_data",
          "data": {
            "text/plain": [
              "<IPython.core.display.HTML object>"
            ],
            "text/html": [
              "Tracking run with wandb version 0.12.15"
            ]
          },
          "metadata": {}
        },
        {
          "output_type": "display_data",
          "data": {
            "text/plain": [
              "<IPython.core.display.HTML object>"
            ],
            "text/html": [
              "Run data is saved locally in <code>/content/wandb/run-20220502_212044-3cv15uec</code>"
            ]
          },
          "metadata": {}
        },
        {
          "output_type": "display_data",
          "data": {
            "text/plain": [
              "<IPython.core.display.HTML object>"
            ],
            "text/html": [
              "Syncing run <strong><a href=\"https://wandb.ai/kwanit1142/DL_Project_2/runs/3cv15uec\" target=\"_blank\">swept-rain-7</a></strong> to <a href=\"https://wandb.ai/kwanit1142/DL_Project_2\" target=\"_blank\">Weights & Biases</a> (<a href=\"https://wandb.me/run\" target=\"_blank\">docs</a>)<br/>"
            ]
          },
          "metadata": {}
        },
        {
          "output_type": "display_data",
          "data": {
            "text/plain": [
              "<IPython.core.display.HTML object>"
            ],
            "text/html": [
              "Waiting for W&B process to finish... <strong style=\"color:green\">(success).</strong>"
            ]
          },
          "metadata": {}
        },
        {
          "output_type": "display_data",
          "data": {
            "text/plain": [
              "VBox(children=(Label(value='527.810 MB of 527.810 MB uploaded (0.000 MB deduped)\\r'), FloatProgress(value=1.0,…"
            ],
            "application/vnd.jupyter.widget-view+json": {
              "version_major": 2,
              "version_minor": 0,
              "model_id": "a01de48d0c24442885dffcda58e66182"
            }
          },
          "metadata": {}
        },
        {
          "output_type": "display_data",
          "data": {
            "text/plain": [
              "<IPython.core.display.HTML object>"
            ],
            "text/html": [
              "Synced <strong style=\"color:#cdcd00\">swept-rain-7</strong>: <a href=\"https://wandb.ai/kwanit1142/DL_Project_2/runs/3cv15uec\" target=\"_blank\">https://wandb.ai/kwanit1142/DL_Project_2/runs/3cv15uec</a><br/>Synced 4 W&B file(s), 0 media file(s), 1 artifact file(s) and 0 other file(s)"
            ]
          },
          "metadata": {}
        },
        {
          "output_type": "display_data",
          "data": {
            "text/plain": [
              "<IPython.core.display.HTML object>"
            ],
            "text/html": [
              "Find logs at: <code>./wandb/run-20220502_212044-3cv15uec/logs</code>"
            ]
          },
          "metadata": {}
        }
      ]
    },
    {
      "cell_type": "code",
      "source": [
        "torch.save(model_alexnet, '/content/drive/MyDrive/DL_Project_2/model_alexnet.pth')\n",
        "run = wandb.init(project='DL_Project_2')\n",
        "artifact = wandb.Artifact('alexnet', type='alexnet')\n",
        "artifact.add_file('/content/drive/MyDrive/DL_Project_2/model_alexnet.pth')\n",
        "run.log_artifact(artifact)\n",
        "run.join()"
      ],
      "metadata": {
        "colab": {
          "base_uri": "https://localhost:8080/",
          "height": 140,
          "referenced_widgets": [
            "b9e4037fe3d545aebac25c727009771a",
            "53bf4d59be64425480573b80a5003466",
            "27d9573925724a08b92ed5ab3167c555",
            "cfd4020da56c42eaa003a50a631b7656",
            "25e29c1151694b31a4020a65e8032b73",
            "b7cec472516341e5bfbec37c30a059c2",
            "9ab220e5998940998a739bd6a9220e30",
            "37b223d7ba374f39a1320f0e180ed4f7"
          ]
        },
        "id": "PCiwxj_LYL8i",
        "outputId": "c6037706-bde7-4e18-a11d-92e887f459d0"
      },
      "execution_count": 178,
      "outputs": [
        {
          "output_type": "display_data",
          "data": {
            "text/plain": [
              "<IPython.core.display.HTML object>"
            ],
            "text/html": [
              "Tracking run with wandb version 0.12.15"
            ]
          },
          "metadata": {}
        },
        {
          "output_type": "display_data",
          "data": {
            "text/plain": [
              "<IPython.core.display.HTML object>"
            ],
            "text/html": [
              "Run data is saved locally in <code>/content/wandb/run-20220502_212127-2w0pu770</code>"
            ]
          },
          "metadata": {}
        },
        {
          "output_type": "display_data",
          "data": {
            "text/plain": [
              "<IPython.core.display.HTML object>"
            ],
            "text/html": [
              "Syncing run <strong><a href=\"https://wandb.ai/kwanit1142/DL_Project_2/runs/2w0pu770\" target=\"_blank\">sweet-elevator-8</a></strong> to <a href=\"https://wandb.ai/kwanit1142/DL_Project_2\" target=\"_blank\">Weights & Biases</a> (<a href=\"https://wandb.me/run\" target=\"_blank\">docs</a>)<br/>"
            ]
          },
          "metadata": {}
        },
        {
          "output_type": "display_data",
          "data": {
            "text/plain": [
              "<IPython.core.display.HTML object>"
            ],
            "text/html": [
              "Waiting for W&B process to finish... <strong style=\"color:green\">(success).</strong>"
            ]
          },
          "metadata": {}
        },
        {
          "output_type": "display_data",
          "data": {
            "text/plain": [
              "VBox(children=(Label(value='233.091 MB of 233.091 MB uploaded (0.000 MB deduped)\\r'), FloatProgress(value=1.0,…"
            ],
            "application/vnd.jupyter.widget-view+json": {
              "version_major": 2,
              "version_minor": 0,
              "model_id": "b9e4037fe3d545aebac25c727009771a"
            }
          },
          "metadata": {}
        },
        {
          "output_type": "display_data",
          "data": {
            "text/plain": [
              "<IPython.core.display.HTML object>"
            ],
            "text/html": [
              "Synced <strong style=\"color:#cdcd00\">sweet-elevator-8</strong>: <a href=\"https://wandb.ai/kwanit1142/DL_Project_2/runs/2w0pu770\" target=\"_blank\">https://wandb.ai/kwanit1142/DL_Project_2/runs/2w0pu770</a><br/>Synced 4 W&B file(s), 0 media file(s), 1 artifact file(s) and 0 other file(s)"
            ]
          },
          "metadata": {}
        },
        {
          "output_type": "display_data",
          "data": {
            "text/plain": [
              "<IPython.core.display.HTML object>"
            ],
            "text/html": [
              "Find logs at: <code>./wandb/run-20220502_212127-2w0pu770/logs</code>"
            ]
          },
          "metadata": {}
        }
      ]
    },
    {
      "cell_type": "code",
      "source": [
        "torch.save(model_efficientnet_b0, '/content/drive/MyDrive/DL_Project_2/model_efficientnet_b0.pth')\n",
        "run = wandb.init(project='DL_Project_2')\n",
        "artifact = wandb.Artifact('efficientnet_b0', type='efficientnet_b0')\n",
        "artifact.add_file('/content/drive/MyDrive/DL_Project_2/model_efficientnet_b0.pth')\n",
        "run.log_artifact(artifact)\n",
        "run.join()"
      ],
      "metadata": {
        "colab": {
          "base_uri": "https://localhost:8080/",
          "height": 140,
          "referenced_widgets": [
            "2d5ad490cf764d63a600489fc9dd80c0",
            "7cab89def6914cc28e2f58b5a684022e",
            "0d4e20eea6f24c28846c404e556a582b",
            "412c41b032414f2c9c981d1be027c767",
            "ec28077a179e490594c26f481b9245fc",
            "13a5fd8d094542dca89991e856e8c60d",
            "22ac771aea5343cbb224d37780a27598",
            "459802632d43412590e8761a0253d6e8"
          ]
        },
        "id": "3kSQ4K09YMFr",
        "outputId": "11e51a58-8c48-4100-fb83-611c265e0607"
      },
      "execution_count": 179,
      "outputs": [
        {
          "output_type": "display_data",
          "data": {
            "text/plain": [
              "<IPython.core.display.HTML object>"
            ],
            "text/html": [
              "Tracking run with wandb version 0.12.15"
            ]
          },
          "metadata": {}
        },
        {
          "output_type": "display_data",
          "data": {
            "text/plain": [
              "<IPython.core.display.HTML object>"
            ],
            "text/html": [
              "Run data is saved locally in <code>/content/wandb/run-20220502_212155-3esyh43p</code>"
            ]
          },
          "metadata": {}
        },
        {
          "output_type": "display_data",
          "data": {
            "text/plain": [
              "<IPython.core.display.HTML object>"
            ],
            "text/html": [
              "Syncing run <strong><a href=\"https://wandb.ai/kwanit1142/DL_Project_2/runs/3esyh43p\" target=\"_blank\">glad-monkey-9</a></strong> to <a href=\"https://wandb.ai/kwanit1142/DL_Project_2\" target=\"_blank\">Weights & Biases</a> (<a href=\"https://wandb.me/run\" target=\"_blank\">docs</a>)<br/>"
            ]
          },
          "metadata": {}
        },
        {
          "output_type": "display_data",
          "data": {
            "text/plain": [
              "<IPython.core.display.HTML object>"
            ],
            "text/html": [
              "Waiting for W&B process to finish... <strong style=\"color:green\">(success).</strong>"
            ]
          },
          "metadata": {}
        },
        {
          "output_type": "display_data",
          "data": {
            "text/plain": [
              "VBox(children=(Label(value='20.493 MB of 20.493 MB uploaded (0.000 MB deduped)\\r'), FloatProgress(value=1.0, m…"
            ],
            "application/vnd.jupyter.widget-view+json": {
              "version_major": 2,
              "version_minor": 0,
              "model_id": "2d5ad490cf764d63a600489fc9dd80c0"
            }
          },
          "metadata": {}
        },
        {
          "output_type": "display_data",
          "data": {
            "text/plain": [
              "<IPython.core.display.HTML object>"
            ],
            "text/html": [
              "Synced <strong style=\"color:#cdcd00\">glad-monkey-9</strong>: <a href=\"https://wandb.ai/kwanit1142/DL_Project_2/runs/3esyh43p\" target=\"_blank\">https://wandb.ai/kwanit1142/DL_Project_2/runs/3esyh43p</a><br/>Synced 4 W&B file(s), 0 media file(s), 1 artifact file(s) and 0 other file(s)"
            ]
          },
          "metadata": {}
        },
        {
          "output_type": "display_data",
          "data": {
            "text/plain": [
              "<IPython.core.display.HTML object>"
            ],
            "text/html": [
              "Find logs at: <code>./wandb/run-20220502_212155-3esyh43p/logs</code>"
            ]
          },
          "metadata": {}
        }
      ]
    },
    {
      "cell_type": "code",
      "source": [
        "torch.save(model_mobilenet_v3_small, '/content/drive/MyDrive/DL_Project_2/model_mobilenet_v3_small.pth')\n",
        "run = wandb.init(project='DL_Project_2')\n",
        "artifact = wandb.Artifact('mobilenet_v3_small', type='mobilenet_v3_small')\n",
        "artifact.add_file('/content/drive/MyDrive/DL_Project_2/model_mobilenet_v3_small.pth')\n",
        "run.log_artifact(artifact)\n",
        "run.join()"
      ],
      "metadata": {
        "colab": {
          "base_uri": "https://localhost:8080/",
          "height": 140,
          "referenced_widgets": [
            "4784de1d63bd4267829511dd8b24e226",
            "f82459b7c16e4a738934e6db06e7f32b",
            "b3551ba823b4428ea3f6e48758a7f07e",
            "d43f6b2879c040988f13b0e9d3016d76",
            "ed2553bfa9544059ac8a874bc917cd92",
            "a6fe7896d0494c738e430b10e18afee1",
            "6be0d592c47b4357ba83917bdf4cbfe3",
            "340879e49f724ee79b11ef61d8b8564c"
          ]
        },
        "id": "SaFJg7G5YMOG",
        "outputId": "2a471f42-f6cc-40c4-c936-9be376675181"
      },
      "execution_count": 180,
      "outputs": [
        {
          "output_type": "display_data",
          "data": {
            "text/plain": [
              "<IPython.core.display.HTML object>"
            ],
            "text/html": [
              "Tracking run with wandb version 0.12.15"
            ]
          },
          "metadata": {}
        },
        {
          "output_type": "display_data",
          "data": {
            "text/plain": [
              "<IPython.core.display.HTML object>"
            ],
            "text/html": [
              "Run data is saved locally in <code>/content/wandb/run-20220502_212212-20skqwma</code>"
            ]
          },
          "metadata": {}
        },
        {
          "output_type": "display_data",
          "data": {
            "text/plain": [
              "<IPython.core.display.HTML object>"
            ],
            "text/html": [
              "Syncing run <strong><a href=\"https://wandb.ai/kwanit1142/DL_Project_2/runs/20skqwma\" target=\"_blank\">summer-eon-10</a></strong> to <a href=\"https://wandb.ai/kwanit1142/DL_Project_2\" target=\"_blank\">Weights & Biases</a> (<a href=\"https://wandb.me/run\" target=\"_blank\">docs</a>)<br/>"
            ]
          },
          "metadata": {}
        },
        {
          "output_type": "display_data",
          "data": {
            "text/plain": [
              "<IPython.core.display.HTML object>"
            ],
            "text/html": [
              "Waiting for W&B process to finish... <strong style=\"color:green\">(success).</strong>"
            ]
          },
          "metadata": {}
        },
        {
          "output_type": "display_data",
          "data": {
            "text/plain": [
              "VBox(children=(Label(value='9.850 MB of 9.850 MB uploaded (0.000 MB deduped)\\r'), FloatProgress(value=1.0, max…"
            ],
            "application/vnd.jupyter.widget-view+json": {
              "version_major": 2,
              "version_minor": 0,
              "model_id": "4784de1d63bd4267829511dd8b24e226"
            }
          },
          "metadata": {}
        },
        {
          "output_type": "display_data",
          "data": {
            "text/plain": [
              "<IPython.core.display.HTML object>"
            ],
            "text/html": [
              "Synced <strong style=\"color:#cdcd00\">summer-eon-10</strong>: <a href=\"https://wandb.ai/kwanit1142/DL_Project_2/runs/20skqwma\" target=\"_blank\">https://wandb.ai/kwanit1142/DL_Project_2/runs/20skqwma</a><br/>Synced 4 W&B file(s), 0 media file(s), 1 artifact file(s) and 0 other file(s)"
            ]
          },
          "metadata": {}
        },
        {
          "output_type": "display_data",
          "data": {
            "text/plain": [
              "<IPython.core.display.HTML object>"
            ],
            "text/html": [
              "Find logs at: <code>./wandb/run-20220502_212212-20skqwma/logs</code>"
            ]
          },
          "metadata": {}
        }
      ]
    },
    {
      "cell_type": "code",
      "source": [
        "torch.save(model_resnet18, '/content/drive/MyDrive/DL_Project_2/model_resnet18.pth')\n",
        "run = wandb.init(project='DL_Project_2')\n",
        "artifact = wandb.Artifact('resnet18', type='resnet18')\n",
        "artifact.add_file('/content/drive/MyDrive/DL_Project_2/model_resnet18.pth')\n",
        "run.log_artifact(artifact)\n",
        "run.join()"
      ],
      "metadata": {
        "colab": {
          "base_uri": "https://localhost:8080/",
          "height": 140,
          "referenced_widgets": [
            "cf535c82675f4dd2a9cd810bd34b0d96",
            "3bcacbe04f114984abe9b50e265ff6e7",
            "6ab1ca1adf664d03ba4d109c86bdcc0d",
            "41992c83b4e0410d87f40c1437631a85",
            "8c311f831f2943299af76d97359affea",
            "7c38eca3091f444999eef9df56d3c9b2",
            "9897b3f9b87a40819cac9cd547dee7cc",
            "a6e66ecbaf594edcb85c530a7ee3cd03"
          ]
        },
        "id": "fQb8-jzdYMWQ",
        "outputId": "2a27cfae-327f-4a52-d2cc-931a636128f9"
      },
      "execution_count": 181,
      "outputs": [
        {
          "output_type": "display_data",
          "data": {
            "text/plain": [
              "<IPython.core.display.HTML object>"
            ],
            "text/html": [
              "Tracking run with wandb version 0.12.15"
            ]
          },
          "metadata": {}
        },
        {
          "output_type": "display_data",
          "data": {
            "text/plain": [
              "<IPython.core.display.HTML object>"
            ],
            "text/html": [
              "Run data is saved locally in <code>/content/wandb/run-20220502_212230-3nsr8676</code>"
            ]
          },
          "metadata": {}
        },
        {
          "output_type": "display_data",
          "data": {
            "text/plain": [
              "<IPython.core.display.HTML object>"
            ],
            "text/html": [
              "Syncing run <strong><a href=\"https://wandb.ai/kwanit1142/DL_Project_2/runs/3nsr8676\" target=\"_blank\">grateful-wind-11</a></strong> to <a href=\"https://wandb.ai/kwanit1142/DL_Project_2\" target=\"_blank\">Weights & Biases</a> (<a href=\"https://wandb.me/run\" target=\"_blank\">docs</a>)<br/>"
            ]
          },
          "metadata": {}
        },
        {
          "output_type": "display_data",
          "data": {
            "text/plain": [
              "<IPython.core.display.HTML object>"
            ],
            "text/html": [
              "Waiting for W&B process to finish... <strong style=\"color:green\">(success).</strong>"
            ]
          },
          "metadata": {}
        },
        {
          "output_type": "display_data",
          "data": {
            "text/plain": [
              "VBox(children=(Label(value='44.675 MB of 44.675 MB uploaded (0.000 MB deduped)\\r'), FloatProgress(value=1.0, m…"
            ],
            "application/vnd.jupyter.widget-view+json": {
              "version_major": 2,
              "version_minor": 0,
              "model_id": "cf535c82675f4dd2a9cd810bd34b0d96"
            }
          },
          "metadata": {}
        },
        {
          "output_type": "display_data",
          "data": {
            "text/plain": [
              "<IPython.core.display.HTML object>"
            ],
            "text/html": [
              "Synced <strong style=\"color:#cdcd00\">grateful-wind-11</strong>: <a href=\"https://wandb.ai/kwanit1142/DL_Project_2/runs/3nsr8676\" target=\"_blank\">https://wandb.ai/kwanit1142/DL_Project_2/runs/3nsr8676</a><br/>Synced 4 W&B file(s), 0 media file(s), 1 artifact file(s) and 0 other file(s)"
            ]
          },
          "metadata": {}
        },
        {
          "output_type": "display_data",
          "data": {
            "text/plain": [
              "<IPython.core.display.HTML object>"
            ],
            "text/html": [
              "Find logs at: <code>./wandb/run-20220502_212230-3nsr8676/logs</code>"
            ]
          },
          "metadata": {}
        }
      ]
    },
    {
      "cell_type": "code",
      "source": [
        "torch.save(model_densenet121, '/content/drive/MyDrive/DL_Project_2/model_densenet121.pth')\n",
        "run = wandb.init(project='DL_Project_2')\n",
        "artifact = wandb.Artifact('densenet121', type='densenet121')\n",
        "artifact.add_file('/content/drive/MyDrive/DL_Project_2/model_densenet121.pth')\n",
        "run.log_artifact(artifact)\n",
        "run.join()"
      ],
      "metadata": {
        "colab": {
          "base_uri": "https://localhost:8080/",
          "height": 140,
          "referenced_widgets": [
            "8acc1ea736fc4e07bb5483f94aa024ee",
            "6d6c97743f1240c594c54878c325bf76",
            "1e4b3c091a764e2881e4d3badc6b055c",
            "55daf0a1e09c44818670430a6c6a52cf",
            "d123198f27cc4ec698b2cb0dc9b46e0b",
            "da9869f9dc6d41ff99ac886e8dd6f6af",
            "f2e64db385d947b497d87e2aa8a030f0",
            "212edffb8b504dc7b98bcd90225b3bfb"
          ]
        },
        "id": "MC-zzpS8YMeD",
        "outputId": "ca637bc3-3e4d-447e-8e89-470c2dba0204"
      },
      "execution_count": 182,
      "outputs": [
        {
          "output_type": "display_data",
          "data": {
            "text/plain": [
              "<IPython.core.display.HTML object>"
            ],
            "text/html": [
              "Tracking run with wandb version 0.12.15"
            ]
          },
          "metadata": {}
        },
        {
          "output_type": "display_data",
          "data": {
            "text/plain": [
              "<IPython.core.display.HTML object>"
            ],
            "text/html": [
              "Run data is saved locally in <code>/content/wandb/run-20220502_212250-3g5r6r7v</code>"
            ]
          },
          "metadata": {}
        },
        {
          "output_type": "display_data",
          "data": {
            "text/plain": [
              "<IPython.core.display.HTML object>"
            ],
            "text/html": [
              "Syncing run <strong><a href=\"https://wandb.ai/kwanit1142/DL_Project_2/runs/3g5r6r7v\" target=\"_blank\">sparkling-yogurt-12</a></strong> to <a href=\"https://wandb.ai/kwanit1142/DL_Project_2\" target=\"_blank\">Weights & Biases</a> (<a href=\"https://wandb.me/run\" target=\"_blank\">docs</a>)<br/>"
            ]
          },
          "metadata": {}
        },
        {
          "output_type": "display_data",
          "data": {
            "text/plain": [
              "<IPython.core.display.HTML object>"
            ],
            "text/html": [
              "Waiting for W&B process to finish... <strong style=\"color:green\">(success).</strong>"
            ]
          },
          "metadata": {}
        },
        {
          "output_type": "display_data",
          "data": {
            "text/plain": [
              "VBox(children=(Label(value='31.035 MB of 31.035 MB uploaded (0.000 MB deduped)\\r'), FloatProgress(value=1.0, m…"
            ],
            "application/vnd.jupyter.widget-view+json": {
              "version_major": 2,
              "version_minor": 0,
              "model_id": "8acc1ea736fc4e07bb5483f94aa024ee"
            }
          },
          "metadata": {}
        },
        {
          "output_type": "display_data",
          "data": {
            "text/plain": [
              "<IPython.core.display.HTML object>"
            ],
            "text/html": [
              "Synced <strong style=\"color:#cdcd00\">sparkling-yogurt-12</strong>: <a href=\"https://wandb.ai/kwanit1142/DL_Project_2/runs/3g5r6r7v\" target=\"_blank\">https://wandb.ai/kwanit1142/DL_Project_2/runs/3g5r6r7v</a><br/>Synced 4 W&B file(s), 0 media file(s), 1 artifact file(s) and 0 other file(s)"
            ]
          },
          "metadata": {}
        },
        {
          "output_type": "display_data",
          "data": {
            "text/plain": [
              "<IPython.core.display.HTML object>"
            ],
            "text/html": [
              "Find logs at: <code>./wandb/run-20220502_212250-3g5r6r7v/logs</code>"
            ]
          },
          "metadata": {}
        }
      ]
    },
    {
      "cell_type": "code",
      "source": [
        "!pip install wandb"
      ],
      "metadata": {
        "colab": {
          "base_uri": "https://localhost:8080/"
        },
        "id": "nTex0b07ZCBc",
        "outputId": "cb0edd3d-2f58-4f9c-ac65-7a8e9c7e5fb3"
      },
      "execution_count": 157,
      "outputs": [
        {
          "output_type": "stream",
          "name": "stdout",
          "text": [
            "Collecting wandb\n",
            "  Downloading wandb-0.12.15-py2.py3-none-any.whl (1.8 MB)\n",
            "\u001b[?25l\r\u001b[K     |▏                               | 10 kB 38.4 MB/s eta 0:00:01\r\u001b[K     |▍                               | 20 kB 46.5 MB/s eta 0:00:01\r\u001b[K     |▌                               | 30 kB 41.7 MB/s eta 0:00:01\r\u001b[K     |▊                               | 40 kB 29.2 MB/s eta 0:00:01\r\u001b[K     |█                               | 51 kB 32.6 MB/s eta 0:00:01\r\u001b[K     |█                               | 61 kB 36.6 MB/s eta 0:00:01\r\u001b[K     |█▎                              | 71 kB 25.6 MB/s eta 0:00:01\r\u001b[K     |█▌                              | 81 kB 27.4 MB/s eta 0:00:01\r\u001b[K     |█▋                              | 92 kB 29.4 MB/s eta 0:00:01\r\u001b[K     |█▉                              | 102 kB 31.1 MB/s eta 0:00:01\r\u001b[K     |██                              | 112 kB 31.1 MB/s eta 0:00:01\r\u001b[K     |██▏                             | 122 kB 31.1 MB/s eta 0:00:01\r\u001b[K     |██▍                             | 133 kB 31.1 MB/s eta 0:00:01\r\u001b[K     |██▋                             | 143 kB 31.1 MB/s eta 0:00:01\r\u001b[K     |██▊                             | 153 kB 31.1 MB/s eta 0:00:01\r\u001b[K     |███                             | 163 kB 31.1 MB/s eta 0:00:01\r\u001b[K     |███▏                            | 174 kB 31.1 MB/s eta 0:00:01\r\u001b[K     |███▎                            | 184 kB 31.1 MB/s eta 0:00:01\r\u001b[K     |███▌                            | 194 kB 31.1 MB/s eta 0:00:01\r\u001b[K     |███▊                            | 204 kB 31.1 MB/s eta 0:00:01\r\u001b[K     |███▉                            | 215 kB 31.1 MB/s eta 0:00:01\r\u001b[K     |████                            | 225 kB 31.1 MB/s eta 0:00:01\r\u001b[K     |████▎                           | 235 kB 31.1 MB/s eta 0:00:01\r\u001b[K     |████▍                           | 245 kB 31.1 MB/s eta 0:00:01\r\u001b[K     |████▋                           | 256 kB 31.1 MB/s eta 0:00:01\r\u001b[K     |████▉                           | 266 kB 31.1 MB/s eta 0:00:01\r\u001b[K     |█████                           | 276 kB 31.1 MB/s eta 0:00:01\r\u001b[K     |█████▏                          | 286 kB 31.1 MB/s eta 0:00:01\r\u001b[K     |█████▍                          | 296 kB 31.1 MB/s eta 0:00:01\r\u001b[K     |█████▌                          | 307 kB 31.1 MB/s eta 0:00:01\r\u001b[K     |█████▊                          | 317 kB 31.1 MB/s eta 0:00:01\r\u001b[K     |██████                          | 327 kB 31.1 MB/s eta 0:00:01\r\u001b[K     |██████                          | 337 kB 31.1 MB/s eta 0:00:01\r\u001b[K     |██████▎                         | 348 kB 31.1 MB/s eta 0:00:01\r\u001b[K     |██████▌                         | 358 kB 31.1 MB/s eta 0:00:01\r\u001b[K     |██████▋                         | 368 kB 31.1 MB/s eta 0:00:01\r\u001b[K     |██████▉                         | 378 kB 31.1 MB/s eta 0:00:01\r\u001b[K     |███████                         | 389 kB 31.1 MB/s eta 0:00:01\r\u001b[K     |███████▏                        | 399 kB 31.1 MB/s eta 0:00:01\r\u001b[K     |███████▍                        | 409 kB 31.1 MB/s eta 0:00:01\r\u001b[K     |███████▋                        | 419 kB 31.1 MB/s eta 0:00:01\r\u001b[K     |███████▊                        | 430 kB 31.1 MB/s eta 0:00:01\r\u001b[K     |████████                        | 440 kB 31.1 MB/s eta 0:00:01\r\u001b[K     |████████▏                       | 450 kB 31.1 MB/s eta 0:00:01\r\u001b[K     |████████▎                       | 460 kB 31.1 MB/s eta 0:00:01\r\u001b[K     |████████▌                       | 471 kB 31.1 MB/s eta 0:00:01\r\u001b[K     |████████▊                       | 481 kB 31.1 MB/s eta 0:00:01\r\u001b[K     |████████▉                       | 491 kB 31.1 MB/s eta 0:00:01\r\u001b[K     |█████████                       | 501 kB 31.1 MB/s eta 0:00:01\r\u001b[K     |█████████▎                      | 512 kB 31.1 MB/s eta 0:00:01\r\u001b[K     |█████████▍                      | 522 kB 31.1 MB/s eta 0:00:01\r\u001b[K     |█████████▋                      | 532 kB 31.1 MB/s eta 0:00:01\r\u001b[K     |█████████▉                      | 542 kB 31.1 MB/s eta 0:00:01\r\u001b[K     |██████████                      | 552 kB 31.1 MB/s eta 0:00:01\r\u001b[K     |██████████▏                     | 563 kB 31.1 MB/s eta 0:00:01\r\u001b[K     |██████████▍                     | 573 kB 31.1 MB/s eta 0:00:01\r\u001b[K     |██████████▌                     | 583 kB 31.1 MB/s eta 0:00:01\r\u001b[K     |██████████▊                     | 593 kB 31.1 MB/s eta 0:00:01\r\u001b[K     |███████████                     | 604 kB 31.1 MB/s eta 0:00:01\r\u001b[K     |███████████                     | 614 kB 31.1 MB/s eta 0:00:01\r\u001b[K     |███████████▎                    | 624 kB 31.1 MB/s eta 0:00:01\r\u001b[K     |███████████▌                    | 634 kB 31.1 MB/s eta 0:00:01\r\u001b[K     |███████████▋                    | 645 kB 31.1 MB/s eta 0:00:01\r\u001b[K     |███████████▉                    | 655 kB 31.1 MB/s eta 0:00:01\r\u001b[K     |████████████                    | 665 kB 31.1 MB/s eta 0:00:01\r\u001b[K     |████████████▏                   | 675 kB 31.1 MB/s eta 0:00:01\r\u001b[K     |████████████▍                   | 686 kB 31.1 MB/s eta 0:00:01\r\u001b[K     |████████████▋                   | 696 kB 31.1 MB/s eta 0:00:01\r\u001b[K     |████████████▊                   | 706 kB 31.1 MB/s eta 0:00:01\r\u001b[K     |█████████████                   | 716 kB 31.1 MB/s eta 0:00:01\r\u001b[K     |█████████████▏                  | 727 kB 31.1 MB/s eta 0:00:01\r\u001b[K     |█████████████▎                  | 737 kB 31.1 MB/s eta 0:00:01\r\u001b[K     |█████████████▌                  | 747 kB 31.1 MB/s eta 0:00:01\r\u001b[K     |█████████████▊                  | 757 kB 31.1 MB/s eta 0:00:01\r\u001b[K     |█████████████▉                  | 768 kB 31.1 MB/s eta 0:00:01\r\u001b[K     |██████████████                  | 778 kB 31.1 MB/s eta 0:00:01\r\u001b[K     |██████████████▏                 | 788 kB 31.1 MB/s eta 0:00:01\r\u001b[K     |██████████████▍                 | 798 kB 31.1 MB/s eta 0:00:01\r\u001b[K     |██████████████▋                 | 808 kB 31.1 MB/s eta 0:00:01\r\u001b[K     |██████████████▊                 | 819 kB 31.1 MB/s eta 0:00:01\r\u001b[K     |███████████████                 | 829 kB 31.1 MB/s eta 0:00:01\r\u001b[K     |███████████████▏                | 839 kB 31.1 MB/s eta 0:00:01\r\u001b[K     |███████████████▎                | 849 kB 31.1 MB/s eta 0:00:01\r\u001b[K     |███████████████▌                | 860 kB 31.1 MB/s eta 0:00:01\r\u001b[K     |███████████████▊                | 870 kB 31.1 MB/s eta 0:00:01\r\u001b[K     |███████████████▉                | 880 kB 31.1 MB/s eta 0:00:01\r\u001b[K     |████████████████                | 890 kB 31.1 MB/s eta 0:00:01\r\u001b[K     |████████████████▎               | 901 kB 31.1 MB/s eta 0:00:01\r\u001b[K     |████████████████▍               | 911 kB 31.1 MB/s eta 0:00:01\r\u001b[K     |████████████████▋               | 921 kB 31.1 MB/s eta 0:00:01\r\u001b[K     |████████████████▉               | 931 kB 31.1 MB/s eta 0:00:01\r\u001b[K     |█████████████████               | 942 kB 31.1 MB/s eta 0:00:01\r\u001b[K     |█████████████████▏              | 952 kB 31.1 MB/s eta 0:00:01\r\u001b[K     |█████████████████▍              | 962 kB 31.1 MB/s eta 0:00:01\r\u001b[K     |█████████████████▌              | 972 kB 31.1 MB/s eta 0:00:01\r\u001b[K     |█████████████████▊              | 983 kB 31.1 MB/s eta 0:00:01\r\u001b[K     |██████████████████              | 993 kB 31.1 MB/s eta 0:00:01\r\u001b[K     |██████████████████              | 1.0 MB 31.1 MB/s eta 0:00:01\r\u001b[K     |██████████████████▎             | 1.0 MB 31.1 MB/s eta 0:00:01\r\u001b[K     |██████████████████▌             | 1.0 MB 31.1 MB/s eta 0:00:01\r\u001b[K     |██████████████████▋             | 1.0 MB 31.1 MB/s eta 0:00:01\r\u001b[K     |██████████████████▉             | 1.0 MB 31.1 MB/s eta 0:00:01\r\u001b[K     |███████████████████             | 1.1 MB 31.1 MB/s eta 0:00:01\r\u001b[K     |███████████████████▏            | 1.1 MB 31.1 MB/s eta 0:00:01\r\u001b[K     |███████████████████▍            | 1.1 MB 31.1 MB/s eta 0:00:01\r\u001b[K     |███████████████████▋            | 1.1 MB 31.1 MB/s eta 0:00:01\r\u001b[K     |███████████████████▊            | 1.1 MB 31.1 MB/s eta 0:00:01\r\u001b[K     |████████████████████            | 1.1 MB 31.1 MB/s eta 0:00:01\r\u001b[K     |████████████████████▏           | 1.1 MB 31.1 MB/s eta 0:00:01\r\u001b[K     |████████████████████▎           | 1.1 MB 31.1 MB/s eta 0:00:01\r\u001b[K     |████████████████████▌           | 1.1 MB 31.1 MB/s eta 0:00:01\r\u001b[K     |████████████████████▊           | 1.1 MB 31.1 MB/s eta 0:00:01\r\u001b[K     |████████████████████▉           | 1.2 MB 31.1 MB/s eta 0:00:01\r\u001b[K     |█████████████████████           | 1.2 MB 31.1 MB/s eta 0:00:01\r\u001b[K     |█████████████████████▎          | 1.2 MB 31.1 MB/s eta 0:00:01\r\u001b[K     |█████████████████████▍          | 1.2 MB 31.1 MB/s eta 0:00:01\r\u001b[K     |█████████████████████▋          | 1.2 MB 31.1 MB/s eta 0:00:01\r\u001b[K     |█████████████████████▉          | 1.2 MB 31.1 MB/s eta 0:00:01\r\u001b[K     |██████████████████████          | 1.2 MB 31.1 MB/s eta 0:00:01\r\u001b[K     |██████████████████████▏         | 1.2 MB 31.1 MB/s eta 0:00:01\r\u001b[K     |██████████████████████▍         | 1.2 MB 31.1 MB/s eta 0:00:01\r\u001b[K     |██████████████████████▌         | 1.2 MB 31.1 MB/s eta 0:00:01\r\u001b[K     |██████████████████████▊         | 1.3 MB 31.1 MB/s eta 0:00:01\r\u001b[K     |███████████████████████         | 1.3 MB 31.1 MB/s eta 0:00:01\r\u001b[K     |███████████████████████         | 1.3 MB 31.1 MB/s eta 0:00:01\r\u001b[K     |███████████████████████▎        | 1.3 MB 31.1 MB/s eta 0:00:01\r\u001b[K     |███████████████████████▌        | 1.3 MB 31.1 MB/s eta 0:00:01\r\u001b[K     |███████████████████████▋        | 1.3 MB 31.1 MB/s eta 0:00:01\r\u001b[K     |███████████████████████▉        | 1.3 MB 31.1 MB/s eta 0:00:01\r\u001b[K     |████████████████████████        | 1.3 MB 31.1 MB/s eta 0:00:01\r\u001b[K     |████████████████████████▏       | 1.3 MB 31.1 MB/s eta 0:00:01\r\u001b[K     |████████████████████████▍       | 1.4 MB 31.1 MB/s eta 0:00:01\r\u001b[K     |████████████████████████▋       | 1.4 MB 31.1 MB/s eta 0:00:01\r\u001b[K     |████████████████████████▊       | 1.4 MB 31.1 MB/s eta 0:00:01\r\u001b[K     |█████████████████████████       | 1.4 MB 31.1 MB/s eta 0:00:01\r\u001b[K     |█████████████████████████▏      | 1.4 MB 31.1 MB/s eta 0:00:01\r\u001b[K     |█████████████████████████▎      | 1.4 MB 31.1 MB/s eta 0:00:01\r\u001b[K     |█████████████████████████▌      | 1.4 MB 31.1 MB/s eta 0:00:01\r\u001b[K     |█████████████████████████▊      | 1.4 MB 31.1 MB/s eta 0:00:01\r\u001b[K     |█████████████████████████▉      | 1.4 MB 31.1 MB/s eta 0:00:01\r\u001b[K     |██████████████████████████      | 1.4 MB 31.1 MB/s eta 0:00:01\r\u001b[K     |██████████████████████████▎     | 1.5 MB 31.1 MB/s eta 0:00:01\r\u001b[K     |██████████████████████████▍     | 1.5 MB 31.1 MB/s eta 0:00:01\r\u001b[K     |██████████████████████████▋     | 1.5 MB 31.1 MB/s eta 0:00:01\r\u001b[K     |██████████████████████████▉     | 1.5 MB 31.1 MB/s eta 0:00:01\r\u001b[K     |███████████████████████████     | 1.5 MB 31.1 MB/s eta 0:00:01\r\u001b[K     |███████████████████████████▏    | 1.5 MB 31.1 MB/s eta 0:00:01\r\u001b[K     |███████████████████████████▍    | 1.5 MB 31.1 MB/s eta 0:00:01\r\u001b[K     |███████████████████████████▌    | 1.5 MB 31.1 MB/s eta 0:00:01\r\u001b[K     |███████████████████████████▊    | 1.5 MB 31.1 MB/s eta 0:00:01\r\u001b[K     |████████████████████████████    | 1.5 MB 31.1 MB/s eta 0:00:01\r\u001b[K     |████████████████████████████    | 1.6 MB 31.1 MB/s eta 0:00:01\r\u001b[K     |████████████████████████████▎   | 1.6 MB 31.1 MB/s eta 0:00:01\r\u001b[K     |████████████████████████████▍   | 1.6 MB 31.1 MB/s eta 0:00:01\r\u001b[K     |████████████████████████████▋   | 1.6 MB 31.1 MB/s eta 0:00:01\r\u001b[K     |████████████████████████████▉   | 1.6 MB 31.1 MB/s eta 0:00:01\r\u001b[K     |█████████████████████████████   | 1.6 MB 31.1 MB/s eta 0:00:01\r\u001b[K     |█████████████████████████████▏  | 1.6 MB 31.1 MB/s eta 0:00:01\r\u001b[K     |█████████████████████████████▍  | 1.6 MB 31.1 MB/s eta 0:00:01\r\u001b[K     |█████████████████████████████▌  | 1.6 MB 31.1 MB/s eta 0:00:01\r\u001b[K     |█████████████████████████████▊  | 1.6 MB 31.1 MB/s eta 0:00:01\r\u001b[K     |██████████████████████████████  | 1.7 MB 31.1 MB/s eta 0:00:01\r\u001b[K     |██████████████████████████████  | 1.7 MB 31.1 MB/s eta 0:00:01\r\u001b[K     |██████████████████████████████▎ | 1.7 MB 31.1 MB/s eta 0:00:01\r\u001b[K     |██████████████████████████████▌ | 1.7 MB 31.1 MB/s eta 0:00:01\r\u001b[K     |██████████████████████████████▋ | 1.7 MB 31.1 MB/s eta 0:00:01\r\u001b[K     |██████████████████████████████▉ | 1.7 MB 31.1 MB/s eta 0:00:01\r\u001b[K     |███████████████████████████████ | 1.7 MB 31.1 MB/s eta 0:00:01\r\u001b[K     |███████████████████████████████▏| 1.7 MB 31.1 MB/s eta 0:00:01\r\u001b[K     |███████████████████████████████▍| 1.7 MB 31.1 MB/s eta 0:00:01\r\u001b[K     |███████████████████████████████▋| 1.8 MB 31.1 MB/s eta 0:00:01\r\u001b[K     |███████████████████████████████▊| 1.8 MB 31.1 MB/s eta 0:00:01\r\u001b[K     |████████████████████████████████| 1.8 MB 31.1 MB/s eta 0:00:01\r\u001b[K     |████████████████████████████████| 1.8 MB 31.1 MB/s \n",
            "\u001b[?25hRequirement already satisfied: Click!=8.0.0,>=7.0 in /usr/local/lib/python3.7/dist-packages (from wandb) (7.1.2)\n",
            "Collecting shortuuid>=0.5.0\n",
            "  Downloading shortuuid-1.0.8-py3-none-any.whl (9.5 kB)\n",
            "Requirement already satisfied: python-dateutil>=2.6.1 in /usr/local/lib/python3.7/dist-packages (from wandb) (2.8.2)\n",
            "Collecting sentry-sdk>=1.0.0\n",
            "  Downloading sentry_sdk-1.5.10-py2.py3-none-any.whl (144 kB)\n",
            "\u001b[K     |████████████████████████████████| 144 kB 85.3 MB/s \n",
            "\u001b[?25hRequirement already satisfied: six>=1.13.0 in /usr/local/lib/python3.7/dist-packages (from wandb) (1.15.0)\n",
            "Collecting setproctitle\n",
            "  Downloading setproctitle-1.2.3-cp37-cp37m-manylinux_2_5_x86_64.manylinux1_x86_64.manylinux_2_17_x86_64.manylinux2014_x86_64.whl (29 kB)\n",
            "Requirement already satisfied: protobuf>=3.12.0 in /usr/local/lib/python3.7/dist-packages (from wandb) (3.17.3)\n",
            "Requirement already satisfied: psutil>=5.0.0 in /usr/local/lib/python3.7/dist-packages (from wandb) (5.4.8)\n",
            "Requirement already satisfied: PyYAML in /usr/local/lib/python3.7/dist-packages (from wandb) (3.13)\n",
            "Collecting GitPython>=1.0.0\n",
            "  Downloading GitPython-3.1.27-py3-none-any.whl (181 kB)\n",
            "\u001b[K     |████████████████████████████████| 181 kB 76.8 MB/s \n",
            "\u001b[?25hRequirement already satisfied: requests<3,>=2.0.0 in /usr/local/lib/python3.7/dist-packages (from wandb) (2.23.0)\n",
            "Requirement already satisfied: promise<3,>=2.0 in /usr/local/lib/python3.7/dist-packages (from wandb) (2.3)\n",
            "Collecting pathtools\n",
            "  Downloading pathtools-0.1.2.tar.gz (11 kB)\n",
            "Collecting docker-pycreds>=0.4.0\n",
            "  Downloading docker_pycreds-0.4.0-py2.py3-none-any.whl (9.0 kB)\n",
            "Collecting gitdb<5,>=4.0.1\n",
            "  Downloading gitdb-4.0.9-py3-none-any.whl (63 kB)\n",
            "\u001b[K     |████████████████████████████████| 63 kB 2.1 MB/s \n",
            "\u001b[?25hRequirement already satisfied: typing-extensions>=3.7.4.3 in /usr/local/lib/python3.7/dist-packages (from GitPython>=1.0.0->wandb) (4.2.0)\n",
            "Collecting smmap<6,>=3.0.1\n",
            "  Downloading smmap-5.0.0-py3-none-any.whl (24 kB)\n",
            "Requirement already satisfied: chardet<4,>=3.0.2 in /usr/local/lib/python3.7/dist-packages (from requests<3,>=2.0.0->wandb) (3.0.4)\n",
            "Requirement already satisfied: certifi>=2017.4.17 in /usr/local/lib/python3.7/dist-packages (from requests<3,>=2.0.0->wandb) (2021.10.8)\n",
            "Requirement already satisfied: urllib3!=1.25.0,!=1.25.1,<1.26,>=1.21.1 in /usr/local/lib/python3.7/dist-packages (from requests<3,>=2.0.0->wandb) (1.24.3)\n",
            "Requirement already satisfied: idna<3,>=2.5 in /usr/local/lib/python3.7/dist-packages (from requests<3,>=2.0.0->wandb) (2.10)\n",
            "Building wheels for collected packages: pathtools\n",
            "  Building wheel for pathtools (setup.py) ... \u001b[?25l\u001b[?25hdone\n",
            "  Created wheel for pathtools: filename=pathtools-0.1.2-py3-none-any.whl size=8806 sha256=7000b086845d00a151506e08761deceb53fad6e3e8d0d19098a482fda49f31c9\n",
            "  Stored in directory: /root/.cache/pip/wheels/3e/31/09/fa59cef12cdcfecc627b3d24273699f390e71828921b2cbba2\n",
            "Successfully built pathtools\n",
            "Installing collected packages: smmap, gitdb, shortuuid, setproctitle, sentry-sdk, pathtools, GitPython, docker-pycreds, wandb\n",
            "Successfully installed GitPython-3.1.27 docker-pycreds-0.4.0 gitdb-4.0.9 pathtools-0.1.2 sentry-sdk-1.5.10 setproctitle-1.2.3 shortuuid-1.0.8 smmap-5.0.0 wandb-0.12.15\n"
          ]
        }
      ]
    },
    {
      "cell_type": "markdown",
      "source": [
        "# End-To-End Pipeline"
      ],
      "metadata": {
        "id": "TqwdR_pZe4EZ"
      }
    },
    {
      "cell_type": "code",
      "source": [
        "path = input(\"Enter the File-Path for 10-Seconds Hindi-Music Based Emotion Classification :- \")\n",
        "input_audio , y = lib.load(path)\n",
        "hl = 512 # number of samples per time-step in spectrogram\n",
        "hi = 224 # Height of image\n",
        "wi = 224 # Width of image\n",
        "audio_window = input_audio[0:wi*hl]\n",
        "spectrogram = lib.feature.melspectrogram(y=audio_window, sr=y, n_mels=hi, fmax=8000, hop_length=hl)\n",
        "plot = lib.power_to_db(spectrogram, ref=np.max)\n",
        "plt.imshow(plot)\n",
        "final_plot = cv2.resize(cv2.cvtColor(plot,cv2.COLOR_GRAY2RGB),(224,224))\n",
        "\n",
        "print(\" \")\n",
        "print(\"Pre-Trained Models List\\n\")\n",
        "print(\"1. Alexnet\\n\")\n",
        "print(\"2. EfficientNet-B0\\n\")\n",
        "print(\"3. ResNet18\\n\")\n",
        "print(\"4. VGG16\\n\")\n",
        "print(\"5. MobileNet_V3_Small\\n\")\n",
        "print(\"6. DenseNet121\\n\\n\")\n",
        "model_choice = int(input(\"Enter the Choice of Model :- \\n\"))\n",
        "if model_choice==1:\n",
        "  model = torch.load('/content/drive/MyDrive/DL_Project_2/model_alexnet.pth', map_location='cuda:0')\n",
        "if model_choice==2:\n",
        "  model = torch.load('/content/drive/MyDrive/DL_Project_2/model_eddicientnet_b0.pth', map_location='cuda:0')\n",
        "if model_choice==3:\n",
        "  model = torch.load('/content/drive/MyDrive/DL_Project_2/model_resnet18.pth', map_location='cuda:0')\n",
        "if model_choice==4:\n",
        "  model = torch.load('/content/drive/MyDrive/DL_Project_2/model_vgg16.pth', map_location='cuda:0')\n",
        "if model_choice==5:\n",
        "  model = torch.load('/content/drive/MyDrive/DL_Project_2/model_mobilenet_v3_small.pth', map_location='cuda:0')\n",
        "if model_choice==6:\n",
        "  model = torch.load('/content/drive/MyDrive/DL_Project_2/model_densenet121.pth', map_location='cuda:0')\n",
        "\n",
        "class_map = {0:'Sad',1:'Romantic',2:'Devotional',3:'Party',4:'Happy'}\n",
        "model_input = transforms.Compose([transforms.ToTensor(),transforms.Normalize((0,0,0), (1,1,1))])(final_plot)[None]\n",
        "with torch.no_grad():\n",
        "  output = model(model_input.cuda())\n",
        "  class_predict = output.data.max(1, keepdim=True)[1]\n",
        "  print(\"\\nPredicted Emotion -->\"+class_map[class_predict.cpu().numpy()[0][0]])"
      ],
      "metadata": {
        "colab": {
          "base_uri": "https://localhost:8080/",
          "height": 635
        },
        "id": "qMVJb6cZe0xD",
        "outputId": "25ef97da-a8ce-4496-b358-732bacdc3594"
      },
      "execution_count": 187,
      "outputs": [
        {
          "output_type": "stream",
          "name": "stdout",
          "text": [
            "Enter the File-Path for 10-Seconds Hindi-Music Based Emotion Classification :- /content/drive/MyDrive/DL_Project_2/Happy/Happy/Happy_1.wav\n",
            " \n",
            "Pre-Trained Models List\n",
            "\n",
            "1. Alexnet\n",
            "\n",
            "2. EfficientNet-B0\n",
            "\n",
            "3. ResNet18\n",
            "\n",
            "4. VGG16\n",
            "\n",
            "5. MobileNet_V3_Small\n",
            "\n",
            "6. DenseNet121\n",
            "\n",
            "\n",
            "Enter the Choice of Model :- \n",
            "1\n",
            "Predicted Emotion -->Happy\n"
          ]
        },
        {
          "output_type": "display_data",
          "data": {
            "text/plain": [
              "<Figure size 432x288 with 1 Axes>"
            ],
            "image/png": "[encoded data removed]"
          },
          "metadata": {
            "needs_background": "light"
          }
        }
      ]
    },
    {
      "cell_type": "code",
      "source": [
        ""
      ],
      "metadata": {
        "id": "47BkgGoqlHku"
      },
      "execution_count": 172,
      "outputs": []
    }
  ]
}